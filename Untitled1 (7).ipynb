{
  "nbformat": 4,
  "nbformat_minor": 0,
  "metadata": {
    "colab": {
      "provenance": []
    },
    "kernelspec": {
      "name": "python3",
      "display_name": "Python 3"
    },
    "language_info": {
      "name": "python"
    }
  },
  "cells": [
    {
      "cell_type": "code",
      "source": [
        "from google.colab import drive\n",
        "drive.mount('/content/drive')\n",
        "\n",
        "import os\n",
        "from pathlib import Path\n",
        "\n",
        "base_dir = \"/content/drive/MyDrive/ASVspoof2021\"\n",
        "train_flac_dir = os.path.join(base_dir, \"ASVspoof2021_DF_train\", \"flac\")\n",
        "dev_flac_dir = os.path.join(base_dir, \"ASVspoof2021_DF_dev\", \"flac\")\n",
        "eval_flac_dir = os.path.join(base_dir, \"ASVspoof2021_DF_eval\", \"flac\")\n"
      ],
      "metadata": {
        "colab": {
          "base_uri": "https://localhost:8080/"
        },
        "id": "wuw5vV46V741",
        "outputId": "56ff44d6-7807-4e66-bc34-ca1ea21f2665"
      },
      "execution_count": 1,
      "outputs": [
        {
          "output_type": "stream",
          "name": "stdout",
          "text": [
            "Mounted at /content/drive\n"
          ]
        }
      ]
    },
    {
      "cell_type": "code",
      "source": [
        "import os\n",
        "\n",
        "base_path = \"/content/drive/MyDrive/ASVspoof2021\"\n",
        "\n",
        "\n",
        "for root, dirs, files in os.walk(base_path):\n",
        "    for file in files:\n",
        "        if file.endswith(\".tar.gz\") or file.endswith(\".zip\"):\n",
        "            print(\"Found archive:\", os.path.join(root, file))\n",
        "\n"
      ],
      "metadata": {
        "colab": {
          "base_uri": "https://localhost:8080/"
        },
        "id": "henfvXZ5ROXL",
        "outputId": "3fe123c8-10ea-4feb-cc17-a09c6805c202"
      },
      "execution_count": 2,
      "outputs": [
        {
          "output_type": "stream",
          "name": "stdout",
          "text": [
            "Found archive: /content/drive/MyDrive/ASVspoof2021/ASVspoof2021_DF_eval_part00.tar.gz\n",
            "Found archive: /content/drive/MyDrive/ASVspoof2021/keys/PA-keys-full.tar.gz\n",
            "Found archive: /content/drive/MyDrive/ASVspoof2021/keys/DF-keys-full.tar.gz\n",
            "Found archive: /content/drive/MyDrive/ASVspoof2021/keys/LA-keys-full.tar.gz\n",
            "Found archive: /content/drive/MyDrive/ASVspoof2021/DF_download/ASVspoof2021_DF_eval_part00.tar.gz\n",
            "Found archive: /content/drive/MyDrive/ASVspoof2021/DF_download/ASVspoof2021_DF_eval_part01.tar.gz\n",
            "Found archive: /content/drive/MyDrive/ASVspoof2021/DF_download/ASVspoof2021_DF_eval_part02.tar.gz\n"
          ]
        }
      ]
    },
    {
      "cell_type": "code",
      "source": [
        "import os\n",
        "\n",
        "meta_path = \"/content/drive/MyDrive/ASVspoof2021/keys/DF/CM/trial_metadata.txt\"\n",
        "print(\"Exists:\", os.path.exists(meta_path))\n"
      ],
      "metadata": {
        "colab": {
          "base_uri": "https://localhost:8080/"
        },
        "id": "ge6O0I1OjqjE",
        "outputId": "b419e5f6-21f3-4885-d13f-72b7028bd686"
      },
      "execution_count": 3,
      "outputs": [
        {
          "output_type": "stream",
          "name": "stdout",
          "text": [
            "Exists: True\n"
          ]
        }
      ]
    },
    {
      "cell_type": "code",
      "source": [
        "\n",
        "input_dir = \"/content/drive/MyDrive/ASVspoof2021/ASVspoof2021_DF_eval/flac\"\n",
        "output_dir = \"/content/drive/MyDrive/ASVspoof2021/ASVspoof2021_DF_eval/wav_for_rawnet\"\n"
      ],
      "metadata": {
        "id": "d39BtP26v86c"
      },
      "execution_count": 4,
      "outputs": []
    },
    {
      "cell_type": "code",
      "source": [
        "!git clone https://github.com/Jungjee/RawNet.git\n",
        "%cd RawNet\n",
        "\n"
      ],
      "metadata": {
        "colab": {
          "base_uri": "https://localhost:8080/"
        },
        "id": "ln36kHOi6CGP",
        "outputId": "f50f0f9a-77ce-47bf-8f12-0a28cc68d665"
      },
      "execution_count": 6,
      "outputs": [
        {
          "output_type": "stream",
          "name": "stdout",
          "text": [
            "Cloning into 'RawNet'...\n",
            "remote: Enumerating objects: 619, done.\u001b[K\n",
            "remote: Counting objects: 100% (83/83), done.\u001b[K\n",
            "remote: Compressing objects: 100% (55/55), done.\u001b[K\n",
            "remote: Total 619 (delta 38), reused 45 (delta 25), pack-reused 536 (from 1)\u001b[K\n",
            "Receiving objects: 100% (619/619), 180.00 MiB | 30.02 MiB/s, done.\n",
            "Resolving deltas: 100% (319/319), done.\n",
            "Updating files: 100% (65/65), done.\n",
            "/content/RawNet\n"
          ]
        }
      ]
    },
    {
      "cell_type": "code",
      "source": [
        "import torch\n",
        "print(\"GPU Available:\", torch.cuda.is_available())\n",
        "print(\"Device Name:\", torch.cuda.get_device_name(0) if torch.cuda.is_available() else \"CPU\")\n"
      ],
      "metadata": {
        "colab": {
          "base_uri": "https://localhost:8080/"
        },
        "id": "QlIaY0GW6M90",
        "outputId": "70375b30-4b01-4c64-ad0e-afaf0ed0b855"
      },
      "execution_count": 5,
      "outputs": [
        {
          "output_type": "stream",
          "name": "stdout",
          "text": [
            "GPU Available: False\n",
            "Device Name: CPU\n"
          ]
        }
      ]
    },
    {
      "cell_type": "code",
      "source": [
        "import os\n",
        "import urllib.request\n",
        "import tarfile\n",
        "\n",
        "BASE_URL = \"https://zenodo.org/records/14498691/files/\"\n",
        "DATASET_PATH = \"/content/\"\n",
        "protocol_filename = \"ASVspoof5_protocols.tar.gz\"\n",
        "protocol_filepath = os.path.join(DATASET_PATH, protocol_filename)\n",
        "\n",
        "\n",
        "if not os.path.exists(protocol_filepath):\n",
        "    print(f\"Downloading {protocol_filename}...\")\n",
        "    urllib.request.urlretrieve(BASE_URL + protocol_filename, protocol_filepath)\n",
        "    print(\"Download complete.\")\n",
        "else:\n",
        "    print(f\"{protocol_filename} already exists.\")\n",
        "\n",
        "extracted_folder = os.path.join(DATASET_PATH, \"ASVspoof5_protocols\")\n",
        "if not os.path.exists(extracted_folder):\n",
        "    print(\"Extracting files...\")\n",
        "    with tarfile.open(protocol_filepath, \"r:gz\") as tar:\n",
        "        tar.extractall(DATASET_PATH)\n",
        "    print(\"Extraction complete.\")\n",
        "else:\n",
        "    print(\"Files already extracted.\")\n"
      ],
      "metadata": {
        "colab": {
          "base_uri": "https://localhost:8080/"
        },
        "id": "gbyXC8bW6wF9",
        "outputId": "d9791b58-4b68-495d-d4da-c2664267a8f5"
      },
      "execution_count": 6,
      "outputs": [
        {
          "output_type": "stream",
          "name": "stdout",
          "text": [
            "Downloading ASVspoof5_protocols.tar.gz...\n",
            "Download complete.\n",
            "Extracting files...\n",
            "Extraction complete.\n"
          ]
        }
      ]
    },
    {
      "cell_type": "code",
      "source": [
        "!tar -xvzf /content/ASVspoof5_protocols.tar.gz -C /content/\n"
      ],
      "metadata": {
        "colab": {
          "base_uri": "https://localhost:8080/"
        },
        "id": "RAKXfhLT9DA3",
        "outputId": "aed92474-d0af-4227-c16b-0aa64632b761"
      },
      "execution_count": 9,
      "outputs": [
        {
          "output_type": "stream",
          "name": "stdout",
          "text": [
            "ASVspoof5.codec.config.csv\n",
            "ASVspoof5.dev.track_1.tsv\n",
            "ASVspoof5.dev.track_2.enroll.tsv\n",
            "ASVspoof5.dev.track_2.trial.tsv\n",
            "ASVspoof5.eval.track_1.tsv\n",
            "ASVspoof5.eval.track_2.enroll.tsv\n",
            "ASVspoof5.eval.track_2.trial.tsv\n",
            "ASVspoof5.train.tsv\n"
          ]
        }
      ]
    },
    {
      "cell_type": "code",
      "source": [
        "import pandas as pd\n",
        "\n",
        "protocol_file = \"/content/ASVspoof5.train.tsv\"\n",
        "df_protocol = pd.read_csv(protocol_file, sep=\"\\t\")\n",
        "\n",
        "print(df_protocol.head())\n",
        "\n",
        "\n"
      ],
      "metadata": {
        "colab": {
          "base_uri": "https://localhost:8080/"
        },
        "id": "yyuFfc9C9Nl1",
        "outputId": "07c0013e-640c-4927-ff84-198ac1a973a8"
      },
      "execution_count": 7,
      "outputs": [
        {
          "output_type": "stream",
          "name": "stdout",
          "text": [
            "   T_4850 T_0000000000 F - - - AC3 A05 spoof -\n",
            "0  T_0858 T_0000000001 M - - - AC3 A07 spoof -\n",
            "1  T_4075 T_0000000002 M - - - AC2 A04 spoof -\n",
            "2  T_0938 T_0000000003 M - - - AC2 A08 spoof -\n",
            "3  T_0610 T_0000000004 M - - - AC2 A05 spoof -\n",
            "4  T_2896 T_0000000005 F - - - AC2 A05 spoof -\n"
          ]
        }
      ]
    },
    {
      "cell_type": "code",
      "source": [
        "df_protocol = pd.read_csv(protocol_file, sep=\" \", header=None)\n",
        "print(df_protocol.head())\n",
        "print(df_protocol.shape)\n"
      ],
      "metadata": {
        "colab": {
          "base_uri": "https://localhost:8080/"
        },
        "id": "GVKmd5m69iy_",
        "outputId": "2c65031a-7621-489e-d1c3-faaabee539e5"
      },
      "execution_count": 8,
      "outputs": [
        {
          "output_type": "stream",
          "name": "stdout",
          "text": [
            "        0             1  2  3  4  5    6    7      8  9\n",
            "0  T_4850  T_0000000000  F  -  -  -  AC3  A05  spoof  -\n",
            "1  T_0858  T_0000000001  M  -  -  -  AC3  A07  spoof  -\n",
            "2  T_4075  T_0000000002  M  -  -  -  AC2  A04  spoof  -\n",
            "3  T_0938  T_0000000003  M  -  -  -  AC2  A08  spoof  -\n",
            "4  T_0610  T_0000000004  M  -  -  -  AC2  A05  spoof  -\n",
            "(182357, 10)\n"
          ]
        }
      ]
    },
    {
      "cell_type": "code",
      "source": [
        "import pandas as pd\n",
        "\n",
        "\n",
        "columns = [\"speaker_id\", \"file_name\", \"gender\", \"col1\", \"col2\", \"col3\", \"codec\", \"attack_id\", \"label\", \"col4\"]\n",
        "\n",
        "df_protocol = pd.read_csv(\"/content/ASVspoof5.train.tsv\", sep=\" \", header=None, names=columns)\n",
        "\n",
        "\n",
        "df_protocol = df_protocol.drop(columns=[\"col1\", \"col2\", \"col3\", \"col4\"])\n",
        "\n",
        "\n",
        "df_protocol[\"label\"] = df_protocol[\"label\"].map({\"bonafide\": 1, \"spoof\": 0})\n",
        "\n",
        "\n",
        "print(df_protocol.head())\n",
        "print(df_protocol.info())\n"
      ],
      "metadata": {
        "colab": {
          "base_uri": "https://localhost:8080/"
        },
        "id": "GH-gfBJR-SOz",
        "outputId": "e9577367-90b7-4264-9020-db2c9cdb6e0b"
      },
      "execution_count": 9,
      "outputs": [
        {
          "output_type": "stream",
          "name": "stdout",
          "text": [
            "  speaker_id     file_name gender codec attack_id  label\n",
            "0     T_4850  T_0000000000      F   AC3       A05      0\n",
            "1     T_0858  T_0000000001      M   AC3       A07      0\n",
            "2     T_4075  T_0000000002      M   AC2       A04      0\n",
            "3     T_0938  T_0000000003      M   AC2       A08      0\n",
            "4     T_0610  T_0000000004      M   AC2       A05      0\n",
            "<class 'pandas.core.frame.DataFrame'>\n",
            "RangeIndex: 182357 entries, 0 to 182356\n",
            "Data columns (total 6 columns):\n",
            " #   Column      Non-Null Count   Dtype \n",
            "---  ------      --------------   ----- \n",
            " 0   speaker_id  182357 non-null  object\n",
            " 1   file_name   182357 non-null  object\n",
            " 2   gender      182357 non-null  object\n",
            " 3   codec       182357 non-null  object\n",
            " 4   attack_id   182357 non-null  object\n",
            " 5   label       182357 non-null  int64 \n",
            "dtypes: int64(1), object(5)\n",
            "memory usage: 8.3+ MB\n",
            "None\n"
          ]
        }
      ]
    },
    {
      "cell_type": "code",
      "source": [
        "!tar -xvzf /content/ASVspoof5_protocols.tar.gz -C /content/\n"
      ],
      "metadata": {
        "colab": {
          "base_uri": "https://localhost:8080/"
        },
        "id": "7kR8fr9x_8K0",
        "outputId": "ba6ea3eb-5260-42d8-afb0-ce9e6dc09a66"
      },
      "execution_count": 16,
      "outputs": [
        {
          "output_type": "stream",
          "name": "stdout",
          "text": [
            "ASVspoof5.codec.config.csv\n",
            "ASVspoof5.dev.track_1.tsv\n",
            "ASVspoof5.dev.track_2.enroll.tsv\n",
            "ASVspoof5.dev.track_2.trial.tsv\n",
            "ASVspoof5.eval.track_1.tsv\n",
            "ASVspoof5.eval.track_2.enroll.tsv\n",
            "ASVspoof5.eval.track_2.trial.tsv\n",
            "ASVspoof5.train.tsv\n"
          ]
        }
      ]
    },
    {
      "cell_type": "code",
      "source": [
        "import pandas as pd\n",
        "\n",
        "protocol_file = \"/content/ASVspoof5.train.tsv\"\n",
        "df = pd.read_csv(protocol_file, sep=\"\\s+\", header=None)\n",
        "\n",
        "\n",
        "print(df.head())\n",
        "print(df.shape)\n"
      ],
      "metadata": {
        "colab": {
          "base_uri": "https://localhost:8080/"
        },
        "id": "TFKhUJWmAHyH",
        "outputId": "52f1f4dd-e229-4120-9044-b90ac4a60cdb"
      },
      "execution_count": 14,
      "outputs": [
        {
          "output_type": "stream",
          "name": "stdout",
          "text": [
            "        0             1  2  3  4  5    6    7      8  9\n",
            "0  T_4850  T_0000000000  F  -  -  -  AC3  A05  spoof  -\n",
            "1  T_0858  T_0000000001  M  -  -  -  AC3  A07  spoof  -\n",
            "2  T_4075  T_0000000002  M  -  -  -  AC2  A04  spoof  -\n",
            "3  T_0938  T_0000000003  M  -  -  -  AC2  A08  spoof  -\n",
            "4  T_0610  T_0000000004  M  -  -  -  AC2  A05  spoof  -\n",
            "(182357, 10)\n"
          ]
        }
      ]
    },
    {
      "cell_type": "code",
      "source": [
        "\n",
        "df.columns = [\"speaker_id\", \"file_name\", \"gender\", \"drop1\", \"drop2\", \"drop3\", \"codec\", \"attack_id\", \"label\", \"drop4\"]\n",
        "\n",
        "\n",
        "df = df.drop(columns=[\"drop1\", \"drop2\", \"drop3\", \"drop4\"])\n",
        "\n",
        "\n",
        "df[\"label\"] = df[\"label\"].map({\"spoof\": 0, \"bonafide\": 1})\n",
        "\n",
        "\n",
        "print(df.head())\n",
        "print(df.info())\n",
        "\n"
      ],
      "metadata": {
        "colab": {
          "base_uri": "https://localhost:8080/"
        },
        "id": "YiLzkewhAhAR",
        "outputId": "f1a65da2-1e81-48da-a985-c354fa3271d5"
      },
      "execution_count": 15,
      "outputs": [
        {
          "output_type": "stream",
          "name": "stdout",
          "text": [
            "  speaker_id     file_name gender codec attack_id  label\n",
            "0     T_4850  T_0000000000      F   AC3       A05      0\n",
            "1     T_0858  T_0000000001      M   AC3       A07      0\n",
            "2     T_4075  T_0000000002      M   AC2       A04      0\n",
            "3     T_0938  T_0000000003      M   AC2       A08      0\n",
            "4     T_0610  T_0000000004      M   AC2       A05      0\n",
            "<class 'pandas.core.frame.DataFrame'>\n",
            "RangeIndex: 182357 entries, 0 to 182356\n",
            "Data columns (total 6 columns):\n",
            " #   Column      Non-Null Count   Dtype \n",
            "---  ------      --------------   ----- \n",
            " 0   speaker_id  182357 non-null  object\n",
            " 1   file_name   182357 non-null  object\n",
            " 2   gender      182357 non-null  object\n",
            " 3   codec       182357 non-null  object\n",
            " 4   attack_id   182357 non-null  object\n",
            " 5   label       182357 non-null  int64 \n",
            "dtypes: int64(1), object(5)\n",
            "memory usage: 8.3+ MB\n",
            "None\n"
          ]
        }
      ]
    },
    {
      "cell_type": "code",
      "source": [
        "!wget --content-disposition \"https://zenodo.org/api/records/4835108/files/ASVspoof2021_DF_eval_part00.tar.gz/content\" -P /content/\n",
        "!wget --content-disposition \"https://zenodo.org/api/records/4835108/files/ASVspoof2021_DF_eval_part01.tar.gz/content\" -P /content/\n",
        "!wget --content-disposition \"https://zenodo.org/api/records/4835108/files/ASVspoof2021_DF_eval_part02.tar.gz/content\" -P /content/\n",
        "!wget --content-disposition \"https://zenodo.org/api/records/4835108/files/ASVspoof2021_DF_eval_part03.tar.gz/content\" -P /content/\n"
      ],
      "metadata": {
        "colab": {
          "base_uri": "https://localhost:8080/"
        },
        "id": "0WeNfbJYBvZS",
        "outputId": "8b94a228-7057-4c2a-abaf-24b09853c2ac"
      },
      "execution_count": 16,
      "outputs": [
        {
          "output_type": "stream",
          "name": "stdout",
          "text": [
            "--2025-04-06 15:38:09--  https://zenodo.org/api/records/4835108/files/ASVspoof2021_DF_eval_part00.tar.gz/content\n",
            "Resolving zenodo.org (zenodo.org)... 188.185.48.194, 188.185.43.25, 188.185.45.92, ...\n",
            "Connecting to zenodo.org (zenodo.org)|188.185.48.194|:443... connected.\n",
            "HTTP request sent, awaiting response... 200 OK\n",
            "Length: 8637050238 (8.0G) [application/octet-stream]\n",
            "Saving to: ‘/content/ASVspoof2021_DF_eval_part00.tar.gz’\n",
            "\n",
            "                      0%[                    ]  20.44M   968KB/s    eta 2h 20m ^C\n",
            "--2025-04-06 15:38:31--  https://zenodo.org/api/records/4835108/files/ASVspoof2021_DF_eval_part01.tar.gz/content\n",
            "Resolving zenodo.org (zenodo.org)... 188.185.48.194, 188.185.43.25, 188.185.45.92, ...\n",
            "Connecting to zenodo.org (zenodo.org)|188.185.48.194|:443... connected.\n",
            "HTTP request sent, awaiting response... 200 OK\n",
            "Length: 8624944890 (8.0G) [application/octet-stream]\n",
            "Saving to: ‘/content/ASVspoof2021_DF_eval_part01.tar.gz’\n",
            "\n",
            "021_DF_eval_part01.   0%[                    ]   3.26M   806KB/s    eta 2h 54m ^C\n",
            "--2025-04-06 15:38:36--  https://zenodo.org/api/records/4835108/files/ASVspoof2021_DF_eval_part02.tar.gz/content\n",
            "Resolving zenodo.org (zenodo.org)... 188.185.48.194, 188.185.43.25, 188.185.45.92, ...\n",
            "Connecting to zenodo.org (zenodo.org)|188.185.48.194|:443... connected.\n",
            "HTTP request sent, awaiting response... ^C\n",
            "--2025-04-06 15:38:37--  https://zenodo.org/api/records/4835108/files/ASVspoof2021_DF_eval_part03.tar.gz/content\n",
            "Resolving zenodo.org (zenodo.org)... 188.185.48.194, 188.185.43.25, 188.185.45.92, ...\n",
            "Connecting to zenodo.org (zenodo.org)|188.185.48.194|:443... connected.\n",
            "HTTP request sent, awaiting response... 200 OK\n",
            "Length: 8656151261 (8.1G) [application/octet-stream]\n",
            "Saving to: ‘/content/ASVspoof2021_DF_eval_part03.tar.gz’\n",
            "\n",
            "  ASVspoof2021_DF_e   0%[                    ]   1.26M   726KB/s               ^C\n"
          ]
        }
      ]
    },
    {
      "cell_type": "code",
      "source": [
        "!apt-get install aria2 -y\n",
        "!aria2c -x 16 -s 16 \"https://zenodo.org/api/records/4835108/files/ASVspoof2021_DF_eval_part00.tar.gz/content\" -d /content/\n",
        "!aria2c -x 16 -s 16 \"https://zenodo.org/api/records/4835108/files/ASVspoof2021_DF_eval_part01.tar.gz/content\" -d /content/\n",
        "!aria2c -x 16 -s 16 \"https://zenodo.org/api/records/4835108/files/ASVspoof2021_DF_eval_part02.tar.gz/content\" -d /content/\n",
        "!aria2c -x 16 -s 16 \"https://zenodo.org/api/records/4835108/files/ASVspoof2021_DF_eval_part03.tar.gz/content\" -d /content/\n"
      ],
      "metadata": {
        "colab": {
          "base_uri": "https://localhost:8080/"
        },
        "id": "a50urwOqL0dg",
        "outputId": "b95732db-1515-4c23-d741-3ccbe1b78556"
      },
      "execution_count": 58,
      "outputs": [
        {
          "output_type": "stream",
          "name": "stdout",
          "text": [
            "Reading package lists... Done\n",
            "Building dependency tree... Done\n",
            "Reading state information... Done\n",
            "The following additional packages will be installed:\n",
            "  libaria2-0 libc-ares2\n",
            "The following NEW packages will be installed:\n",
            "  aria2 libaria2-0 libc-ares2\n",
            "0 upgraded, 3 newly installed, 0 to remove and 29 not upgraded.\n",
            "Need to get 1,513 kB of archives.\n",
            "After this operation, 5,441 kB of additional disk space will be used.\n",
            "Get:1 http://archive.ubuntu.com/ubuntu jammy-updates/main amd64 libc-ares2 amd64 1.18.1-1ubuntu0.22.04.3 [45.1 kB]\n",
            "Get:2 http://archive.ubuntu.com/ubuntu jammy/universe amd64 libaria2-0 amd64 1.36.0-1 [1,086 kB]\n",
            "Get:3 http://archive.ubuntu.com/ubuntu jammy/universe amd64 aria2 amd64 1.36.0-1 [381 kB]\n",
            "Fetched 1,513 kB in 1s (1,020 kB/s)\n",
            "Selecting previously unselected package libc-ares2:amd64.\n",
            "(Reading database ... 126210 files and directories currently installed.)\n",
            "Preparing to unpack .../libc-ares2_1.18.1-1ubuntu0.22.04.3_amd64.deb ...\n",
            "Unpacking libc-ares2:amd64 (1.18.1-1ubuntu0.22.04.3) ...\n",
            "Selecting previously unselected package libaria2-0:amd64.\n",
            "Preparing to unpack .../libaria2-0_1.36.0-1_amd64.deb ...\n",
            "Unpacking libaria2-0:amd64 (1.36.0-1) ...\n",
            "Selecting previously unselected package aria2.\n",
            "Preparing to unpack .../aria2_1.36.0-1_amd64.deb ...\n",
            "Unpacking aria2 (1.36.0-1) ...\n",
            "Setting up libc-ares2:amd64 (1.18.1-1ubuntu0.22.04.3) ...\n",
            "Setting up libaria2-0:amd64 (1.36.0-1) ...\n",
            "Setting up aria2 (1.36.0-1) ...\n",
            "Processing triggers for man-db (2.10.2-1) ...\n",
            "Processing triggers for libc-bin (2.35-0ubuntu3.8) ...\n",
            "/sbin/ldconfig.real: /usr/local/lib/libtbbbind_2_5.so.3 is not a symbolic link\n",
            "\n",
            "/sbin/ldconfig.real: /usr/local/lib/libumf.so.0 is not a symbolic link\n",
            "\n",
            "/sbin/ldconfig.real: /usr/local/lib/libtbbmalloc_proxy.so.2 is not a symbolic link\n",
            "\n",
            "/sbin/ldconfig.real: /usr/local/lib/libtcm.so.1 is not a symbolic link\n",
            "\n",
            "/sbin/ldconfig.real: /usr/local/lib/libtcm_debug.so.1 is not a symbolic link\n",
            "\n",
            "/sbin/ldconfig.real: /usr/local/lib/libur_adapter_opencl.so.0 is not a symbolic link\n",
            "\n",
            "/sbin/ldconfig.real: /usr/local/lib/libtbbmalloc.so.2 is not a symbolic link\n",
            "\n",
            "/sbin/ldconfig.real: /usr/local/lib/libur_adapter_level_zero.so.0 is not a symbolic link\n",
            "\n",
            "/sbin/ldconfig.real: /usr/local/lib/libtbbbind_2_0.so.3 is not a symbolic link\n",
            "\n",
            "/sbin/ldconfig.real: /usr/local/lib/libtbbbind.so.3 is not a symbolic link\n",
            "\n",
            "/sbin/ldconfig.real: /usr/local/lib/libhwloc.so.15 is not a symbolic link\n",
            "\n",
            "/sbin/ldconfig.real: /usr/local/lib/libur_loader.so.0 is not a symbolic link\n",
            "\n",
            "/sbin/ldconfig.real: /usr/local/lib/libtbb.so.12 is not a symbolic link\n",
            "\n",
            "\n",
            "04/02 15:47:19 [\u001b[1;32mNOTICE\u001b[0m] Downloading 1 item(s)\n",
            "\n",
            "04/02 15:47:20 [\u001b[1;32mNOTICE\u001b[0m] File already exists. Renamed to /content//ASVspoof2021_DF_eval_part00.tar.1.gz.\n",
            " *** Download Progress Summary as of Wed Apr  2 15:48:20 2025 *** \n",
            "=\n",
            "[#baa6ca 592MiB/8.0GiB(7%) CN:16 DL:10MiB ETA:12m22s]\n",
            "FILE: /content//ASVspoof2021_DF_eval_part00.tar.1.gz\n",
            "-\n",
            "\n",
            " *** Download Progress Summary as of Wed Apr  2 15:49:20 2025 *** \n",
            "=\n",
            "[#baa6ca 1.1GiB/8.0GiB(14%) CN:16 DL:10MiB ETA:11m30s]\n",
            "FILE: /content//ASVspoof2021_DF_eval_part00.tar.1.gz\n",
            "-\n",
            "\n",
            " *** Download Progress Summary as of Wed Apr  2 15:50:21 2025 *** \n",
            "=\n",
            "[#baa6ca 1.8GiB/8.0GiB(22%) CN:16 DL:10MiB ETA:9m39s]\n",
            "FILE: /content//ASVspoof2021_DF_eval_part00.tar.1.gz\n",
            "-\n",
            "\n",
            " *** Download Progress Summary as of Wed Apr  2 15:51:21 2025 *** \n",
            "=\n",
            "[#baa6ca 2.4GiB/8.0GiB(30%) CN:16 DL:11MiB ETA:8m36s]\n",
            "FILE: /content//ASVspoof2021_DF_eval_part00.tar.1.gz\n",
            "-\n",
            "\n",
            " *** Download Progress Summary as of Wed Apr  2 15:52:21 2025 *** \n",
            "=\n",
            "[#baa6ca 3.1GiB/8.0GiB(38%) CN:16 DL:11MiB ETA:7m30s]\n",
            "FILE: /content//ASVspoof2021_DF_eval_part00.tar.1.gz\n",
            "-\n",
            "\n",
            " *** Download Progress Summary as of Wed Apr  2 15:53:22 2025 *** \n",
            "=\n",
            "[#baa6ca 6.1GiB/8.0GiB(75%) CN:16 DL:60MiB ETA:32s]\n",
            "FILE: /content//ASVspoof2021_DF_eval_part00.tar.1.gz\n",
            "-\n",
            "\n",
            "\u001b[0m\n",
            "04/02 15:53:48 [\u001b[1;32mNOTICE\u001b[0m] Download complete: /content//ASVspoof2021_DF_eval_part00.tar.1.gz\n",
            "\n",
            "Download Results:\n",
            "gid   |stat|avg speed  |path/URI\n",
            "======+====+===========+=======================================================\n",
            "baa6ca|\u001b[1;32mOK\u001b[0m  |    21MiB/s|/content//ASVspoof2021_DF_eval_part00.tar.1.gz\n",
            "\n",
            "Status Legend:\n",
            "(OK):download completed.\n",
            "\n",
            "04/02 15:53:48 [\u001b[1;32mNOTICE\u001b[0m] Downloading 1 item(s)\n",
            "\n",
            "04/02 15:53:48 [\u001b[1;32mNOTICE\u001b[0m] File already exists. Renamed to /content//ASVspoof2021_DF_eval_part01.tar.1.gz.\n",
            " *** Download Progress Summary as of Wed Apr  2 15:54:48 2025 *** \n",
            "=\n",
            "[#917c8e 5.7GiB/8.0GiB(71%) CN:16 DL:107MiB ETA:22s]\n",
            "FILE: /content//ASVspoof2021_DF_eval_part01.tar.1.gz\n",
            "-\n",
            "\n",
            "\u001b[0m\n",
            "04/02 15:55:18 [\u001b[1;32mNOTICE\u001b[0m] Download complete: /content//ASVspoof2021_DF_eval_part01.tar.1.gz\n",
            "\n",
            "Download Results:\n",
            "gid   |stat|avg speed  |path/URI\n",
            "======+====+===========+=======================================================\n",
            "917c8e|\u001b[1;32mOK\u001b[0m  |    92MiB/s|/content//ASVspoof2021_DF_eval_part01.tar.1.gz\n",
            "\n",
            "Status Legend:\n",
            "(OK):download completed.\n",
            "\n",
            "04/02 15:55:18 [\u001b[1;32mNOTICE\u001b[0m] Downloading 1 item(s)\n",
            "\n",
            "04/02 15:55:18 [\u001b[1;32mNOTICE\u001b[0m] File already exists. Renamed to /content//ASVspoof2021_DF_eval_part02.tar.1.gz.\n",
            " *** Download Progress Summary as of Wed Apr  2 15:56:18 2025 *** \n",
            "=\n",
            "[#e95be8 666MiB/8.0GiB(8%) CN:16 DL:11MiB ETA:11m1s]\n",
            "FILE: /content//ASVspoof2021_DF_eval_part02.tar.1.gz\n",
            "-\n",
            "\n",
            " *** Download Progress Summary as of Wed Apr  2 15:57:18 2025 *** \n",
            "=\n",
            "[#e95be8 1.3GiB/8.0GiB(16%) CN:16 DL:11MiB ETA:9m33s]\n",
            "FILE: /content//ASVspoof2021_DF_eval_part02.tar.1.gz\n",
            "-\n",
            "\n",
            " *** Download Progress Summary as of Wed Apr  2 15:58:18 2025 *** \n",
            "=\n",
            "[#e95be8 2.0GiB/8.0GiB(25%) CN:16 DL:11MiB ETA:8m47s]\n",
            "FILE: /content//ASVspoof2021_DF_eval_part02.tar.1.gz\n",
            "-\n",
            "\n",
            " *** Download Progress Summary as of Wed Apr  2 15:59:19 2025 *** \n",
            "=\n",
            "[#e95be8 2.7GiB/8.0GiB(34%) CN:16 DL:10MiB ETA:8m17s]\n",
            "FILE: /content//ASVspoof2021_DF_eval_part02.tar.1.gz\n",
            "-\n",
            "\n",
            " *** Download Progress Summary as of Wed Apr  2 16:00:19 2025 *** \n",
            "=\n",
            "[#e95be8 3.4GiB/8.0GiB(42%) CN:16 DL:11MiB ETA:6m48s]\n",
            "FILE: /content//ASVspoof2021_DF_eval_part02.tar.1.gz\n",
            "-\n",
            "\n",
            " *** Download Progress Summary as of Wed Apr  2 16:01:20 2025 *** \n",
            "=\n",
            "[#e95be8 4.1GiB/8.0GiB(51%) CN:16 DL:11MiB ETA:5m38s]\n",
            "FILE: /content//ASVspoof2021_DF_eval_part02.tar.1.gz\n",
            "-\n",
            "\n",
            " *** Download Progress Summary as of Wed Apr  2 16:02:21 2025 *** \n",
            "=\n",
            "[#e95be8 4.8GiB/8.0GiB(60%) CN:16 DL:11MiB ETA:4m34s]\n",
            "FILE: /content//ASVspoof2021_DF_eval_part02.tar.1.gz\n",
            "-\n",
            "\n",
            " *** Download Progress Summary as of Wed Apr  2 16:03:21 2025 *** \n",
            "=\n",
            "[#e95be8 5.5GiB/8.0GiB(69%) CN:16 DL:12MiB ETA:3m15s]\n",
            "FILE: /content//ASVspoof2021_DF_eval_part02.tar.1.gz\n",
            "-\n",
            "\n",
            " *** Download Progress Summary as of Wed Apr  2 16:04:21 2025 *** \n",
            "=\n",
            "[#e95be8 6.3GiB/8.0GiB(78%) CN:16 DL:12MiB ETA:2m16s]\n",
            "FILE: /content//ASVspoof2021_DF_eval_part02.tar.1.gz\n",
            "-\n",
            "\n",
            " *** Download Progress Summary as of Wed Apr  2 16:05:21 2025 *** \n",
            "=\n",
            "[#e95be8 7.0GiB/8.0GiB(88%) CN:16 DL:13MiB ETA:1m11s]\n",
            "FILE: /content//ASVspoof2021_DF_eval_part02.tar.1.gz\n",
            "-\n",
            "\n",
            " *** Download Progress Summary as of Wed Apr  2 16:06:22 2025 *** \n",
            "=\n",
            "[#e95be8 7.8GiB/8.0GiB(98%) CN:11 DL:11MiB ETA:13s]\n",
            "FILE: /content//ASVspoof2021_DF_eval_part02.tar.1.gz\n",
            "-\n",
            "\n",
            "\u001b[0m\n",
            "04/02 16:07:02 [\u001b[1;32mNOTICE\u001b[0m] Download complete: /content//ASVspoof2021_DF_eval_part02.tar.1.gz\n",
            "\n",
            "Download Results:\n",
            "gid   |stat|avg speed  |path/URI\n",
            "======+====+===========+=======================================================\n",
            "e95be8|\u001b[1;32mOK\u001b[0m  |    11MiB/s|/content//ASVspoof2021_DF_eval_part02.tar.1.gz\n",
            "\n",
            "Status Legend:\n",
            "(OK):download completed.\n",
            "\n",
            "04/02 16:07:02 [\u001b[1;32mNOTICE\u001b[0m] Downloading 1 item(s)\n",
            "\n",
            "04/02 16:07:02 [\u001b[1;32mNOTICE\u001b[0m] File already exists. Renamed to /content//ASVspoof2021_DF_eval_part03.tar.1.gz.\n",
            " *** Download Progress Summary as of Wed Apr  2 16:08:02 2025 *** \n",
            "=\n",
            "[#581d3a 561MiB/8.0GiB(6%) CN:16 DL:9.8MiB ETA:13m4s]\n",
            "FILE: /content//ASVspoof2021_DF_eval_part03.tar.1.gz\n",
            "-\n",
            "\n",
            " *** Download Progress Summary as of Wed Apr  2 16:09:02 2025 *** \n",
            "=\n",
            "[#581d3a 1.1GiB/8.0GiB(14%) CN:16 DL:9.9MiB ETA:11m48s]\n",
            "FILE: /content//ASVspoof2021_DF_eval_part03.tar.1.gz\n",
            "-\n",
            "\n",
            " *** Download Progress Summary as of Wed Apr  2 16:10:02 2025 *** \n",
            "=\n",
            "[#581d3a 1.7GiB/8.0GiB(22%) CN:16 DL:10MiB ETA:9m57s]\n",
            "FILE: /content//ASVspoof2021_DF_eval_part03.tar.1.gz\n",
            "-\n",
            "\n",
            " *** Download Progress Summary as of Wed Apr  2 16:11:03 2025 *** \n",
            "=\n",
            "[#581d3a 2.4GiB/8.0GiB(30%) CN:16 DL:11MiB ETA:8m30s]\n",
            "FILE: /content//ASVspoof2021_DF_eval_part03.tar.1.gz\n",
            "-\n",
            "\n",
            " *** Download Progress Summary as of Wed Apr  2 16:12:03 2025 *** \n",
            "=\n",
            "[#581d3a 3.1GiB/8.0GiB(38%) CN:16 DL:11MiB ETA:7m25s]\n",
            "FILE: /content//ASVspoof2021_DF_eval_part03.tar.1.gz\n",
            "-\n",
            "\n",
            " *** Download Progress Summary as of Wed Apr  2 16:13:04 2025 *** \n",
            "=\n",
            "[#581d3a 3.8GiB/8.0GiB(47%) CN:16 DL:11MiB ETA:6m8s]\n",
            "FILE: /content//ASVspoof2021_DF_eval_part03.tar.1.gz\n",
            "-\n",
            "\n",
            " *** Download Progress Summary as of Wed Apr  2 16:14:05 2025 *** \n",
            "=\n",
            "[#581d3a 4.5GiB/8.0GiB(56%) CN:16 DL:11MiB ETA:5m18s]\n",
            "FILE: /content//ASVspoof2021_DF_eval_part03.tar.1.gz\n",
            "-\n",
            "\n",
            " *** Download Progress Summary as of Wed Apr  2 16:15:06 2025 *** \n",
            "=\n",
            "[#581d3a 5.1GiB/8.0GiB(64%) CN:16 DL:11MiB ETA:4m21s]\n",
            "FILE: /content//ASVspoof2021_DF_eval_part03.tar.1.gz\n",
            "-\n",
            "\n",
            " *** Download Progress Summary as of Wed Apr  2 16:16:06 2025 *** \n",
            "=\n",
            "[#581d3a 5.8GiB/8.0GiB(72%) CN:16 DL:11MiB ETA:3m15s]\n",
            "FILE: /content//ASVspoof2021_DF_eval_part03.tar.1.gz\n",
            "-\n",
            "\n",
            " *** Download Progress Summary as of Wed Apr  2 16:17:06 2025 *** \n",
            "=\n",
            "[#581d3a 6.5GiB/8.0GiB(81%) CN:16 DL:11MiB ETA:2m15s]\n",
            "FILE: /content//ASVspoof2021_DF_eval_part03.tar.1.gz\n",
            "-\n",
            "\n",
            " *** Download Progress Summary as of Wed Apr  2 16:18:07 2025 *** \n",
            "=\n",
            "[#581d3a 7.2GiB/8.0GiB(89%) CN:16 DL:10MiB ETA:1m19s]\n",
            "FILE: /content//ASVspoof2021_DF_eval_part03.tar.1.gz\n",
            "-\n",
            "\n",
            " *** Download Progress Summary as of Wed Apr  2 16:19:07 2025 *** \n",
            "=\n",
            "[#581d3a 7.8GiB/8.0GiB(97%) CN:16 DL:11MiB ETA:17s]\n",
            "FILE: /content//ASVspoof2021_DF_eval_part03.tar.1.gz\n",
            "-\n",
            "\n",
            "\u001b[0m\n",
            "04/02 16:19:48 [\u001b[1;32mNOTICE\u001b[0m] Download complete: /content//ASVspoof2021_DF_eval_part03.tar.1.gz\n",
            "\n",
            "Download Results:\n",
            "gid   |stat|avg speed  |path/URI\n",
            "======+====+===========+=======================================================\n",
            "581d3a|\u001b[1;32mOK\u001b[0m  |    10MiB/s|/content//ASVspoof2021_DF_eval_part03.tar.1.gz\n",
            "\n",
            "Status Legend:\n",
            "(OK):download completed.\n"
          ]
        }
      ]
    },
    {
      "cell_type": "code",
      "source": [
        "mkdir -p /content/drive/MyDrive/ASVspoof2021\n"
      ],
      "metadata": {
        "id": "UG3fTwJZT4l0"
      },
      "execution_count": 12,
      "outputs": []
    },
    {
      "cell_type": "code",
      "source": [
        "!mv /content/ASVspoof2021_DF_eval_part*.tar.gz /content/drive/MyDrive/ASVspoof2021/\n"
      ],
      "metadata": {
        "id": "JloNtTc-UU9z"
      },
      "execution_count": 1,
      "outputs": []
    },
    {
      "cell_type": "code",
      "source": [
        "!tar -xvzf /content/drive/MyDrive/ASVspoof2021/ASVspoof2021_DF_eval_part00.tar.gz -C /content/drive/MyDrive/ASVspoof2021/\n",
        "!tar -xvzf /content/drive/MyDrive/ASVspoof2021/ASVspoof2021_DF_eval_part01.tar.gz -C /content/drive/MyDrive/ASVspoof2021/\n",
        "!tar -xvzf /content/drive/MyDrive/ASVspoof2021/ASVspoof2021_DF_eval_part02.tar.gz -C /content/drive/MyDrive/ASVspoof2021/\n",
        "!tar -xvzf /content/drive/MyDrive/ASVspoof2021/ASVspoof2021_DF_eval_part03.tar.gz -C /content/drive/MyDrive/ASVspoof2021/\n"
      ],
      "metadata": {
        "colab": {
          "base_uri": "https://localhost:8080/"
        },
        "id": "QgaJMO9BZiYT",
        "outputId": "32529d59-67eb-4f8b-f157-79976a4fd7a4"
      },
      "execution_count": 7,
      "outputs": [
        {
          "output_type": "stream",
          "name": "stdout",
          "text": [
            "ASVspoof2021_DF_eval/ASVspoof2021.DF.cm.eval.trl.txt\n",
            "ASVspoof2021_DF_eval/LICENSE.DF.txt\n",
            "ASVspoof2021_DF_eval/README.DF.txt\n",
            "ASVspoof2021_DF_eval/flac/DF_E_2000011.flac\n",
            "ASVspoof2021_DF_eval/flac/DF_E_2000013.flac\n",
            "ASVspoof2021_DF_eval/flac/DF_E_2000024.flac\n",
            "ASVspoof2021_DF_eval/flac/DF_E_2000026.flac\n",
            "ASVspoof2021_DF_eval/flac/DF_E_2000027.flac\n",
            "ASVspoof2021_DF_eval/flac/DF_E_2000028.flac\n",
            "ASVspoof2021_DF_eval/flac/DF_E_2000031.flac\n",
            "ASVspoof2021_DF_eval/flac/DF_E_2000032.flac\n",
            "ASVspoof2021_DF_eval/flac/DF_E_2000040.flac\n",
            "ASVspoof2021_DF_eval/flac/DF_E_2000042.flac\n",
            "ASVspoof2021_DF_eval/flac/DF_E_2000044.flac\n",
            "ASVspoof2021_DF_eval/flac/DF_E_2000048.flac\n",
            "ASVspoof2021_DF_eval/flac/DF_E_2000049.flac\n",
            "ASVspoof2021_DF_eval/flac/DF_E_2000053.flac\n",
            "ASVspoof2021_DF_eval/flac/DF_E_2000055.flac\n",
            "ASVspoof2021_DF_eval/flac/DF_E_2000058.flac\n",
            "ASVspoof2021_DF_eval/flac/DF_E_2000072.flac\n",
            "ASVspoof2021_DF_eval/flac/DF_E_2000075.flac\n",
            "ASVspoof2021_DF_eval/flac/DF_E_2000079.flac\n",
            "ASVspoof2021_DF_eval/flac/DF_E_2000080.flac\n",
            "ASVspoof2021_DF_eval/flac/DF_E_2000091.flac\n",
            "ASVspoof2021_DF_eval/flac/DF_E_2000096.flac\n",
            "ASVspoof2021_DF_eval/flac/DF_E_2000100.flac\n",
            "ASVspoof2021_DF_eval/flac/DF_E_2000102.flac\n",
            "ASVspoof2021_DF_eval/flac/DF_E_2000106.flac\n",
            "ASVspoof2021_DF_eval/flac/DF_E_2000115.flac\n",
            "ASVspoof2021_DF_eval/flac/DF_E_2000117.flac\n",
            "ASVspoof2021_DF_eval/flac/DF_E_2000123.flac\n",
            "ASVspoof2021_DF_eval/flac/DF_E_2000125.flac\n",
            "ASVspoof2021_DF_eval/flac/DF_E_2000126.flac\n",
            "ASVspoof2021_DF_eval/flac/DF_E_2000127.flac\n",
            "ASVspoof2021_DF_eval/flac/DF_E_2000128.flac\n",
            "ASVspoof2021_DF_eval/flac/DF_E_2000132.flac\n",
            "ASVspoof2021_DF_eval/flac/DF_E_2000137.flac\n",
            "ASVspoof2021_DF_eval/flac/DF_E_2000142.flac\n",
            "ASVspoof2021_DF_eval/flac/DF_E_2000143.flac\n",
            "ASVspoof2021_DF_eval/flac/DF_E_2000147.flac\n",
            "ASVspoof2021_DF_eval/flac/DF_E_2000151.flac\n",
            "ASVspoof2021_DF_eval/flac/DF_E_2000154.flac\n",
            "ASVspoof2021_DF_eval/flac/DF_E_2000160.flac\n",
            "ASVspoof2021_DF_eval/flac/DF_E_2000162.flac\n",
            "ASVspoof2021_DF_eval/flac/DF_E_2000165.flac\n",
            "ASVspoof2021_DF_eval/flac/DF_E_2000177.flac\n",
            "ASVspoof2021_DF_eval/flac/DF_E_2000179.flac\n",
            "ASVspoof2021_DF_eval/flac/DF_E_2000180.flac\n",
            "ASVspoof2021_DF_eval/flac/DF_E_2000182.flac\n",
            "ASVspoof2021_DF_eval/flac/DF_E_2000183.flac\n",
            "ASVspoof2021_DF_eval/flac/DF_E_2000193.flac\n",
            "ASVspoof2021_DF_eval/flac/DF_E_2000199.flac\n",
            "ASVspoof2021_DF_eval/flac/DF_E_2000200.flac\n",
            "ASVspoof2021_DF_eval/flac/DF_E_2000201.flac\n",
            "ASVspoof2021_DF_eval/flac/DF_E_2000207.flac\n",
            "ASVspoof2021_DF_eval/flac/DF_E_2000211.flac\n",
            "ASVspoof2021_DF_eval/flac/DF_E_2000212.flac\n",
            "ASVspoof2021_DF_eval/flac/DF_E_2000213.flac\n",
            "ASVspoof2021_DF_eval/flac/DF_E_2000216.flac\n",
            "ASVspoof2021_DF_eval/flac/DF_E_2000218.flac\n",
            "ASVspoof2021_DF_eval/flac/DF_E_2000223.flac\n",
            "ASVspoof2021_DF_eval/flac/DF_E_2000228.flac\n",
            "ASVspoof2021_DF_eval/flac/DF_E_2000237.flac\n",
            "ASVspoof2021_DF_eval/flac/DF_E_2000243.flac\n",
            "ASVspoof2021_DF_eval/flac/DF_E_2000246.flac\n",
            "ASVspoof2021_DF_eval/flac/DF_E_2000254.flac\n",
            "ASVspoof2021_DF_eval/flac/DF_E_2000263.flac\n",
            "ASVspoof2021_DF_eval/flac/DF_E_2000265.flac\n",
            "ASVspoof2021_DF_eval/flac/DF_E_2000266.flac\n",
            "ASVspoof2021_DF_eval/flac/DF_E_2000269.flac\n",
            "ASVspoof2021_DF_eval/flac/DF_E_2000285.flac\n",
            "ASVspoof2021_DF_eval/flac/DF_E_2000289.flac\n",
            "ASVspoof2021_DF_eval/flac/DF_E_2000301.flac\n",
            "ASVspoof2021_DF_eval/flac/DF_E_2000302.flac\n",
            "ASVspoof2021_DF_eval/flac/DF_E_2000311.flac\n",
            "ASVspoof2021_DF_eval/flac/DF_E_2000329.flac\n",
            "ASVspoof2021_DF_eval/flac/DF_E_2000339.flac\n",
            "ASVspoof2021_DF_eval/flac/DF_E_2000344.flac\n",
            "ASVspoof2021_DF_eval/flac/DF_E_2000346.flac\n",
            "ASVspoof2021_DF_eval/flac/DF_E_2000347.flac\n",
            "ASVspoof2021_DF_eval/flac/DF_E_2000348.flac\n",
            "ASVspoof2021_DF_eval/flac/DF_E_2000349.flac\n",
            "ASVspoof2021_DF_eval/flac/DF_E_2000353.flac\n",
            "ASVspoof2021_DF_eval/flac/DF_E_2000356.flac\n",
            "ASVspoof2021_DF_eval/flac/DF_E_2000361.flac\n",
            "ASVspoof2021_DF_eval/flac/DF_E_2000366.flac\n",
            "ASVspoof2021_DF_eval/flac/DF_E_2000378.flac\n",
            "ASVspoof2021_DF_eval/flac/DF_E_2000380.flac\n",
            "ASVspoof2021_DF_eval/flac/DF_E_2000382.flac\n",
            "ASVspoof2021_DF_eval/flac/DF_E_2000388.flac\n",
            "ASVspoof2021_DF_eval/flac/DF_E_2000391.flac\n",
            "ASVspoof2021_DF_eval/flac/DF_E_2000395.flac\n",
            "ASVspoof2021_DF_eval/flac/DF_E_2000398.flac\n",
            "ASVspoof2021_DF_eval/flac/DF_E_2000403.flac\n",
            "ASVspoof2021_DF_eval/flac/DF_E_2000406.flac\n",
            "ASVspoof2021_DF_eval/flac/DF_E_2000408.flac\n",
            "ASVspoof2021_DF_eval/flac/DF_E_2000410.flac\n",
            "ASVspoof2021_DF_eval/flac/DF_E_2000412.flac\n",
            "ASVspoof2021_DF_eval/flac/DF_E_2000416.flac\n",
            "ASVspoof2021_DF_eval/flac/DF_E_2000418.flac\n",
            "ASVspoof2021_DF_eval/flac/DF_E_2000421.flac\n",
            "ASVspoof2021_DF_eval/flac/DF_E_2000433.flac\n",
            "ASVspoof2021_DF_eval/flac/DF_E_2000434.flac\n",
            "ASVspoof2021_DF_eval/flac/DF_E_2000447.flac\n",
            "ASVspoof2021_DF_eval/flac/DF_E_2000451.flac\n",
            "ASVspoof2021_DF_eval/flac/DF_E_2000459.flac\n",
            "ASVspoof2021_DF_eval/flac/DF_E_2000464.flac\n",
            "ASVspoof2021_DF_eval/flac/DF_E_2000465.flac\n",
            "ASVspoof2021_DF_eval/flac/DF_E_2000466.flac\n",
            "ASVspoof2021_DF_eval/flac/DF_E_2000471.flac\n",
            "ASVspoof2021_DF_eval/flac/DF_E_2000473.flac\n",
            "ASVspoof2021_DF_eval/flac/DF_E_2000475.flac\n",
            "ASVspoof2021_DF_eval/flac/DF_E_2000476.flac\n",
            "ASVspoof2021_DF_eval/flac/DF_E_2000488.flac\n",
            "ASVspoof2021_DF_eval/flac/DF_E_2000492.flac\n",
            "ASVspoof2021_DF_eval/flac/DF_E_2000502.flac\n",
            "ASVspoof2021_DF_eval/flac/DF_E_2000503.flac\n",
            "ASVspoof2021_DF_eval/flac/DF_E_2000508.flac\n",
            "ASVspoof2021_DF_eval/flac/DF_E_2000510.flac\n",
            "ASVspoof2021_DF_eval/flac/DF_E_2000511.flac\n",
            "ASVspoof2021_DF_eval/flac/DF_E_2000512.flac\n",
            "ASVspoof2021_DF_eval/flac/DF_E_2000519.flac\n",
            "ASVspoof2021_DF_eval/flac/DF_E_2000524.flac\n",
            "ASVspoof2021_DF_eval/flac/DF_E_2000526.flac\n",
            "ASVspoof2021_DF_eval/flac/DF_E_2000528.flac\n",
            "ASVspoof2021_DF_eval/flac/DF_E_2000530.flac\n",
            "ASVspoof2021_DF_eval/flac/DF_E_2000531.flac\n",
            "ASVspoof2021_DF_eval/flac/DF_E_2000537.flac\n",
            "ASVspoof2021_DF_eval/flac/DF_E_2000538.flac\n",
            "ASVspoof2021_DF_eval/flac/DF_E_2000539.flac\n",
            "ASVspoof2021_DF_eval/flac/DF_E_2000540.flac\n",
            "ASVspoof2021_DF_eval/flac/DF_E_2000544.flac\n",
            "ASVspoof2021_DF_eval/flac/DF_E_2000545.flac\n",
            "ASVspoof2021_DF_eval/flac/DF_E_2000563.flac\n",
            "ASVspoof2021_DF_eval/flac/DF_E_2000565.flac\n",
            "ASVspoof2021_DF_eval/flac/DF_E_2000570.flac\n",
            "ASVspoof2021_DF_eval/flac/DF_E_2000571.flac\n",
            "ASVspoof2021_DF_eval/flac/DF_E_2000572.flac\n",
            "ASVspoof2021_DF_eval/flac/DF_E_2000574.flac\n",
            "ASVspoof2021_DF_eval/flac/DF_E_2000583.flac\n",
            "ASVspoof2021_DF_eval/flac/DF_E_2000584.flac\n",
            "ASVspoof2021_DF_eval/flac/DF_E_2000586.flac\n",
            "ASVspoof2021_DF_eval/flac/DF_E_2000588.flac\n",
            "ASVspoof2021_DF_eval/flac/DF_E_2000594.flac\n",
            "ASVspoof2021_DF_eval/flac/DF_E_2000596.flac\n",
            "ASVspoof2021_DF_eval/flac/DF_E_2000604.flac\n",
            "ASVspoof2021_DF_eval/flac/DF_E_2000608.flac\n",
            "ASVspoof2021_DF_eval/flac/DF_E_2000633.flac\n",
            "ASVspoof2021_DF_eval/flac/DF_E_2000634.flac\n",
            "ASVspoof2021_DF_eval/flac/DF_E_2000637.flac\n",
            "ASVspoof2021_DF_eval/flac/DF_E_2000639.flac\n",
            "ASVspoof2021_DF_eval/flac/DF_E_2000640.flac\n",
            "ASVspoof2021_DF_eval/flac/DF_E_2000643.flac\n",
            "ASVspoof2021_DF_eval/flac/DF_E_2000646.flac\n",
            "ASVspoof2021_DF_eval/flac/DF_E_2000647.flac\n",
            "ASVspoof2021_DF_eval/flac/DF_E_2000653.flac\n",
            "ASVspoof2021_DF_eval/flac/DF_E_2000655.flac\n",
            "ASVspoof2021_DF_eval/flac/DF_E_2000662.flac\n",
            "ASVspoof2021_DF_eval/flac/DF_E_2000669.flac\n",
            "ASVspoof2021_DF_eval/flac/DF_E_2000676.flac\n",
            "ASVspoof2021_DF_eval/flac/DF_E_2000679.flac\n",
            "ASVspoof2021_DF_eval/flac/DF_E_2000692.flac\n",
            "ASVspoof2021_DF_eval/flac/DF_E_2000694.flac\n",
            "ASVspoof2021_DF_eval/flac/DF_E_2000698.flac\n",
            "ASVspoof2021_DF_eval/flac/DF_E_2000699.flac\n",
            "ASVspoof2021_DF_eval/flac/DF_E_2000700.flac\n",
            "\n",
            "gzip: stdin: unexpected end of file\n",
            "tar: Unexpected EOF in archive\n",
            "tar: Unexpected EOF in archive\n",
            "tar: Error is not recoverable: exiting now\n",
            "ASVspoof2021_DF_eval/flac/DF_E_2749697.flac\n",
            "ASVspoof2021_DF_eval/flac/DF_E_2749699.flac\n",
            "ASVspoof2021_DF_eval/flac/DF_E_2749700.flac\n",
            "ASVspoof2021_DF_eval/flac/DF_E_2749705.flac\n",
            "ASVspoof2021_DF_eval/flac/DF_E_2749710.flac\n",
            "ASVspoof2021_DF_eval/flac/DF_E_2749711.flac\n",
            "ASVspoof2021_DF_eval/flac/DF_E_2749732.flac\n",
            "ASVspoof2021_DF_eval/flac/DF_E_2749739.flac\n",
            "ASVspoof2021_DF_eval/flac/DF_E_2749743.flac\n",
            "ASVspoof2021_DF_eval/flac/DF_E_2749744.flac\n",
            "ASVspoof2021_DF_eval/flac/DF_E_2749749.flac\n",
            "ASVspoof2021_DF_eval/flac/DF_E_2749753.flac\n",
            "ASVspoof2021_DF_eval/flac/DF_E_2749761.flac\n",
            "ASVspoof2021_DF_eval/flac/DF_E_2749763.flac\n",
            "ASVspoof2021_DF_eval/flac/DF_E_2749767.flac\n",
            "ASVspoof2021_DF_eval/flac/DF_E_2749771.flac\n",
            "ASVspoof2021_DF_eval/flac/DF_E_2749777.flac\n",
            "ASVspoof2021_DF_eval/flac/DF_E_2749782.flac\n",
            "ASVspoof2021_DF_eval/flac/DF_E_2749783.flac\n",
            "ASVspoof2021_DF_eval/flac/DF_E_2749789.flac\n",
            "ASVspoof2021_DF_eval/flac/DF_E_2749790.flac\n",
            "ASVspoof2021_DF_eval/flac/DF_E_2749795.flac\n",
            "ASVspoof2021_DF_eval/flac/DF_E_2749804.flac\n",
            "ASVspoof2021_DF_eval/flac/DF_E_2749811.flac\n",
            "ASVspoof2021_DF_eval/flac/DF_E_2749817.flac\n",
            "ASVspoof2021_DF_eval/flac/DF_E_2749819.flac\n",
            "ASVspoof2021_DF_eval/flac/DF_E_2749820.flac\n",
            "ASVspoof2021_DF_eval/flac/DF_E_2749826.flac\n",
            "ASVspoof2021_DF_eval/flac/DF_E_2749827.flac\n",
            "ASVspoof2021_DF_eval/flac/DF_E_2749829.flac\n",
            "ASVspoof2021_DF_eval/flac/DF_E_2749841.flac\n",
            "ASVspoof2021_DF_eval/flac/DF_E_2749847.flac\n",
            "ASVspoof2021_DF_eval/flac/DF_E_2749848.flac\n",
            "ASVspoof2021_DF_eval/flac/DF_E_2749851.flac\n",
            "ASVspoof2021_DF_eval/flac/DF_E_2749859.flac\n",
            "ASVspoof2021_DF_eval/flac/DF_E_2749860.flac\n",
            "ASVspoof2021_DF_eval/flac/DF_E_2749872.flac\n",
            "ASVspoof2021_DF_eval/flac/DF_E_2749873.flac\n",
            "ASVspoof2021_DF_eval/flac/DF_E_2749879.flac\n",
            "ASVspoof2021_DF_eval/flac/DF_E_2749880.flac\n",
            "ASVspoof2021_DF_eval/flac/DF_E_2749888.flac\n",
            "ASVspoof2021_DF_eval/flac/DF_E_2749889.flac\n",
            "ASVspoof2021_DF_eval/flac/DF_E_2749890.flac\n",
            "ASVspoof2021_DF_eval/flac/DF_E_2749891.flac\n",
            "ASVspoof2021_DF_eval/flac/DF_E_2749893.flac\n",
            "ASVspoof2021_DF_eval/flac/DF_E_2749895.flac\n",
            "ASVspoof2021_DF_eval/flac/DF_E_2749896.flac\n",
            "ASVspoof2021_DF_eval/flac/DF_E_2749898.flac\n",
            "ASVspoof2021_DF_eval/flac/DF_E_2749901.flac\n",
            "ASVspoof2021_DF_eval/flac/DF_E_2749903.flac\n",
            "ASVspoof2021_DF_eval/flac/DF_E_2749907.flac\n",
            "ASVspoof2021_DF_eval/flac/DF_E_2749918.flac\n",
            "ASVspoof2021_DF_eval/flac/DF_E_2749923.flac\n",
            "ASVspoof2021_DF_eval/flac/DF_E_2749925.flac\n",
            "ASVspoof2021_DF_eval/flac/DF_E_2749926.flac\n",
            "ASVspoof2021_DF_eval/flac/DF_E_2749928.flac\n",
            "ASVspoof2021_DF_eval/flac/DF_E_2749929.flac\n",
            "ASVspoof2021_DF_eval/flac/DF_E_2749931.flac\n",
            "ASVspoof2021_DF_eval/flac/DF_E_2749935.flac\n",
            "ASVspoof2021_DF_eval/flac/DF_E_2749944.flac\n",
            "\n",
            "gzip: stdin: unexpected end of file\n",
            "tar: Unexpected EOF in archive\n",
            "tar: Unexpected EOF in archive\n",
            "tar: Error is not recoverable: exiting now\n",
            "tar (child): /content/drive/MyDrive/ASVspoof2021/ASVspoof2021_DF_eval_part02.tar.gz: Cannot open: No such file or directory\n",
            "tar (child): Error is not recoverable: exiting now\n",
            "tar: Child returned status 2\n",
            "tar: Error is not recoverable: exiting now\n",
            "ASVspoof2021_DF_eval/flac/DF_E_4249677.flac\n",
            "ASVspoof2021_DF_eval/flac/DF_E_4249678.flac\n",
            "ASVspoof2021_DF_eval/flac/DF_E_4249682.flac\n",
            "ASVspoof2021_DF_eval/flac/DF_E_4249685.flac\n",
            "ASVspoof2021_DF_eval/flac/DF_E_4249692.flac\n",
            "ASVspoof2021_DF_eval/flac/DF_E_4249693.flac\n",
            "ASVspoof2021_DF_eval/flac/DF_E_4249694.flac\n",
            "ASVspoof2021_DF_eval/flac/DF_E_4249711.flac\n",
            "ASVspoof2021_DF_eval/flac/DF_E_4249713.flac\n",
            "ASVspoof2021_DF_eval/flac/DF_E_4249716.flac\n",
            "ASVspoof2021_DF_eval/flac/DF_E_4249721.flac\n",
            "ASVspoof2021_DF_eval/flac/DF_E_4249726.flac\n",
            "ASVspoof2021_DF_eval/flac/DF_E_4249731.flac\n",
            "ASVspoof2021_DF_eval/flac/DF_E_4249732.flac\n",
            "ASVspoof2021_DF_eval/flac/DF_E_4249738.flac\n",
            "ASVspoof2021_DF_eval/flac/DF_E_4249739.flac\n",
            "ASVspoof2021_DF_eval/flac/DF_E_4249746.flac\n",
            "ASVspoof2021_DF_eval/flac/DF_E_4249747.flac\n",
            "ASVspoof2021_DF_eval/flac/DF_E_4249750.flac\n",
            "ASVspoof2021_DF_eval/flac/DF_E_4249752.flac\n",
            "ASVspoof2021_DF_eval/flac/DF_E_4249761.flac\n",
            "ASVspoof2021_DF_eval/flac/DF_E_4249762.flac\n",
            "ASVspoof2021_DF_eval/flac/DF_E_4249764.flac\n",
            "ASVspoof2021_DF_eval/flac/DF_E_4249766.flac\n",
            "ASVspoof2021_DF_eval/flac/DF_E_4249767.flac\n",
            "ASVspoof2021_DF_eval/flac/DF_E_4249775.flac\n",
            "ASVspoof2021_DF_eval/flac/DF_E_4249776.flac\n",
            "ASVspoof2021_DF_eval/flac/DF_E_4249777.flac\n",
            "ASVspoof2021_DF_eval/flac/DF_E_4249781.flac\n",
            "ASVspoof2021_DF_eval/flac/DF_E_4249783.flac\n",
            "ASVspoof2021_DF_eval/flac/DF_E_4249803.flac\n",
            "ASVspoof2021_DF_eval/flac/DF_E_4249805.flac\n",
            "ASVspoof2021_DF_eval/flac/DF_E_4249810.flac\n",
            "ASVspoof2021_DF_eval/flac/DF_E_4249818.flac\n",
            "ASVspoof2021_DF_eval/flac/DF_E_4249821.flac\n",
            "ASVspoof2021_DF_eval/flac/DF_E_4249823.flac\n",
            "ASVspoof2021_DF_eval/flac/DF_E_4249825.flac\n",
            "ASVspoof2021_DF_eval/flac/DF_E_4249826.flac\n",
            "ASVspoof2021_DF_eval/flac/DF_E_4249833.flac\n",
            "ASVspoof2021_DF_eval/flac/DF_E_4249838.flac\n",
            "ASVspoof2021_DF_eval/flac/DF_E_4249843.flac\n",
            "ASVspoof2021_DF_eval/flac/DF_E_4249851.flac\n",
            "ASVspoof2021_DF_eval/flac/DF_E_4249855.flac\n",
            "ASVspoof2021_DF_eval/flac/DF_E_4249861.flac\n",
            "ASVspoof2021_DF_eval/flac/DF_E_4249863.flac\n",
            "ASVspoof2021_DF_eval/flac/DF_E_4249864.flac\n",
            "ASVspoof2021_DF_eval/flac/DF_E_4249874.flac\n",
            "ASVspoof2021_DF_eval/flac/DF_E_4249877.flac\n",
            "ASVspoof2021_DF_eval/flac/DF_E_4249881.flac\n",
            "ASVspoof2021_DF_eval/flac/DF_E_4249885.flac\n",
            "ASVspoof2021_DF_eval/flac/DF_E_4249891.flac\n",
            "ASVspoof2021_DF_eval/flac/DF_E_4249895.flac\n",
            "ASVspoof2021_DF_eval/flac/DF_E_4249899.flac\n",
            "ASVspoof2021_DF_eval/flac/DF_E_4249902.flac\n",
            "ASVspoof2021_DF_eval/flac/DF_E_4249911.flac\n",
            "ASVspoof2021_DF_eval/flac/DF_E_4249914.flac\n",
            "ASVspoof2021_DF_eval/flac/DF_E_4249924.flac\n",
            "ASVspoof2021_DF_eval/flac/DF_E_4249942.flac\n",
            "ASVspoof2021_DF_eval/flac/DF_E_4249948.flac\n",
            "ASVspoof2021_DF_eval/flac/DF_E_4249950.flac\n",
            "ASVspoof2021_DF_eval/flac/DF_E_4249954.flac\n",
            "ASVspoof2021_DF_eval/flac/DF_E_4249957.flac\n",
            "ASVspoof2021_DF_eval/flac/DF_E_4249964.flac\n",
            "ASVspoof2021_DF_eval/flac/DF_E_4249965.flac\n",
            "ASVspoof2021_DF_eval/flac/DF_E_4249967.flac\n",
            "ASVspoof2021_DF_eval/flac/DF_E_4249974.flac\n",
            "ASVspoof2021_DF_eval/flac/DF_E_4249985.flac\n",
            "ASVspoof2021_DF_eval/flac/DF_E_4249987.flac\n",
            "ASVspoof2021_DF_eval/flac/DF_E_4249999.flac\n",
            "ASVspoof2021_DF_eval/flac/DF_E_4250006.flac\n",
            "ASVspoof2021_DF_eval/flac/DF_E_4250008.flac\n",
            "ASVspoof2021_DF_eval/flac/DF_E_4250009.flac\n",
            "ASVspoof2021_DF_eval/flac/DF_E_4250010.flac\n",
            "ASVspoof2021_DF_eval/flac/DF_E_4250032.flac\n",
            "ASVspoof2021_DF_eval/flac/DF_E_4250034.flac\n",
            "ASVspoof2021_DF_eval/flac/DF_E_4250035.flac\n",
            "ASVspoof2021_DF_eval/flac/DF_E_4250036.flac\n",
            "ASVspoof2021_DF_eval/flac/DF_E_4250037.flac\n",
            "ASVspoof2021_DF_eval/flac/DF_E_4250040.flac\n",
            "ASVspoof2021_DF_eval/flac/DF_E_4250045.flac\n",
            "ASVspoof2021_DF_eval/flac/DF_E_4250047.flac\n",
            "ASVspoof2021_DF_eval/flac/DF_E_4250050.flac\n",
            "ASVspoof2021_DF_eval/flac/DF_E_4250056.flac\n",
            "ASVspoof2021_DF_eval/flac/DF_E_4250062.flac\n",
            "ASVspoof2021_DF_eval/flac/DF_E_4250068.flac\n",
            "ASVspoof2021_DF_eval/flac/DF_E_4250069.flac\n",
            "ASVspoof2021_DF_eval/flac/DF_E_4250081.flac\n",
            "ASVspoof2021_DF_eval/flac/DF_E_4250082.flac\n",
            "ASVspoof2021_DF_eval/flac/DF_E_4250084.flac\n",
            "ASVspoof2021_DF_eval/flac/DF_E_4250085.flac\n",
            "ASVspoof2021_DF_eval/flac/DF_E_4250088.flac\n",
            "ASVspoof2021_DF_eval/flac/DF_E_4250113.flac\n",
            "ASVspoof2021_DF_eval/flac/DF_E_4250118.flac\n",
            "ASVspoof2021_DF_eval/flac/DF_E_4250128.flac\n",
            "ASVspoof2021_DF_eval/flac/DF_E_4250130.flac\n",
            "ASVspoof2021_DF_eval/flac/DF_E_4250132.flac\n",
            "ASVspoof2021_DF_eval/flac/DF_E_4250139.flac\n",
            "ASVspoof2021_DF_eval/flac/DF_E_4250157.flac\n",
            "ASVspoof2021_DF_eval/flac/DF_E_4250163.flac\n",
            "ASVspoof2021_DF_eval/flac/DF_E_4250167.flac\n",
            "ASVspoof2021_DF_eval/flac/DF_E_4250170.flac\n",
            "ASVspoof2021_DF_eval/flac/DF_E_4250172.flac\n",
            "ASVspoof2021_DF_eval/flac/DF_E_4250173.flac\n",
            "ASVspoof2021_DF_eval/flac/DF_E_4250180.flac\n",
            "ASVspoof2021_DF_eval/flac/DF_E_4250184.flac\n",
            "ASVspoof2021_DF_eval/flac/DF_E_4250188.flac\n",
            "ASVspoof2021_DF_eval/flac/DF_E_4250194.flac\n",
            "ASVspoof2021_DF_eval/flac/DF_E_4250202.flac\n",
            "ASVspoof2021_DF_eval/flac/DF_E_4250219.flac\n",
            "ASVspoof2021_DF_eval/flac/DF_E_4250220.flac\n",
            "ASVspoof2021_DF_eval/flac/DF_E_4250227.flac\n",
            "ASVspoof2021_DF_eval/flac/DF_E_4250229.flac\n",
            "ASVspoof2021_DF_eval/flac/DF_E_4250230.flac\n",
            "ASVspoof2021_DF_eval/flac/DF_E_4250257.flac\n",
            "ASVspoof2021_DF_eval/flac/DF_E_4250259.flac\n",
            "ASVspoof2021_DF_eval/flac/DF_E_4250269.flac\n",
            "ASVspoof2021_DF_eval/flac/DF_E_4250275.flac\n",
            "ASVspoof2021_DF_eval/flac/DF_E_4250289.flac\n",
            "ASVspoof2021_DF_eval/flac/DF_E_4250290.flac\n",
            "ASVspoof2021_DF_eval/flac/DF_E_4250294.flac\n",
            "ASVspoof2021_DF_eval/flac/DF_E_4250297.flac\n",
            "ASVspoof2021_DF_eval/flac/DF_E_4250298.flac\n",
            "ASVspoof2021_DF_eval/flac/DF_E_4250299.flac\n",
            "ASVspoof2021_DF_eval/flac/DF_E_4250300.flac\n",
            "ASVspoof2021_DF_eval/flac/DF_E_4250305.flac\n",
            "ASVspoof2021_DF_eval/flac/DF_E_4250316.flac\n",
            "ASVspoof2021_DF_eval/flac/DF_E_4250319.flac\n",
            "ASVspoof2021_DF_eval/flac/DF_E_4250320.flac\n",
            "ASVspoof2021_DF_eval/flac/DF_E_4250325.flac\n",
            "ASVspoof2021_DF_eval/flac/DF_E_4250330.flac\n",
            "ASVspoof2021_DF_eval/flac/DF_E_4250331.flac\n",
            "ASVspoof2021_DF_eval/flac/DF_E_4250332.flac\n",
            "ASVspoof2021_DF_eval/flac/DF_E_4250335.flac\n",
            "ASVspoof2021_DF_eval/flac/DF_E_4250338.flac\n",
            "ASVspoof2021_DF_eval/flac/DF_E_4250342.flac\n",
            "ASVspoof2021_DF_eval/flac/DF_E_4250347.flac\n",
            "ASVspoof2021_DF_eval/flac/DF_E_4250352.flac\n",
            "ASVspoof2021_DF_eval/flac/DF_E_4250356.flac\n",
            "ASVspoof2021_DF_eval/flac/DF_E_4250357.flac\n",
            "ASVspoof2021_DF_eval/flac/DF_E_4250359.flac\n",
            "ASVspoof2021_DF_eval/flac/DF_E_4250360.flac\n",
            "ASVspoof2021_DF_eval/flac/DF_E_4250363.flac\n",
            "ASVspoof2021_DF_eval/flac/DF_E_4250374.flac\n",
            "ASVspoof2021_DF_eval/flac/DF_E_4250376.flac\n",
            "ASVspoof2021_DF_eval/flac/DF_E_4250378.flac\n",
            "ASVspoof2021_DF_eval/flac/DF_E_4250381.flac\n",
            "ASVspoof2021_DF_eval/flac/DF_E_4250390.flac\n",
            "ASVspoof2021_DF_eval/flac/DF_E_4250393.flac\n",
            "ASVspoof2021_DF_eval/flac/DF_E_4250395.flac\n",
            "ASVspoof2021_DF_eval/flac/DF_E_4250400.flac\n",
            "ASVspoof2021_DF_eval/flac/DF_E_4250401.flac\n",
            "ASVspoof2021_DF_eval/flac/DF_E_4250402.flac\n",
            "ASVspoof2021_DF_eval/flac/DF_E_4250403.flac\n",
            "ASVspoof2021_DF_eval/flac/DF_E_4250404.flac\n",
            "ASVspoof2021_DF_eval/flac/DF_E_4250405.flac\n",
            "ASVspoof2021_DF_eval/flac/DF_E_4250406.flac\n",
            "ASVspoof2021_DF_eval/flac/DF_E_4250411.flac\n",
            "ASVspoof2021_DF_eval/flac/DF_E_4250418.flac\n",
            "ASVspoof2021_DF_eval/flac/DF_E_4250426.flac\n",
            "ASVspoof2021_DF_eval/flac/DF_E_4250430.flac\n",
            "ASVspoof2021_DF_eval/flac/DF_E_4250431.flac\n",
            "ASVspoof2021_DF_eval/flac/DF_E_4250434.flac\n",
            "ASVspoof2021_DF_eval/flac/DF_E_4250436.flac\n",
            "ASVspoof2021_DF_eval/flac/DF_E_4250438.flac\n",
            "ASVspoof2021_DF_eval/flac/DF_E_4250445.flac\n",
            "ASVspoof2021_DF_eval/flac/DF_E_4250447.flac\n",
            "ASVspoof2021_DF_eval/flac/DF_E_4250448.flac\n",
            "ASVspoof2021_DF_eval/flac/DF_E_4250450.flac\n",
            "ASVspoof2021_DF_eval/flac/DF_E_4250451.flac\n",
            "ASVspoof2021_DF_eval/flac/DF_E_4250461.flac\n",
            "ASVspoof2021_DF_eval/flac/DF_E_4250464.flac\n",
            "ASVspoof2021_DF_eval/flac/DF_E_4250479.flac\n",
            "ASVspoof2021_DF_eval/flac/DF_E_4250486.flac\n",
            "ASVspoof2021_DF_eval/flac/DF_E_4250491.flac\n",
            "ASVspoof2021_DF_eval/flac/DF_E_4250492.flac\n",
            "ASVspoof2021_DF_eval/flac/DF_E_4250493.flac\n",
            "ASVspoof2021_DF_eval/flac/DF_E_4250494.flac\n",
            "ASVspoof2021_DF_eval/flac/DF_E_4250495.flac\n",
            "ASVspoof2021_DF_eval/flac/DF_E_4250512.flac\n",
            "ASVspoof2021_DF_eval/flac/DF_E_4250515.flac\n",
            "ASVspoof2021_DF_eval/flac/DF_E_4250518.flac\n",
            "ASVspoof2021_DF_eval/flac/DF_E_4250520.flac\n",
            "ASVspoof2021_DF_eval/flac/DF_E_4250521.flac\n",
            "ASVspoof2021_DF_eval/flac/DF_E_4250523.flac\n",
            "ASVspoof2021_DF_eval/flac/DF_E_4250531.flac\n",
            "ASVspoof2021_DF_eval/flac/DF_E_4250536.flac\n",
            "ASVspoof2021_DF_eval/flac/DF_E_4250542.flac\n",
            "ASVspoof2021_DF_eval/flac/DF_E_4250547.flac\n",
            "ASVspoof2021_DF_eval/flac/DF_E_4250552.flac\n",
            "ASVspoof2021_DF_eval/flac/DF_E_4250560.flac\n",
            "ASVspoof2021_DF_eval/flac/DF_E_4250563.flac\n",
            "ASVspoof2021_DF_eval/flac/DF_E_4250566.flac\n",
            "ASVspoof2021_DF_eval/flac/DF_E_4250569.flac\n",
            "ASVspoof2021_DF_eval/flac/DF_E_4250571.flac\n",
            "ASVspoof2021_DF_eval/flac/DF_E_4250585.flac\n",
            "ASVspoof2021_DF_eval/flac/DF_E_4250592.flac\n",
            "ASVspoof2021_DF_eval/flac/DF_E_4250598.flac\n",
            "ASVspoof2021_DF_eval/flac/DF_E_4250603.flac\n",
            "ASVspoof2021_DF_eval/flac/DF_E_4250615.flac\n",
            "ASVspoof2021_DF_eval/flac/DF_E_4250616.flac\n",
            "ASVspoof2021_DF_eval/flac/DF_E_4250617.flac\n",
            "ASVspoof2021_DF_eval/flac/DF_E_4250623.flac\n",
            "ASVspoof2021_DF_eval/flac/DF_E_4250625.flac\n",
            "ASVspoof2021_DF_eval/flac/DF_E_4250626.flac\n",
            "ASVspoof2021_DF_eval/flac/DF_E_4250627.flac\n",
            "ASVspoof2021_DF_eval/flac/DF_E_4250628.flac\n",
            "ASVspoof2021_DF_eval/flac/DF_E_4250634.flac\n",
            "ASVspoof2021_DF_eval/flac/DF_E_4250636.flac\n",
            "ASVspoof2021_DF_eval/flac/DF_E_4250638.flac\n",
            "ASVspoof2021_DF_eval/flac/DF_E_4250644.flac\n",
            "ASVspoof2021_DF_eval/flac/DF_E_4250653.flac\n",
            "ASVspoof2021_DF_eval/flac/DF_E_4250654.flac\n",
            "ASVspoof2021_DF_eval/flac/DF_E_4250655.flac\n",
            "ASVspoof2021_DF_eval/flac/DF_E_4250663.flac\n",
            "ASVspoof2021_DF_eval/flac/DF_E_4250672.flac\n",
            "ASVspoof2021_DF_eval/flac/DF_E_4250673.flac\n",
            "ASVspoof2021_DF_eval/flac/DF_E_4250674.flac\n",
            "ASVspoof2021_DF_eval/flac/DF_E_4250681.flac\n",
            "ASVspoof2021_DF_eval/flac/DF_E_4250688.flac\n",
            "ASVspoof2021_DF_eval/flac/DF_E_4250693.flac\n",
            "ASVspoof2021_DF_eval/flac/DF_E_4250697.flac\n",
            "ASVspoof2021_DF_eval/flac/DF_E_4250701.flac\n",
            "ASVspoof2021_DF_eval/flac/DF_E_4250703.flac\n",
            "ASVspoof2021_DF_eval/flac/DF_E_4250711.flac\n",
            "ASVspoof2021_DF_eval/flac/DF_E_4250722.flac\n",
            "ASVspoof2021_DF_eval/flac/DF_E_4250740.flac\n",
            "ASVspoof2021_DF_eval/flac/DF_E_4250749.flac\n",
            "ASVspoof2021_DF_eval/flac/DF_E_4250758.flac\n",
            "ASVspoof2021_DF_eval/flac/DF_E_4250759.flac\n",
            "ASVspoof2021_DF_eval/flac/DF_E_4250772.flac\n",
            "ASVspoof2021_DF_eval/flac/DF_E_4250773.flac\n",
            "ASVspoof2021_DF_eval/flac/DF_E_4250774.flac\n",
            "ASVspoof2021_DF_eval/flac/DF_E_4250781.flac\n",
            "ASVspoof2021_DF_eval/flac/DF_E_4250789.flac\n",
            "ASVspoof2021_DF_eval/flac/DF_E_4250791.flac\n",
            "ASVspoof2021_DF_eval/flac/DF_E_4250792.flac\n",
            "ASVspoof2021_DF_eval/flac/DF_E_4250793.flac\n",
            "ASVspoof2021_DF_eval/flac/DF_E_4250794.flac\n",
            "ASVspoof2021_DF_eval/flac/DF_E_4250795.flac\n",
            "ASVspoof2021_DF_eval/flac/DF_E_4250801.flac\n",
            "ASVspoof2021_DF_eval/flac/DF_E_4250807.flac\n",
            "ASVspoof2021_DF_eval/flac/DF_E_4250816.flac\n",
            "ASVspoof2021_DF_eval/flac/DF_E_4250818.flac\n",
            "ASVspoof2021_DF_eval/flac/DF_E_4250824.flac\n",
            "ASVspoof2021_DF_eval/flac/DF_E_4250856.flac\n",
            "ASVspoof2021_DF_eval/flac/DF_E_4250862.flac\n",
            "ASVspoof2021_DF_eval/flac/DF_E_4250863.flac\n",
            "ASVspoof2021_DF_eval/flac/DF_E_4250879.flac\n",
            "ASVspoof2021_DF_eval/flac/DF_E_4250884.flac\n",
            "ASVspoof2021_DF_eval/flac/DF_E_4250888.flac\n",
            "ASVspoof2021_DF_eval/flac/DF_E_4250890.flac\n",
            "ASVspoof2021_DF_eval/flac/DF_E_4250895.flac\n",
            "ASVspoof2021_DF_eval/flac/DF_E_4250896.flac\n",
            "ASVspoof2021_DF_eval/flac/DF_E_4250899.flac\n",
            "ASVspoof2021_DF_eval/flac/DF_E_4250900.flac\n",
            "ASVspoof2021_DF_eval/flac/DF_E_4250909.flac\n",
            "ASVspoof2021_DF_eval/flac/DF_E_4250910.flac\n",
            "ASVspoof2021_DF_eval/flac/DF_E_4250912.flac\n",
            "ASVspoof2021_DF_eval/flac/DF_E_4250916.flac\n",
            "ASVspoof2021_DF_eval/flac/DF_E_4250917.flac\n",
            "ASVspoof2021_DF_eval/flac/DF_E_4250919.flac\n",
            "ASVspoof2021_DF_eval/flac/DF_E_4250928.flac\n",
            "ASVspoof2021_DF_eval/flac/DF_E_4250935.flac\n",
            "ASVspoof2021_DF_eval/flac/DF_E_4250940.flac\n",
            "ASVspoof2021_DF_eval/flac/DF_E_4250946.flac\n",
            "ASVspoof2021_DF_eval/flac/DF_E_4250959.flac\n",
            "ASVspoof2021_DF_eval/flac/DF_E_4250961.flac\n",
            "ASVspoof2021_DF_eval/flac/DF_E_4250969.flac\n",
            "ASVspoof2021_DF_eval/flac/DF_E_4250974.flac\n",
            "ASVspoof2021_DF_eval/flac/DF_E_4250987.flac\n",
            "ASVspoof2021_DF_eval/flac/DF_E_4250991.flac\n",
            "ASVspoof2021_DF_eval/flac/DF_E_4250998.flac\n",
            "ASVspoof2021_DF_eval/flac/DF_E_4251002.flac\n",
            "ASVspoof2021_DF_eval/flac/DF_E_4251010.flac\n",
            "ASVspoof2021_DF_eval/flac/DF_E_4251014.flac\n",
            "ASVspoof2021_DF_eval/flac/DF_E_4251031.flac\n",
            "ASVspoof2021_DF_eval/flac/DF_E_4251032.flac\n",
            "ASVspoof2021_DF_eval/flac/DF_E_4251044.flac\n",
            "ASVspoof2021_DF_eval/flac/DF_E_4251046.flac\n",
            "ASVspoof2021_DF_eval/flac/DF_E_4251054.flac\n",
            "ASVspoof2021_DF_eval/flac/DF_E_4251057.flac\n",
            "ASVspoof2021_DF_eval/flac/DF_E_4251063.flac\n",
            "ASVspoof2021_DF_eval/flac/DF_E_4251064.flac\n",
            "ASVspoof2021_DF_eval/flac/DF_E_4251065.flac\n",
            "ASVspoof2021_DF_eval/flac/DF_E_4251072.flac\n",
            "ASVspoof2021_DF_eval/flac/DF_E_4251082.flac\n",
            "ASVspoof2021_DF_eval/flac/DF_E_4251083.flac\n",
            "ASVspoof2021_DF_eval/flac/DF_E_4251086.flac\n",
            "ASVspoof2021_DF_eval/flac/DF_E_4251091.flac\n",
            "ASVspoof2021_DF_eval/flac/DF_E_4251092.flac\n",
            "ASVspoof2021_DF_eval/flac/DF_E_4251093.flac\n",
            "ASVspoof2021_DF_eval/flac/DF_E_4251097.flac\n",
            "ASVspoof2021_DF_eval/flac/DF_E_4251099.flac\n",
            "ASVspoof2021_DF_eval/flac/DF_E_4251102.flac\n",
            "ASVspoof2021_DF_eval/flac/DF_E_4251105.flac\n",
            "ASVspoof2021_DF_eval/flac/DF_E_4251107.flac\n",
            "ASVspoof2021_DF_eval/flac/DF_E_4251111.flac\n",
            "ASVspoof2021_DF_eval/flac/DF_E_4251117.flac\n",
            "ASVspoof2021_DF_eval/flac/DF_E_4251134.flac\n",
            "ASVspoof2021_DF_eval/flac/DF_E_4251137.flac\n",
            "ASVspoof2021_DF_eval/flac/DF_E_4251138.flac\n",
            "ASVspoof2021_DF_eval/flac/DF_E_4251149.flac\n",
            "ASVspoof2021_DF_eval/flac/DF_E_4251152.flac\n",
            "ASVspoof2021_DF_eval/flac/DF_E_4251156.flac\n",
            "ASVspoof2021_DF_eval/flac/DF_E_4251159.flac\n",
            "ASVspoof2021_DF_eval/flac/DF_E_4251161.flac\n",
            "ASVspoof2021_DF_eval/flac/DF_E_4251171.flac\n",
            "ASVspoof2021_DF_eval/flac/DF_E_4251186.flac\n",
            "ASVspoof2021_DF_eval/flac/DF_E_4251190.flac\n",
            "ASVspoof2021_DF_eval/flac/DF_E_4251193.flac\n",
            "ASVspoof2021_DF_eval/flac/DF_E_4251194.flac\n",
            "ASVspoof2021_DF_eval/flac/DF_E_4251195.flac\n",
            "ASVspoof2021_DF_eval/flac/DF_E_4251201.flac\n",
            "ASVspoof2021_DF_eval/flac/DF_E_4251207.flac\n",
            "ASVspoof2021_DF_eval/flac/DF_E_4251212.flac\n",
            "ASVspoof2021_DF_eval/flac/DF_E_4251214.flac\n",
            "ASVspoof2021_DF_eval/flac/DF_E_4251221.flac\n",
            "ASVspoof2021_DF_eval/flac/DF_E_4251223.flac\n",
            "ASVspoof2021_DF_eval/flac/DF_E_4251224.flac\n",
            "ASVspoof2021_DF_eval/flac/DF_E_4251225.flac\n",
            "ASVspoof2021_DF_eval/flac/DF_E_4251233.flac\n",
            "ASVspoof2021_DF_eval/flac/DF_E_4251237.flac\n",
            "ASVspoof2021_DF_eval/flac/DF_E_4251244.flac\n",
            "ASVspoof2021_DF_eval/flac/DF_E_4251247.flac\n",
            "ASVspoof2021_DF_eval/flac/DF_E_4251252.flac\n",
            "ASVspoof2021_DF_eval/flac/DF_E_4251253.flac\n",
            "ASVspoof2021_DF_eval/flac/DF_E_4251260.flac\n",
            "ASVspoof2021_DF_eval/flac/DF_E_4251261.flac\n",
            "ASVspoof2021_DF_eval/flac/DF_E_4251270.flac\n",
            "ASVspoof2021_DF_eval/flac/DF_E_4251279.flac\n",
            "ASVspoof2021_DF_eval/flac/DF_E_4251284.flac\n",
            "ASVspoof2021_DF_eval/flac/DF_E_4251285.flac\n",
            "ASVspoof2021_DF_eval/flac/DF_E_4251290.flac\n",
            "ASVspoof2021_DF_eval/flac/DF_E_4251291.flac\n",
            "ASVspoof2021_DF_eval/flac/DF_E_4251293.flac\n",
            "ASVspoof2021_DF_eval/flac/DF_E_4251304.flac\n",
            "ASVspoof2021_DF_eval/flac/DF_E_4251305.flac\n",
            "ASVspoof2021_DF_eval/flac/DF_E_4251309.flac\n",
            "ASVspoof2021_DF_eval/flac/DF_E_4251310.flac\n",
            "ASVspoof2021_DF_eval/flac/DF_E_4251311.flac\n",
            "ASVspoof2021_DF_eval/flac/DF_E_4251321.flac\n",
            "ASVspoof2021_DF_eval/flac/DF_E_4251323.flac\n",
            "ASVspoof2021_DF_eval/flac/DF_E_4251342.flac\n",
            "ASVspoof2021_DF_eval/flac/DF_E_4251343.flac\n",
            "ASVspoof2021_DF_eval/flac/DF_E_4251349.flac\n",
            "ASVspoof2021_DF_eval/flac/DF_E_4251357.flac\n",
            "ASVspoof2021_DF_eval/flac/DF_E_4251374.flac\n",
            "ASVspoof2021_DF_eval/flac/DF_E_4251376.flac\n",
            "ASVspoof2021_DF_eval/flac/DF_E_4251377.flac\n",
            "ASVspoof2021_DF_eval/flac/DF_E_4251383.flac\n",
            "ASVspoof2021_DF_eval/flac/DF_E_4251385.flac\n",
            "ASVspoof2021_DF_eval/flac/DF_E_4251389.flac\n",
            "ASVspoof2021_DF_eval/flac/DF_E_4251391.flac\n",
            "ASVspoof2021_DF_eval/flac/DF_E_4251396.flac\n",
            "ASVspoof2021_DF_eval/flac/DF_E_4251405.flac\n",
            "ASVspoof2021_DF_eval/flac/DF_E_4251408.flac\n",
            "ASVspoof2021_DF_eval/flac/DF_E_4251421.flac\n",
            "ASVspoof2021_DF_eval/flac/DF_E_4251426.flac\n",
            "ASVspoof2021_DF_eval/flac/DF_E_4251427.flac\n",
            "ASVspoof2021_DF_eval/flac/DF_E_4251428.flac\n",
            "ASVspoof2021_DF_eval/flac/DF_E_4251430.flac\n",
            "ASVspoof2021_DF_eval/flac/DF_E_4251432.flac\n",
            "ASVspoof2021_DF_eval/flac/DF_E_4251434.flac\n",
            "ASVspoof2021_DF_eval/flac/DF_E_4251439.flac\n",
            "ASVspoof2021_DF_eval/flac/DF_E_4251440.flac\n",
            "ASVspoof2021_DF_eval/flac/DF_E_4251445.flac\n",
            "ASVspoof2021_DF_eval/flac/DF_E_4251446.flac\n",
            "ASVspoof2021_DF_eval/flac/DF_E_4251450.flac\n",
            "ASVspoof2021_DF_eval/flac/DF_E_4251463.flac\n",
            "ASVspoof2021_DF_eval/flac/DF_E_4251464.flac\n",
            "ASVspoof2021_DF_eval/flac/DF_E_4251465.flac\n",
            "ASVspoof2021_DF_eval/flac/DF_E_4251468.flac\n",
            "ASVspoof2021_DF_eval/flac/DF_E_4251470.flac\n",
            "ASVspoof2021_DF_eval/flac/DF_E_4251475.flac\n",
            "ASVspoof2021_DF_eval/flac/DF_E_4251478.flac\n",
            "ASVspoof2021_DF_eval/flac/DF_E_4251479.flac\n",
            "ASVspoof2021_DF_eval/flac/DF_E_4251483.flac\n",
            "ASVspoof2021_DF_eval/flac/DF_E_4251489.flac\n",
            "ASVspoof2021_DF_eval/flac/DF_E_4251492.flac\n",
            "ASVspoof2021_DF_eval/flac/DF_E_4251497.flac\n",
            "ASVspoof2021_DF_eval/flac/DF_E_4251499.flac\n",
            "ASVspoof2021_DF_eval/flac/DF_E_4251508.flac\n",
            "ASVspoof2021_DF_eval/flac/DF_E_4251511.flac\n",
            "ASVspoof2021_DF_eval/flac/DF_E_4251515.flac\n",
            "ASVspoof2021_DF_eval/flac/DF_E_4251518.flac\n",
            "ASVspoof2021_DF_eval/flac/DF_E_4251521.flac\n",
            "ASVspoof2021_DF_eval/flac/DF_E_4251525.flac\n",
            "ASVspoof2021_DF_eval/flac/DF_E_4251528.flac\n",
            "ASVspoof2021_DF_eval/flac/DF_E_4251530.flac\n",
            "ASVspoof2021_DF_eval/flac/DF_E_4251536.flac\n",
            "ASVspoof2021_DF_eval/flac/DF_E_4251539.flac\n",
            "ASVspoof2021_DF_eval/flac/DF_E_4251541.flac\n",
            "ASVspoof2021_DF_eval/flac/DF_E_4251547.flac\n",
            "ASVspoof2021_DF_eval/flac/DF_E_4251551.flac\n",
            "ASVspoof2021_DF_eval/flac/DF_E_4251554.flac\n",
            "ASVspoof2021_DF_eval/flac/DF_E_4251557.flac\n",
            "ASVspoof2021_DF_eval/flac/DF_E_4251563.flac\n",
            "ASVspoof2021_DF_eval/flac/DF_E_4251565.flac\n",
            "ASVspoof2021_DF_eval/flac/DF_E_4251570.flac\n",
            "ASVspoof2021_DF_eval/flac/DF_E_4251572.flac\n",
            "ASVspoof2021_DF_eval/flac/DF_E_4251575.flac\n",
            "ASVspoof2021_DF_eval/flac/DF_E_4251579.flac\n",
            "ASVspoof2021_DF_eval/flac/DF_E_4251581.flac\n",
            "ASVspoof2021_DF_eval/flac/DF_E_4251587.flac\n",
            "ASVspoof2021_DF_eval/flac/DF_E_4251588.flac\n",
            "ASVspoof2021_DF_eval/flac/DF_E_4251595.flac\n",
            "ASVspoof2021_DF_eval/flac/DF_E_4251600.flac\n",
            "ASVspoof2021_DF_eval/flac/DF_E_4251606.flac\n",
            "ASVspoof2021_DF_eval/flac/DF_E_4251612.flac\n",
            "ASVspoof2021_DF_eval/flac/DF_E_4251623.flac\n",
            "ASVspoof2021_DF_eval/flac/DF_E_4251626.flac\n",
            "ASVspoof2021_DF_eval/flac/DF_E_4251627.flac\n",
            "ASVspoof2021_DF_eval/flac/DF_E_4251631.flac\n",
            "ASVspoof2021_DF_eval/flac/DF_E_4251633.flac\n",
            "ASVspoof2021_DF_eval/flac/DF_E_4251643.flac\n",
            "ASVspoof2021_DF_eval/flac/DF_E_4251645.flac\n",
            "ASVspoof2021_DF_eval/flac/DF_E_4251658.flac\n",
            "ASVspoof2021_DF_eval/flac/DF_E_4251660.flac\n",
            "ASVspoof2021_DF_eval/flac/DF_E_4251669.flac\n",
            "ASVspoof2021_DF_eval/flac/DF_E_4251673.flac\n",
            "ASVspoof2021_DF_eval/flac/DF_E_4251680.flac\n",
            "ASVspoof2021_DF_eval/flac/DF_E_4251681.flac\n",
            "ASVspoof2021_DF_eval/flac/DF_E_4251684.flac\n",
            "ASVspoof2021_DF_eval/flac/DF_E_4251689.flac\n",
            "ASVspoof2021_DF_eval/flac/DF_E_4251694.flac\n",
            "ASVspoof2021_DF_eval/flac/DF_E_4251695.flac\n",
            "ASVspoof2021_DF_eval/flac/DF_E_4251700.flac\n",
            "ASVspoof2021_DF_eval/flac/DF_E_4251703.flac\n",
            "ASVspoof2021_DF_eval/flac/DF_E_4251704.flac\n",
            "ASVspoof2021_DF_eval/flac/DF_E_4251705.flac\n",
            "ASVspoof2021_DF_eval/flac/DF_E_4251707.flac\n",
            "ASVspoof2021_DF_eval/flac/DF_E_4251708.flac\n",
            "ASVspoof2021_DF_eval/flac/DF_E_4251713.flac\n",
            "ASVspoof2021_DF_eval/flac/DF_E_4251716.flac\n",
            "ASVspoof2021_DF_eval/flac/DF_E_4251723.flac\n",
            "ASVspoof2021_DF_eval/flac/DF_E_4251726.flac\n",
            "ASVspoof2021_DF_eval/flac/DF_E_4251738.flac\n",
            "ASVspoof2021_DF_eval/flac/DF_E_4251751.flac\n",
            "ASVspoof2021_DF_eval/flac/DF_E_4251756.flac\n",
            "ASVspoof2021_DF_eval/flac/DF_E_4251758.flac\n",
            "ASVspoof2021_DF_eval/flac/DF_E_4251765.flac\n",
            "ASVspoof2021_DF_eval/flac/DF_E_4251773.flac\n",
            "ASVspoof2021_DF_eval/flac/DF_E_4251778.flac\n",
            "ASVspoof2021_DF_eval/flac/DF_E_4251781.flac\n",
            "ASVspoof2021_DF_eval/flac/DF_E_4251789.flac\n",
            "ASVspoof2021_DF_eval/flac/DF_E_4251790.flac\n",
            "ASVspoof2021_DF_eval/flac/DF_E_4251792.flac\n",
            "ASVspoof2021_DF_eval/flac/DF_E_4251797.flac\n",
            "ASVspoof2021_DF_eval/flac/DF_E_4251800.flac\n",
            "ASVspoof2021_DF_eval/flac/DF_E_4251803.flac\n",
            "ASVspoof2021_DF_eval/flac/DF_E_4251814.flac\n",
            "ASVspoof2021_DF_eval/flac/DF_E_4251824.flac\n",
            "ASVspoof2021_DF_eval/flac/DF_E_4251827.flac\n",
            "ASVspoof2021_DF_eval/flac/DF_E_4251829.flac\n",
            "ASVspoof2021_DF_eval/flac/DF_E_4251831.flac\n",
            "ASVspoof2021_DF_eval/flac/DF_E_4251833.flac\n",
            "ASVspoof2021_DF_eval/flac/DF_E_4251841.flac\n",
            "ASVspoof2021_DF_eval/flac/DF_E_4251843.flac\n",
            "ASVspoof2021_DF_eval/flac/DF_E_4251850.flac\n",
            "ASVspoof2021_DF_eval/flac/DF_E_4251857.flac\n",
            "ASVspoof2021_DF_eval/flac/DF_E_4251858.flac\n",
            "ASVspoof2021_DF_eval/flac/DF_E_4251879.flac\n",
            "ASVspoof2021_DF_eval/flac/DF_E_4251882.flac\n",
            "ASVspoof2021_DF_eval/flac/DF_E_4251884.flac\n",
            "ASVspoof2021_DF_eval/flac/DF_E_4251887.flac\n",
            "ASVspoof2021_DF_eval/flac/DF_E_4251891.flac\n",
            "ASVspoof2021_DF_eval/flac/DF_E_4251893.flac\n",
            "ASVspoof2021_DF_eval/flac/DF_E_4251898.flac\n",
            "ASVspoof2021_DF_eval/flac/DF_E_4251899.flac\n",
            "ASVspoof2021_DF_eval/flac/DF_E_4251904.flac\n",
            "ASVspoof2021_DF_eval/flac/DF_E_4251911.flac\n",
            "ASVspoof2021_DF_eval/flac/DF_E_4251922.flac\n",
            "ASVspoof2021_DF_eval/flac/DF_E_4251928.flac\n",
            "ASVspoof2021_DF_eval/flac/DF_E_4251937.flac\n",
            "ASVspoof2021_DF_eval/flac/DF_E_4251951.flac\n",
            "ASVspoof2021_DF_eval/flac/DF_E_4251954.flac\n",
            "ASVspoof2021_DF_eval/flac/DF_E_4251956.flac\n",
            "ASVspoof2021_DF_eval/flac/DF_E_4251957.flac\n",
            "ASVspoof2021_DF_eval/flac/DF_E_4251959.flac\n",
            "ASVspoof2021_DF_eval/flac/DF_E_4251960.flac\n",
            "ASVspoof2021_DF_eval/flac/DF_E_4251961.flac\n",
            "ASVspoof2021_DF_eval/flac/DF_E_4251970.flac\n",
            "ASVspoof2021_DF_eval/flac/DF_E_4251975.flac\n",
            "ASVspoof2021_DF_eval/flac/DF_E_4251977.flac\n",
            "ASVspoof2021_DF_eval/flac/DF_E_4251978.flac\n",
            "ASVspoof2021_DF_eval/flac/DF_E_4251988.flac\n",
            "ASVspoof2021_DF_eval/flac/DF_E_4251989.flac\n",
            "ASVspoof2021_DF_eval/flac/DF_E_4251990.flac\n",
            "ASVspoof2021_DF_eval/flac/DF_E_4251992.flac\n",
            "ASVspoof2021_DF_eval/flac/DF_E_4251997.flac\n",
            "ASVspoof2021_DF_eval/flac/DF_E_4252002.flac\n",
            "ASVspoof2021_DF_eval/flac/DF_E_4252013.flac\n",
            "ASVspoof2021_DF_eval/flac/DF_E_4252014.flac\n",
            "ASVspoof2021_DF_eval/flac/DF_E_4252015.flac\n",
            "ASVspoof2021_DF_eval/flac/DF_E_4252019.flac\n",
            "ASVspoof2021_DF_eval/flac/DF_E_4252033.flac\n",
            "ASVspoof2021_DF_eval/flac/DF_E_4252034.flac\n",
            "ASVspoof2021_DF_eval/flac/DF_E_4252039.flac\n",
            "ASVspoof2021_DF_eval/flac/DF_E_4252042.flac\n",
            "ASVspoof2021_DF_eval/flac/DF_E_4252043.flac\n",
            "\n",
            "gzip: stdin: unexpected end of file\n",
            "ASVspoof2021_DF_eval/flac/DF_E_4252048.flac\n",
            "ASVspoof2021_DF_eval/flac/DF_E_4252050.flac\n",
            "tar: Unexpected EOF in archive\n",
            "tar: Unexpected EOF in archive\n",
            "tar: Error is not recoverable: exiting now\n"
          ]
        }
      ]
    },
    {
      "cell_type": "code",
      "source": [
        "data_path = \"/content/drive/MyDrive/ASVspoof2021/ASVspoof2021_DF_eval/flac\"\n"
      ],
      "metadata": {
        "id": "IBnckKEAhCuh"
      },
      "execution_count": 2,
      "outputs": []
    },
    {
      "cell_type": "code",
      "source": [
        "import os\n",
        "\n",
        "data_path = \"/content/drive/MyDrive/ASVspoof2021/ASVspoof2021_DF_eval/flac\"\n",
        "\n",
        "if os.path.exists(data_path):\n",
        "    files = os.listdir(data_path)\n",
        "    print(f\"Total audio files: {len(files)}\")\n",
        "    print(\"Sample files:\", files[:5])  # Show first 5 files\n",
        "else:\n",
        "    print(\"❌ Directory not found! Check the path.\")\n",
        "\n"
      ],
      "metadata": {
        "colab": {
          "base_uri": "https://localhost:8080/"
        },
        "id": "FMRggpTRhNIs",
        "outputId": "7049696d-7121-4c75-afdb-9f5011f931eb"
      },
      "execution_count": 3,
      "outputs": [
        {
          "output_type": "stream",
          "name": "stdout",
          "text": [
            "Total audio files: 2231\n",
            "Sample files: ['DF_E_2000829.flac', 'DF_E_2753491.flac', 'DF_E_2000946.flac', 'DF_E_2751336.flac', 'DF_E_2753263.flac']\n"
          ]
        }
      ]
    },
    {
      "cell_type": "code",
      "source": [
        "data_path = \"/content/drive/MyDrive/ASVspoof2021/flac\"\n",
        "\n"
      ],
      "metadata": {
        "id": "zjg9f7sWitqt"
      },
      "execution_count": 10,
      "outputs": []
    },
    {
      "cell_type": "code",
      "source": [
        "import os\n",
        "\n",
        "data_path = \"/content/drive/MyDrive/ASVspoof2021/ASVspoof2021_DF_eval/flac\"\n",
        "files = os.listdir(data_path)\n",
        "\n",
        "print(f\"Total audio files: {len(files)}\")\n",
        "print(\"Sample files:\", files[:5])\n",
        "\n",
        "\n"
      ],
      "metadata": {
        "colab": {
          "base_uri": "https://localhost:8080/"
        },
        "id": "HyuAmbXljxLD",
        "outputId": "9d84190a-3b75-4387-a1de-65d58d098368"
      },
      "execution_count": 11,
      "outputs": [
        {
          "output_type": "stream",
          "name": "stdout",
          "text": [
            "Total audio files: 2232\n",
            "Sample files: ['DF_E_2753491.flac', 'DF_E_2000946.flac', 'DF_E_2751336.flac', 'DF_E_2753263.flac', 'DF_E_2001196.flac']\n"
          ]
        }
      ]
    },
    {
      "cell_type": "code",
      "source": [
        "import random\n",
        "import IPython.display as ipd\n",
        "\n",
        "\n",
        "sample_file = random.choice(files)\n",
        "sample_path = os.path.join(data_path, sample_file)\n",
        "\n",
        "# Play the audio\n",
        "print(f\"Playing sample: {sample_file}\")\n",
        "ipd.Audio(sample_path)\n"
      ],
      "metadata": {
        "colab": {
          "base_uri": "https://localhost:8080/",
          "height": 92
        },
        "id": "FUmag_3KkOlW",
        "outputId": "c04e2d1e-b026-4320-99bf-462855ea2dfe"
      },
      "execution_count": 12,
      "outputs": [
        {
          "output_type": "stream",
          "name": "stdout",
          "text": [
            "Playing sample: DF_E_2750545.flac\n"
          ]
        },
        {
          "output_type": "execute_result",
          "data": {
            "text/plain": [
              "<IPython.lib.display.Audio object>"
            ],
            "text/html": [
              "\n",
              "                <audio  controls=\"controls\" >\n",
              "                    <source src=\"data:audio/flac;base64,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\" type=\"audio/flac\" />\n",
              "                    Your browser does not support the audio element.\n",
              "                </audio>\n",
              "              "
            ]
          },
          "metadata": {},
          "execution_count": 12
        }
      ]
    },
    {
      "cell_type": "code",
      "source": [
        "data_path = \"/content/drive/MyDrive/ASVspoof2021/ASVspoof2021_DF_eval/flac\"\n",
        "\n"
      ],
      "metadata": {
        "id": "w0xeNl5T1S55"
      },
      "execution_count": 8,
      "outputs": []
    },
    {
      "cell_type": "code",
      "source": [
        "DATA_DIR = \"/content/drive/MyDrive/ASVspoof2021/keys\"\n",
        "!mkdir -p {DATA_DIR}\n"
      ],
      "metadata": {
        "id": "jyGIwdry3fAs"
      },
      "execution_count": 22,
      "outputs": []
    },
    {
      "cell_type": "code",
      "source": [
        "!DATA_DIR=\"/content/drive/MyDrive/ASVspoof2021/keys\"\n",
        "!mkdir -p $DATA_DIR\n",
        "\n",
        "!echo -e \"https://www.asvspoof.org/asvspoof2021/LA-keys-full.tar.gz\\nhttps://www.asvspoof.org/asvspoof2021/PA-keys-full.tar.gz\\nhttps://www.asvspoof.org/asvspoof2021/DF-keys-full.tar.gz\" | xargs -n 1 -P 3 wget -P $DATA_DIR\n",
        "\n"
      ],
      "metadata": {
        "colab": {
          "base_uri": "https://localhost:8080/"
        },
        "id": "XzUi4BS83iIJ",
        "outputId": "044d4ba7-21c3-45ac-92d2-75653e620b0e"
      },
      "execution_count": 23,
      "outputs": [
        {
          "output_type": "stream",
          "name": "stdout",
          "text": [
            "--2025-04-05 12:42:38--  https://www.asvspoof.org/asvspoof2021/DF-keys-full.tar.gz\n",
            "--2025-04-05 12:42:38--  https://www.asvspoof.org/asvspoof2021/LA-keys-full.tar.gz\n",
            "Resolving www.asvspoof.org (www.asvspoof.org)... --2025-04-05 12:42:38--  https://www.asvspoof.org/asvspoof2021/PA-keys-full.tar.gz\n",
            "Resolving www.asvspoof.org (www.asvspoof.org)... Resolving www.asvspoof.org (www.asvspoof.org)... 193.55.113.222\n",
            "Connecting to www.asvspoof.org (www.asvspoof.org)|193.55.113.222|:443... 193.55.113.222\n",
            "Connecting to www.asvspoof.org (www.asvspoof.org)|193.55.113.222|:443... 193.55.113.222\n",
            "Connecting to www.asvspoof.org (www.asvspoof.org)|193.55.113.222|:443... connected.\n",
            "connected.\n",
            "connected.\n",
            "HTTP request sent, awaiting response... HTTP request sent, awaiting response... HTTP request sent, awaiting response... ^C\n"
          ]
        }
      ]
    },
    {
      "cell_type": "code",
      "source": [
        "!tar -xvzf /content/drive/MyDrive/ASVspoof2021/keys/DF-keys-full.tar.gz -C /content/drive/MyDrive/ASVspoof2021/keys\n",
        "!tar -xvzf /content/drive/MyDrive/ASVspoof2021/keys/LA-keys-full.tar.gz -C /content/drive/MyDrive/ASVspoof2021/keys\n",
        "!tar -xvzf /content/drive/MyDrive/ASVspoof2021/keys/PA-keys-full.tar.gz -C /content/drive/MyDrive/ASVspoof2021/keys\n"
      ],
      "metadata": {
        "colab": {
          "base_uri": "https://localhost:8080/"
        },
        "id": "ro80ibwC5Jh3",
        "outputId": "5897bca2-a4cf-4b3c-ce26-ba9db519cabb"
      },
      "execution_count": 21,
      "outputs": [
        {
          "output_type": "stream",
          "name": "stdout",
          "text": [
            "keys/DF/\n",
            "keys/DF/CM/\n",
            "keys/DF/CM/trial_metadata.txt\n",
            "keys/DF/CM/LFCC-GMM/\n",
            "keys/DF/CM/LFCC-GMM/score.txt\n",
            "keys/DF/CM/LFCC-LCNN/\n",
            "keys/DF/CM/LFCC-LCNN/score.txt\n",
            "keys/DF/CM/RawNet2/\n",
            "keys/DF/CM/RawNet2/score.txt\n",
            "keys/DF/CM/CQCC-GMM/\n",
            "keys/DF/CM/CQCC-GMM/score.txt\n",
            "keys/DF/README.txt\n",
            "keys/LA/\n",
            "keys/LA/README.txt\n",
            "keys/LA/ASV/\n",
            "keys/LA/ASV/ASVTorch_Kaldi/\n",
            "keys/LA/ASV/ASVTorch_Kaldi/score.txt\n",
            "keys/LA/ASV/trial_metadata.txt\n",
            "keys/LA/CM/\n",
            "keys/LA/CM/trial_metadata.txt\n",
            "keys/LA/CM/LFCC-GMM/\n",
            "keys/LA/CM/LFCC-GMM/score.txt\n",
            "keys/LA/CM/LFCC-LCNN/\n",
            "keys/LA/CM/LFCC-LCNN/score.txt\n",
            "keys/LA/CM/RawNet2/\n",
            "keys/LA/CM/RawNet2/score.txt\n",
            "keys/LA/CM/CQCC-GMM/\n",
            "keys/LA/CM/CQCC-GMM/score.txt\n",
            "keys/LA/LA-C012-eval.npy\n",
            "keys/LA/LA-C012-prog.npy\n",
            "keys/LA/LA-C012-hidden.npy\n",
            "keys/PA/\n",
            "keys/PA/ASV/\n",
            "keys/PA/ASV/trial_metadata.txt\n",
            "keys/PA/ASV/ASVTorch_Kaldi/\n",
            "keys/PA/ASV/ASVTorch_Kaldi/score.txt\n",
            "keys/PA/CM/\n",
            "keys/PA/CM/trial_metadata.txt\n",
            "keys/PA/CM/LFCC-GMM/\n",
            "keys/PA/CM/LFCC-GMM/score.txt\n",
            "keys/PA/CM/LFCC-LCNN/\n",
            "keys/PA/CM/LFCC-LCNN/score.txt\n",
            "keys/PA/CM/RawNet2/\n",
            "keys/PA/CM/RawNet2/score.txt\n",
            "keys/PA/CM/CQCC-GMM/\n",
            "keys/PA/CM/CQCC-GMM/score.txt\n",
            "keys/PA/PA-C012-eval.npy\n",
            "keys/PA/PA-C012-prog.npy\n",
            "keys/PA/PA-C012-hidden1.npy\n",
            "keys/PA/PA-C012-hidden2.npy\n",
            "keys/PA/README.txt\n"
          ]
        }
      ]
    },
    {
      "cell_type": "code",
      "source": [
        "!tar -xvf /content/drive/MyDrive/ASVspoof2021/keys/DF-keys-full.tar.gz -C /content/drive/MyDrive/ASVspoof2021/keys/\n",
        "!tar -xvf /content/drive/MyDrive/ASVspoof2021/keys/LA-keys-full.tar.gz -C /content/drive/MyDrive/ASVspoof2021/keys/\n",
        "!tar -xvf /content/drive/MyDrive/ASVspoof2021/keys/PA-keys-full.tar.gz -C /content/drive/MyDrive/ASVspoof2021/keys/\n"
      ],
      "metadata": {
        "colab": {
          "base_uri": "https://localhost:8080/"
        },
        "id": "b_6XwkA_8KRb",
        "outputId": "40800bea-2be5-4af1-cda2-971e408376d1"
      },
      "execution_count": 22,
      "outputs": [
        {
          "output_type": "stream",
          "name": "stdout",
          "text": [
            "keys/DF/\n",
            "keys/DF/CM/\n",
            "keys/DF/CM/trial_metadata.txt\n",
            "keys/DF/CM/LFCC-GMM/\n",
            "keys/DF/CM/LFCC-GMM/score.txt\n",
            "keys/DF/CM/LFCC-LCNN/\n",
            "keys/DF/CM/LFCC-LCNN/score.txt\n",
            "keys/DF/CM/RawNet2/\n",
            "keys/DF/CM/RawNet2/score.txt\n",
            "keys/DF/CM/CQCC-GMM/\n",
            "keys/DF/CM/CQCC-GMM/score.txt\n",
            "keys/DF/README.txt\n",
            "keys/LA/\n",
            "keys/LA/README.txt\n",
            "keys/LA/ASV/\n",
            "keys/LA/ASV/ASVTorch_Kaldi/\n",
            "keys/LA/ASV/ASVTorch_Kaldi/score.txt\n",
            "keys/LA/ASV/trial_metadata.txt\n",
            "keys/LA/CM/\n",
            "keys/LA/CM/trial_metadata.txt\n",
            "keys/LA/CM/LFCC-GMM/\n",
            "keys/LA/CM/LFCC-GMM/score.txt\n",
            "keys/LA/CM/LFCC-LCNN/\n",
            "keys/LA/CM/LFCC-LCNN/score.txt\n",
            "keys/LA/CM/RawNet2/\n",
            "keys/LA/CM/RawNet2/score.txt\n",
            "keys/LA/CM/CQCC-GMM/\n",
            "keys/LA/CM/CQCC-GMM/score.txt\n",
            "keys/LA/LA-C012-eval.npy\n",
            "keys/LA/LA-C012-prog.npy\n",
            "keys/LA/LA-C012-hidden.npy\n",
            "keys/PA/\n",
            "keys/PA/ASV/\n",
            "keys/PA/ASV/trial_metadata.txt\n",
            "keys/PA/ASV/ASVTorch_Kaldi/\n",
            "keys/PA/ASV/ASVTorch_Kaldi/score.txt\n",
            "keys/PA/CM/\n",
            "keys/PA/CM/trial_metadata.txt\n",
            "keys/PA/CM/LFCC-GMM/\n",
            "keys/PA/CM/LFCC-GMM/score.txt\n",
            "keys/PA/CM/LFCC-LCNN/\n",
            "keys/PA/CM/LFCC-LCNN/score.txt\n",
            "keys/PA/CM/RawNet2/\n",
            "keys/PA/CM/RawNet2/score.txt\n",
            "keys/PA/CM/CQCC-GMM/\n",
            "keys/PA/CM/CQCC-GMM/score.txt\n",
            "keys/PA/PA-C012-eval.npy\n",
            "keys/PA/PA-C012-prog.npy\n",
            "keys/PA/PA-C012-hidden1.npy\n",
            "keys/PA/PA-C012-hidden2.npy\n",
            "keys/PA/README.txt\n"
          ]
        }
      ]
    },
    {
      "cell_type": "code",
      "source": [
        "!tar -xvf /content/drive/MyDrive/ASVspoof2021/keys/DF-keys-full.tar.gz -C /content/drive/MyDrive/ASVspoof2021/keys/\n",
        "!tar -xvf /content/drive/MyDrive/ASVspoof2021/keys/LA-keys-full.tar.gz -C /content/drive/MyDrive/ASVspoof2021/keys/\n",
        "!tar -xvf /content/drive/MyDrive/ASVspoof2021/keys/PA-keys-full.tar.gz -C /content/drive/MyDrive/ASVspoof2021/keys/\n"
      ],
      "metadata": {
        "colab": {
          "base_uri": "https://localhost:8080/"
        },
        "id": "YgqLzPu1-sGM",
        "outputId": "c842c754-70ec-4f7f-cb43-c4ed20d5f56c"
      },
      "execution_count": 23,
      "outputs": [
        {
          "output_type": "stream",
          "name": "stdout",
          "text": [
            "keys/DF/\n",
            "keys/DF/CM/\n",
            "keys/DF/CM/trial_metadata.txt\n",
            "keys/DF/CM/LFCC-GMM/\n",
            "keys/DF/CM/LFCC-GMM/score.txt\n",
            "keys/DF/CM/LFCC-LCNN/\n",
            "keys/DF/CM/LFCC-LCNN/score.txt\n",
            "keys/DF/CM/RawNet2/\n",
            "keys/DF/CM/RawNet2/score.txt\n",
            "keys/DF/CM/CQCC-GMM/\n",
            "keys/DF/CM/CQCC-GMM/score.txt\n",
            "keys/DF/README.txt\n",
            "keys/LA/\n",
            "keys/LA/README.txt\n",
            "keys/LA/ASV/\n",
            "keys/LA/ASV/ASVTorch_Kaldi/\n",
            "keys/LA/ASV/ASVTorch_Kaldi/score.txt\n",
            "keys/LA/ASV/trial_metadata.txt\n",
            "keys/LA/CM/\n",
            "keys/LA/CM/trial_metadata.txt\n",
            "keys/LA/CM/LFCC-GMM/\n",
            "keys/LA/CM/LFCC-GMM/score.txt\n",
            "keys/LA/CM/LFCC-LCNN/\n",
            "keys/LA/CM/LFCC-LCNN/score.txt\n",
            "keys/LA/CM/RawNet2/\n",
            "keys/LA/CM/RawNet2/score.txt\n",
            "keys/LA/CM/CQCC-GMM/\n",
            "keys/LA/CM/CQCC-GMM/score.txt\n",
            "keys/LA/LA-C012-eval.npy\n",
            "keys/LA/LA-C012-prog.npy\n",
            "keys/LA/LA-C012-hidden.npy\n",
            "keys/PA/\n",
            "keys/PA/ASV/\n",
            "keys/PA/ASV/trial_metadata.txt\n",
            "keys/PA/ASV/ASVTorch_Kaldi/\n",
            "keys/PA/ASV/ASVTorch_Kaldi/score.txt\n",
            "keys/PA/CM/\n",
            "keys/PA/CM/trial_metadata.txt\n",
            "keys/PA/CM/LFCC-GMM/\n",
            "keys/PA/CM/LFCC-GMM/score.txt\n",
            "keys/PA/CM/LFCC-LCNN/\n",
            "keys/PA/CM/LFCC-LCNN/score.txt\n",
            "keys/PA/CM/RawNet2/\n",
            "keys/PA/CM/RawNet2/score.txt\n",
            "keys/PA/CM/CQCC-GMM/\n",
            "keys/PA/CM/CQCC-GMM/score.txt\n",
            "keys/PA/PA-C012-eval.npy\n",
            "keys/PA/PA-C012-prog.npy\n",
            "keys/PA/PA-C012-hidden1.npy\n",
            "keys/PA/PA-C012-hidden2.npy\n",
            "keys/PA/README.txt\n"
          ]
        }
      ]
    },
    {
      "cell_type": "code",
      "source": [
        "!rm -rf /content/drive/MyDrive/ASVspoof2021/keys/DF/\n",
        "!rm -rf /content/drive/MyDrive/ASVspoof2021/keys/LA/\n",
        "!rm -rf /content/drive/MyDrive/ASVspoof2021/keys/PA/\n",
        "\n"
      ],
      "metadata": {
        "id": "tTfoTPVkAkWs"
      },
      "execution_count": 24,
      "outputs": []
    },
    {
      "cell_type": "code",
      "source": [
        "!tar -xvf /content/drive/MyDrive/ASVspoof2021/keys/DF-keys-full.tar.gz -C /content/drive/MyDrive/ASVspoof2021/keys/\n",
        "!ls -lh /content/drive/MyDrive/ASVspoof2021/keys/\n"
      ],
      "metadata": {
        "colab": {
          "base_uri": "https://localhost:8080/"
        },
        "id": "A73Tj7EvBSB1",
        "outputId": "11e26d06-611e-4cf6-e28e-88e88bb2c603"
      },
      "execution_count": 20,
      "outputs": [
        {
          "output_type": "stream",
          "name": "stdout",
          "text": [
            "keys/DF/\n",
            "keys/DF/CM/\n",
            "keys/DF/CM/trial_metadata.txt\n",
            "keys/DF/CM/LFCC-GMM/\n",
            "keys/DF/CM/LFCC-GMM/score.txt\n",
            "keys/DF/CM/LFCC-LCNN/\n",
            "keys/DF/CM/LFCC-LCNN/score.txt\n",
            "keys/DF/CM/RawNet2/\n",
            "keys/DF/CM/RawNet2/score.txt\n",
            "keys/DF/CM/CQCC-GMM/\n",
            "keys/DF/CM/CQCC-GMM/score.txt\n",
            "keys/DF/README.txt\n",
            "total 235M\n",
            "drwx------ 3 root root 4.0K Oct  1  2022 DF\n",
            "-rw------- 1 root root  25M Nov 28 13:36 DF-keys-full.tar.gz\n",
            "-rw------- 1 root root  25M Nov 28 13:36 DF-keys-full.tar.gz.1\n",
            "drwx------ 3 root root 4.0K Apr  4 13:03 keys\n",
            "drwx------ 4 root root 4.0K Apr 13  2023 LA\n",
            "-rw------- 1 root root  21M Nov 28 13:36 LA-keys-full.tar.gz\n",
            "-rw------- 1 root root  21M Nov 28 13:36 LA-keys-full.tar.gz.1\n",
            "drwx------ 4 root root 4.0K Oct  1  2022 PA\n",
            "-rw------- 1 root root  73M Nov 28 13:36 PA-keys-full.tar.gz\n",
            "-rw------- 1 root root  73M Nov 28 13:36 PA-keys-full.tar.gz.1\n"
          ]
        }
      ]
    },
    {
      "cell_type": "code",
      "source": [
        "!tar -xvf /content/drive/MyDrive/ASVspoof2021/keys/DF-keys-full.tar.gz -C /content/drive/MyDrive/ASVspoof2021/keys/\n",
        "!tar -xvf /content/drive/MyDrive/ASVspoof2021/keys/LA-keys-full.tar.gz -C /content/drive/MyDrive/ASVspoof2021/keys/\n",
        "!tar -xvf /content/drive/MyDrive/ASVspoof2021/keys/PA-keys-full.tar.gz -C /content/drive/MyDrive/ASVspoof2021/keys/\n",
        "\n"
      ],
      "metadata": {
        "colab": {
          "base_uri": "https://localhost:8080/"
        },
        "id": "JodzBJ9qES49",
        "outputId": "00965044-c1ed-4721-e06d-973c5f1a94b2"
      },
      "execution_count": 22,
      "outputs": [
        {
          "output_type": "stream",
          "name": "stdout",
          "text": [
            "keys/DF/\n",
            "keys/DF/CM/\n",
            "keys/DF/CM/trial_metadata.txt\n",
            "keys/DF/CM/LFCC-GMM/\n",
            "keys/DF/CM/LFCC-GMM/score.txt\n",
            "keys/DF/CM/LFCC-LCNN/\n",
            "keys/DF/CM/LFCC-LCNN/score.txt\n",
            "keys/DF/CM/RawNet2/\n",
            "keys/DF/CM/RawNet2/score.txt\n",
            "keys/DF/CM/CQCC-GMM/\n",
            "keys/DF/CM/CQCC-GMM/score.txt\n",
            "keys/DF/README.txt\n",
            "keys/LA/\n",
            "keys/LA/README.txt\n",
            "keys/LA/ASV/\n",
            "keys/LA/ASV/ASVTorch_Kaldi/\n",
            "keys/LA/ASV/ASVTorch_Kaldi/score.txt\n",
            "keys/LA/ASV/trial_metadata.txt\n",
            "keys/LA/CM/\n",
            "keys/LA/CM/trial_metadata.txt\n",
            "keys/LA/CM/LFCC-GMM/\n",
            "keys/LA/CM/LFCC-GMM/score.txt\n",
            "keys/LA/CM/LFCC-LCNN/\n",
            "keys/LA/CM/LFCC-LCNN/score.txt\n",
            "keys/LA/CM/RawNet2/\n",
            "keys/LA/CM/RawNet2/score.txt\n",
            "keys/LA/CM/CQCC-GMM/\n",
            "keys/LA/CM/CQCC-GMM/score.txt\n",
            "keys/LA/LA-C012-eval.npy\n",
            "keys/LA/LA-C012-prog.npy\n",
            "keys/LA/LA-C012-hidden.npy\n",
            "keys/PA/\n",
            "keys/PA/ASV/\n",
            "keys/PA/ASV/trial_metadata.txt\n",
            "keys/PA/ASV/ASVTorch_Kaldi/\n",
            "keys/PA/ASV/ASVTorch_Kaldi/score.txt\n",
            "keys/PA/CM/\n",
            "keys/PA/CM/trial_metadata.txt\n",
            "keys/PA/CM/LFCC-GMM/\n",
            "keys/PA/CM/LFCC-GMM/score.txt\n",
            "keys/PA/CM/LFCC-LCNN/\n",
            "keys/PA/CM/LFCC-LCNN/score.txt\n",
            "keys/PA/CM/RawNet2/\n",
            "keys/PA/CM/RawNet2/score.txt\n",
            "keys/PA/CM/CQCC-GMM/\n",
            "keys/PA/CM/CQCC-GMM/score.txt\n",
            "keys/PA/PA-C012-eval.npy\n",
            "keys/PA/PA-C012-prog.npy\n",
            "keys/PA/PA-C012-hidden1.npy\n",
            "keys/PA/PA-C012-hidden2.npy\n",
            "keys/PA/README.txt\n"
          ]
        }
      ]
    },
    {
      "cell_type": "code",
      "source": [
        "!rm -r /content/drive/MyDrive/ASVspoof2021/keys/keys\n"
      ],
      "metadata": {
        "id": "xvMrTRqnKHZL"
      },
      "execution_count": 25,
      "outputs": []
    },
    {
      "cell_type": "code",
      "source": [
        "!ls -lh /content/drive/MyDrive/ASVspoof2021/keys/\n"
      ],
      "metadata": {
        "colab": {
          "base_uri": "https://localhost:8080/"
        },
        "id": "T-Y2souWKJil",
        "outputId": "e149f8fe-31c6-4a8a-cede-e87d0f0e1ea8"
      },
      "execution_count": 19,
      "outputs": [
        {
          "output_type": "stream",
          "name": "stdout",
          "text": [
            "total 704M\n",
            "drwx------ 3 root root 4.0K Oct  1  2022 DF\n",
            "-rw------- 1 root root  25M Nov 28 13:36 DF-keys-full.tar.gz\n",
            "-rw------- 1 root root  25M Nov 28 13:36 DF-keys-full.tar.gz.1\n",
            "-rw------- 1 root root  25M Nov 28 13:36 DF-keys-full.tar.gz.2\n",
            "-rw------- 1 root root  25M Nov 28 13:36 DF-keys-full.tar.gz.3\n",
            "-rw------- 1 root root  25M Nov 28 13:36 DF-keys-full.tar.gz.4\n",
            "-rw------- 1 root root  25M Nov 28 13:36 DF-keys-full.tar.gz.5\n",
            "drwx------ 2 root root 4.0K Apr 13  2023 LA\n",
            "-rw------- 1 root root  21M Nov 28 13:36 LA-keys-full.tar.gz\n",
            "-rw------- 1 root root  21M Nov 28 13:36 LA-keys-full.tar.gz.1\n",
            "-rw------- 1 root root  21M Nov 28 13:36 LA-keys-full.tar.gz.2\n",
            "-rw------- 1 root root  21M Nov 28 13:36 LA-keys-full.tar.gz.3\n",
            "-rw------- 1 root root  21M Nov 28 13:36 LA-keys-full.tar.gz.4\n",
            "-rw------- 1 root root  21M Nov 28 13:36 LA-keys-full.tar.gz.5\n",
            "drwx------ 2 root root 4.0K Apr  4 13:03 PA\n",
            "-rw------- 1 root root  73M Nov 28 13:36 PA-keys-full.tar.gz\n",
            "-rw------- 1 root root  73M Nov 28 13:36 PA-keys-full.tar.gz.1\n",
            "-rw------- 1 root root  73M Nov 28 13:36 PA-keys-full.tar.gz.2\n",
            "-rw------- 1 root root  73M Nov 28 13:36 PA-keys-full.tar.gz.3\n",
            "-rw------- 1 root root  73M Nov 28 13:36 PA-keys-full.tar.gz.4\n",
            "-rw------- 1 root root  73M Nov 28 13:36 PA-keys-full.tar.gz.5\n"
          ]
        }
      ]
    },
    {
      "cell_type": "code",
      "source": [
        "meta_file = \"/content/drive/MyDrive/ASVspoof2021/keys/DF/CM/trial_metadata.txt\"\n",
        "\n",
        "with open(meta_file, \"r\") as f:\n",
        "    lines = f.readlines()\n",
        "\n",
        "print(f\"✅ Loaded {len(lines)} metadata entries.\")\n",
        "\n"
      ],
      "metadata": {
        "colab": {
          "base_uri": "https://localhost:8080/"
        },
        "id": "MXopceyAix7O",
        "outputId": "4bb6baf8-275e-423a-cc0c-6601e20284aa"
      },
      "execution_count": 10,
      "outputs": [
        {
          "output_type": "stream",
          "name": "stdout",
          "text": [
            "✅ Loaded 611829 metadata entries.\n"
          ]
        }
      ]
    },
    {
      "cell_type": "code",
      "source": [
        "metadata_path = \"/content/drive/MyDrive/ASVspoof2021/keys/DF/CM/trial_metadata.txt\"\n",
        "\n",
        "import pandas as pd\n",
        "\n",
        "df_metadata = pd.read_csv(metadata_path, sep=\" \", header=None)\n",
        "df_metadata.head()\n"
      ],
      "metadata": {
        "colab": {
          "base_uri": "https://localhost:8080/",
          "height": 206
        },
        "id": "lnagG2WPKSoU",
        "outputId": "7623d202-2c3d-4d34-9af3-f81cb3fe76ea"
      },
      "execution_count": 17,
      "outputs": [
        {
          "output_type": "execute_result",
          "data": {
            "text/plain": [
              "        0             1        2         3             4      5       6   \\\n",
              "0  LA_0023  DF_E_2000011  nocodec  asvspoof           A14  spoof  notrim   \n",
              "1     TEF2  DF_E_2000013  low_m4a   vcc2020  Task1-team20  spoof  notrim   \n",
              "2     TGF1  DF_E_2000024   mp3m4a   vcc2020  Task2-team12  spoof  notrim   \n",
              "3  LA_0043  DF_E_2000026   mp3m4a  asvspoof           A09  spoof  notrim   \n",
              "4  LA_0021  DF_E_2000027   mp3m4a  asvspoof           A12  spoof  notrim   \n",
              "\n",
              "         7                                 8      9       10  11 12  \n",
              "0  progress               traditional_vocoder      -       -   -  -  \n",
              "1      eval  neural_vocoder_nonautoregressive  Task1  team20  FF  E  \n",
              "2      eval               traditional_vocoder  Task2  team12  FF  G  \n",
              "3      eval               traditional_vocoder      -       -   -  -  \n",
              "4      eval     neural_vocoder_autoregressive      -       -   -  -  "
            ],
            "text/html": [
              "\n",
              "  <div id=\"df-ffddadef-4e3b-4e1e-a9e1-8cad9d467f37\" class=\"colab-df-container\">\n",
              "    <div>\n",
              "<style scoped>\n",
              "    .dataframe tbody tr th:only-of-type {\n",
              "        vertical-align: middle;\n",
              "    }\n",
              "\n",
              "    .dataframe tbody tr th {\n",
              "        vertical-align: top;\n",
              "    }\n",
              "\n",
              "    .dataframe thead th {\n",
              "        text-align: right;\n",
              "    }\n",
              "</style>\n",
              "<table border=\"1\" class=\"dataframe\">\n",
              "  <thead>\n",
              "    <tr style=\"text-align: right;\">\n",
              "      <th></th>\n",
              "      <th>0</th>\n",
              "      <th>1</th>\n",
              "      <th>2</th>\n",
              "      <th>3</th>\n",
              "      <th>4</th>\n",
              "      <th>5</th>\n",
              "      <th>6</th>\n",
              "      <th>7</th>\n",
              "      <th>8</th>\n",
              "      <th>9</th>\n",
              "      <th>10</th>\n",
              "      <th>11</th>\n",
              "      <th>12</th>\n",
              "    </tr>\n",
              "  </thead>\n",
              "  <tbody>\n",
              "    <tr>\n",
              "      <th>0</th>\n",
              "      <td>LA_0023</td>\n",
              "      <td>DF_E_2000011</td>\n",
              "      <td>nocodec</td>\n",
              "      <td>asvspoof</td>\n",
              "      <td>A14</td>\n",
              "      <td>spoof</td>\n",
              "      <td>notrim</td>\n",
              "      <td>progress</td>\n",
              "      <td>traditional_vocoder</td>\n",
              "      <td>-</td>\n",
              "      <td>-</td>\n",
              "      <td>-</td>\n",
              "      <td>-</td>\n",
              "    </tr>\n",
              "    <tr>\n",
              "      <th>1</th>\n",
              "      <td>TEF2</td>\n",
              "      <td>DF_E_2000013</td>\n",
              "      <td>low_m4a</td>\n",
              "      <td>vcc2020</td>\n",
              "      <td>Task1-team20</td>\n",
              "      <td>spoof</td>\n",
              "      <td>notrim</td>\n",
              "      <td>eval</td>\n",
              "      <td>neural_vocoder_nonautoregressive</td>\n",
              "      <td>Task1</td>\n",
              "      <td>team20</td>\n",
              "      <td>FF</td>\n",
              "      <td>E</td>\n",
              "    </tr>\n",
              "    <tr>\n",
              "      <th>2</th>\n",
              "      <td>TGF1</td>\n",
              "      <td>DF_E_2000024</td>\n",
              "      <td>mp3m4a</td>\n",
              "      <td>vcc2020</td>\n",
              "      <td>Task2-team12</td>\n",
              "      <td>spoof</td>\n",
              "      <td>notrim</td>\n",
              "      <td>eval</td>\n",
              "      <td>traditional_vocoder</td>\n",
              "      <td>Task2</td>\n",
              "      <td>team12</td>\n",
              "      <td>FF</td>\n",
              "      <td>G</td>\n",
              "    </tr>\n",
              "    <tr>\n",
              "      <th>3</th>\n",
              "      <td>LA_0043</td>\n",
              "      <td>DF_E_2000026</td>\n",
              "      <td>mp3m4a</td>\n",
              "      <td>asvspoof</td>\n",
              "      <td>A09</td>\n",
              "      <td>spoof</td>\n",
              "      <td>notrim</td>\n",
              "      <td>eval</td>\n",
              "      <td>traditional_vocoder</td>\n",
              "      <td>-</td>\n",
              "      <td>-</td>\n",
              "      <td>-</td>\n",
              "      <td>-</td>\n",
              "    </tr>\n",
              "    <tr>\n",
              "      <th>4</th>\n",
              "      <td>LA_0021</td>\n",
              "      <td>DF_E_2000027</td>\n",
              "      <td>mp3m4a</td>\n",
              "      <td>asvspoof</td>\n",
              "      <td>A12</td>\n",
              "      <td>spoof</td>\n",
              "      <td>notrim</td>\n",
              "      <td>eval</td>\n",
              "      <td>neural_vocoder_autoregressive</td>\n",
              "      <td>-</td>\n",
              "      <td>-</td>\n",
              "      <td>-</td>\n",
              "      <td>-</td>\n",
              "    </tr>\n",
              "  </tbody>\n",
              "</table>\n",
              "</div>\n",
              "    <div class=\"colab-df-buttons\">\n",
              "\n",
              "  <div class=\"colab-df-container\">\n",
              "    <button class=\"colab-df-convert\" onclick=\"convertToInteractive('df-ffddadef-4e3b-4e1e-a9e1-8cad9d467f37')\"\n",
              "            title=\"Convert this dataframe to an interactive table.\"\n",
              "            style=\"display:none;\">\n",
              "\n",
              "  <svg xmlns=\"http://www.w3.org/2000/svg\" height=\"24px\" viewBox=\"0 -960 960 960\">\n",
              "    <path d=\"M120-120v-720h720v720H120Zm60-500h600v-160H180v160Zm220 220h160v-160H400v160Zm0 220h160v-160H400v160ZM180-400h160v-160H180v160Zm440 0h160v-160H620v160ZM180-180h160v-160H180v160Zm440 0h160v-160H620v160Z\"/>\n",
              "  </svg>\n",
              "    </button>\n",
              "\n",
              "  <style>\n",
              "    .colab-df-container {\n",
              "      display:flex;\n",
              "      gap: 12px;\n",
              "    }\n",
              "\n",
              "    .colab-df-convert {\n",
              "      background-color: #E8F0FE;\n",
              "      border: none;\n",
              "      border-radius: 50%;\n",
              "      cursor: pointer;\n",
              "      display: none;\n",
              "      fill: #1967D2;\n",
              "      height: 32px;\n",
              "      padding: 0 0 0 0;\n",
              "      width: 32px;\n",
              "    }\n",
              "\n",
              "    .colab-df-convert:hover {\n",
              "      background-color: #E2EBFA;\n",
              "      box-shadow: 0px 1px 2px rgba(60, 64, 67, 0.3), 0px 1px 3px 1px rgba(60, 64, 67, 0.15);\n",
              "      fill: #174EA6;\n",
              "    }\n",
              "\n",
              "    .colab-df-buttons div {\n",
              "      margin-bottom: 4px;\n",
              "    }\n",
              "\n",
              "    [theme=dark] .colab-df-convert {\n",
              "      background-color: #3B4455;\n",
              "      fill: #D2E3FC;\n",
              "    }\n",
              "\n",
              "    [theme=dark] .colab-df-convert:hover {\n",
              "      background-color: #434B5C;\n",
              "      box-shadow: 0px 1px 3px 1px rgba(0, 0, 0, 0.15);\n",
              "      filter: drop-shadow(0px 1px 2px rgba(0, 0, 0, 0.3));\n",
              "      fill: #FFFFFF;\n",
              "    }\n",
              "  </style>\n",
              "\n",
              "    <script>\n",
              "      const buttonEl =\n",
              "        document.querySelector('#df-ffddadef-4e3b-4e1e-a9e1-8cad9d467f37 button.colab-df-convert');\n",
              "      buttonEl.style.display =\n",
              "        google.colab.kernel.accessAllowed ? 'block' : 'none';\n",
              "\n",
              "      async function convertToInteractive(key) {\n",
              "        const element = document.querySelector('#df-ffddadef-4e3b-4e1e-a9e1-8cad9d467f37');\n",
              "        const dataTable =\n",
              "          await google.colab.kernel.invokeFunction('convertToInteractive',\n",
              "                                                    [key], {});\n",
              "        if (!dataTable) return;\n",
              "\n",
              "        const docLinkHtml = 'Like what you see? Visit the ' +\n",
              "          '<a target=\"_blank\" href=https://colab.research.google.com/notebooks/data_table.ipynb>data table notebook</a>'\n",
              "          + ' to learn more about interactive tables.';\n",
              "        element.innerHTML = '';\n",
              "        dataTable['output_type'] = 'display_data';\n",
              "        await google.colab.output.renderOutput(dataTable, element);\n",
              "        const docLink = document.createElement('div');\n",
              "        docLink.innerHTML = docLinkHtml;\n",
              "        element.appendChild(docLink);\n",
              "      }\n",
              "    </script>\n",
              "  </div>\n",
              "\n",
              "\n",
              "<div id=\"df-416456e4-073d-4b88-9a94-b24bbe54b658\">\n",
              "  <button class=\"colab-df-quickchart\" onclick=\"quickchart('df-416456e4-073d-4b88-9a94-b24bbe54b658')\"\n",
              "            title=\"Suggest charts\"\n",
              "            style=\"display:none;\">\n",
              "\n",
              "<svg xmlns=\"http://www.w3.org/2000/svg\" height=\"24px\"viewBox=\"0 0 24 24\"\n",
              "     width=\"24px\">\n",
              "    <g>\n",
              "        <path d=\"M19 3H5c-1.1 0-2 .9-2 2v14c0 1.1.9 2 2 2h14c1.1 0 2-.9 2-2V5c0-1.1-.9-2-2-2zM9 17H7v-7h2v7zm4 0h-2V7h2v10zm4 0h-2v-4h2v4z\"/>\n",
              "    </g>\n",
              "</svg>\n",
              "  </button>\n",
              "\n",
              "<style>\n",
              "  .colab-df-quickchart {\n",
              "      --bg-color: #E8F0FE;\n",
              "      --fill-color: #1967D2;\n",
              "      --hover-bg-color: #E2EBFA;\n",
              "      --hover-fill-color: #174EA6;\n",
              "      --disabled-fill-color: #AAA;\n",
              "      --disabled-bg-color: #DDD;\n",
              "  }\n",
              "\n",
              "  [theme=dark] .colab-df-quickchart {\n",
              "      --bg-color: #3B4455;\n",
              "      --fill-color: #D2E3FC;\n",
              "      --hover-bg-color: #434B5C;\n",
              "      --hover-fill-color: #FFFFFF;\n",
              "      --disabled-bg-color: #3B4455;\n",
              "      --disabled-fill-color: #666;\n",
              "  }\n",
              "\n",
              "  .colab-df-quickchart {\n",
              "    background-color: var(--bg-color);\n",
              "    border: none;\n",
              "    border-radius: 50%;\n",
              "    cursor: pointer;\n",
              "    display: none;\n",
              "    fill: var(--fill-color);\n",
              "    height: 32px;\n",
              "    padding: 0;\n",
              "    width: 32px;\n",
              "  }\n",
              "\n",
              "  .colab-df-quickchart:hover {\n",
              "    background-color: var(--hover-bg-color);\n",
              "    box-shadow: 0 1px 2px rgba(60, 64, 67, 0.3), 0 1px 3px 1px rgba(60, 64, 67, 0.15);\n",
              "    fill: var(--button-hover-fill-color);\n",
              "  }\n",
              "\n",
              "  .colab-df-quickchart-complete:disabled,\n",
              "  .colab-df-quickchart-complete:disabled:hover {\n",
              "    background-color: var(--disabled-bg-color);\n",
              "    fill: var(--disabled-fill-color);\n",
              "    box-shadow: none;\n",
              "  }\n",
              "\n",
              "  .colab-df-spinner {\n",
              "    border: 2px solid var(--fill-color);\n",
              "    border-color: transparent;\n",
              "    border-bottom-color: var(--fill-color);\n",
              "    animation:\n",
              "      spin 1s steps(1) infinite;\n",
              "  }\n",
              "\n",
              "  @keyframes spin {\n",
              "    0% {\n",
              "      border-color: transparent;\n",
              "      border-bottom-color: var(--fill-color);\n",
              "      border-left-color: var(--fill-color);\n",
              "    }\n",
              "    20% {\n",
              "      border-color: transparent;\n",
              "      border-left-color: var(--fill-color);\n",
              "      border-top-color: var(--fill-color);\n",
              "    }\n",
              "    30% {\n",
              "      border-color: transparent;\n",
              "      border-left-color: var(--fill-color);\n",
              "      border-top-color: var(--fill-color);\n",
              "      border-right-color: var(--fill-color);\n",
              "    }\n",
              "    40% {\n",
              "      border-color: transparent;\n",
              "      border-right-color: var(--fill-color);\n",
              "      border-top-color: var(--fill-color);\n",
              "    }\n",
              "    60% {\n",
              "      border-color: transparent;\n",
              "      border-right-color: var(--fill-color);\n",
              "    }\n",
              "    80% {\n",
              "      border-color: transparent;\n",
              "      border-right-color: var(--fill-color);\n",
              "      border-bottom-color: var(--fill-color);\n",
              "    }\n",
              "    90% {\n",
              "      border-color: transparent;\n",
              "      border-bottom-color: var(--fill-color);\n",
              "    }\n",
              "  }\n",
              "</style>\n",
              "\n",
              "  <script>\n",
              "    async function quickchart(key) {\n",
              "      const quickchartButtonEl =\n",
              "        document.querySelector('#' + key + ' button');\n",
              "      quickchartButtonEl.disabled = true;  // To prevent multiple clicks.\n",
              "      quickchartButtonEl.classList.add('colab-df-spinner');\n",
              "      try {\n",
              "        const charts = await google.colab.kernel.invokeFunction(\n",
              "            'suggestCharts', [key], {});\n",
              "      } catch (error) {\n",
              "        console.error('Error during call to suggestCharts:', error);\n",
              "      }\n",
              "      quickchartButtonEl.classList.remove('colab-df-spinner');\n",
              "      quickchartButtonEl.classList.add('colab-df-quickchart-complete');\n",
              "    }\n",
              "    (() => {\n",
              "      let quickchartButtonEl =\n",
              "        document.querySelector('#df-416456e4-073d-4b88-9a94-b24bbe54b658 button');\n",
              "      quickchartButtonEl.style.display =\n",
              "        google.colab.kernel.accessAllowed ? 'block' : 'none';\n",
              "    })();\n",
              "  </script>\n",
              "</div>\n",
              "\n",
              "    </div>\n",
              "  </div>\n"
            ],
            "application/vnd.google.colaboratory.intrinsic+json": {
              "type": "dataframe",
              "variable_name": "df_metadata"
            }
          },
          "metadata": {},
          "execution_count": 17
        }
      ]
    },
    {
      "cell_type": "code",
      "source": [
        "import tarfile\n",
        "\n",
        "key_archive_path = \"/content/drive/MyDrive/ASVspoof2021/keys/DF-keys-full.tar.gz\"\n",
        "extract_dir = \"/content/drive/MyDrive/ASVspoof2021/keys/DF\"\n",
        "\n",
        "with tarfile.open(key_archive_path, \"r:gz\") as tar:\n",
        "    tar.extractall(path=extract_dir)\n",
        "\n",
        "print(\"✅ Extracted DF metadata keys to:\", extract_dir)\n"
      ],
      "metadata": {
        "colab": {
          "base_uri": "https://localhost:8080/"
        },
        "id": "WIUhAHpUWzH-",
        "outputId": "bde5734c-ddbf-424c-f7c0-a2f858a1a3b9"
      },
      "execution_count": 13,
      "outputs": [
        {
          "output_type": "stream",
          "name": "stdout",
          "text": [
            "✅ Extracted DF metadata keys to: /content/drive/MyDrive/ASVspoof2021/keys/DF\n"
          ]
        }
      ]
    },
    {
      "cell_type": "code",
      "source": [
        "!ls -lh /content/drive/MyDrive/ASVspoof2021\n"
      ],
      "metadata": {
        "colab": {
          "base_uri": "https://localhost:8080/"
        },
        "id": "WR7bCBhsX_Z6",
        "outputId": "bbd6026f-7c32-42ac-c39f-b2ce695bc471"
      },
      "execution_count": 16,
      "outputs": [
        {
          "output_type": "stream",
          "name": "stdout",
          "text": [
            "total 28M\n",
            "drwx------ 5 root root 4.0K Apr  4 11:31 ASVspoof2021_DF_eval\n",
            "-rw------- 1 root root  21M Apr  6 15:38 ASVspoof2021_DF_eval_part00.tar.gz\n",
            "drwx------ 3 root root 4.0K Apr  6 12:55 ASVspoof2021_DF_eval_test_extract\n",
            "drwx------ 2 root root 4.0K Apr  6 09:54 DF_download\n",
            "drwx------ 2 root root 4.0K Apr  6 14:42 extracted_bonafide\n",
            "drwx------ 5 root root 4.0K Apr  4 11:32 keys\n",
            "-rw------- 1 root root 7.0M Apr  6 15:58 rawnet2_trained.pth\n"
          ]
        }
      ]
    },
    {
      "cell_type": "code",
      "source": [
        "df_metadata.columns = [\n",
        "    \"Speaker_ID\", \"Utterance_ID\", \"Codec\", \"Dataset\", \"System_ID\",\n",
        "    \"Label\", \"Trim\", \"Subset\", \"Attack_Type\", \"Extra1\", \"Extra2\", \"Extra3\", \"Extra4\"\n",
        "]\n",
        "\n",
        "df_metadata.head()\n"
      ],
      "metadata": {
        "colab": {
          "base_uri": "https://localhost:8080/",
          "height": 241
        },
        "id": "O6867UE2LOz6",
        "outputId": "0dca9f91-53e7-4248-c6e2-121e73d0c14d"
      },
      "execution_count": 18,
      "outputs": [
        {
          "output_type": "execute_result",
          "data": {
            "text/plain": [
              "  Speaker_ID  Utterance_ID    Codec   Dataset     System_ID  Label    Trim  \\\n",
              "0    LA_0023  DF_E_2000011  nocodec  asvspoof           A14  spoof  notrim   \n",
              "1       TEF2  DF_E_2000013  low_m4a   vcc2020  Task1-team20  spoof  notrim   \n",
              "2       TGF1  DF_E_2000024   mp3m4a   vcc2020  Task2-team12  spoof  notrim   \n",
              "3    LA_0043  DF_E_2000026   mp3m4a  asvspoof           A09  spoof  notrim   \n",
              "4    LA_0021  DF_E_2000027   mp3m4a  asvspoof           A12  spoof  notrim   \n",
              "\n",
              "     Subset                       Attack_Type Extra1  Extra2 Extra3 Extra4  \n",
              "0  progress               traditional_vocoder      -       -      -      -  \n",
              "1      eval  neural_vocoder_nonautoregressive  Task1  team20     FF      E  \n",
              "2      eval               traditional_vocoder  Task2  team12     FF      G  \n",
              "3      eval               traditional_vocoder      -       -      -      -  \n",
              "4      eval     neural_vocoder_autoregressive      -       -      -      -  "
            ],
            "text/html": [
              "\n",
              "  <div id=\"df-b8126ef4-df08-42bb-a161-29609b960eba\" class=\"colab-df-container\">\n",
              "    <div>\n",
              "<style scoped>\n",
              "    .dataframe tbody tr th:only-of-type {\n",
              "        vertical-align: middle;\n",
              "    }\n",
              "\n",
              "    .dataframe tbody tr th {\n",
              "        vertical-align: top;\n",
              "    }\n",
              "\n",
              "    .dataframe thead th {\n",
              "        text-align: right;\n",
              "    }\n",
              "</style>\n",
              "<table border=\"1\" class=\"dataframe\">\n",
              "  <thead>\n",
              "    <tr style=\"text-align: right;\">\n",
              "      <th></th>\n",
              "      <th>Speaker_ID</th>\n",
              "      <th>Utterance_ID</th>\n",
              "      <th>Codec</th>\n",
              "      <th>Dataset</th>\n",
              "      <th>System_ID</th>\n",
              "      <th>Label</th>\n",
              "      <th>Trim</th>\n",
              "      <th>Subset</th>\n",
              "      <th>Attack_Type</th>\n",
              "      <th>Extra1</th>\n",
              "      <th>Extra2</th>\n",
              "      <th>Extra3</th>\n",
              "      <th>Extra4</th>\n",
              "    </tr>\n",
              "  </thead>\n",
              "  <tbody>\n",
              "    <tr>\n",
              "      <th>0</th>\n",
              "      <td>LA_0023</td>\n",
              "      <td>DF_E_2000011</td>\n",
              "      <td>nocodec</td>\n",
              "      <td>asvspoof</td>\n",
              "      <td>A14</td>\n",
              "      <td>spoof</td>\n",
              "      <td>notrim</td>\n",
              "      <td>progress</td>\n",
              "      <td>traditional_vocoder</td>\n",
              "      <td>-</td>\n",
              "      <td>-</td>\n",
              "      <td>-</td>\n",
              "      <td>-</td>\n",
              "    </tr>\n",
              "    <tr>\n",
              "      <th>1</th>\n",
              "      <td>TEF2</td>\n",
              "      <td>DF_E_2000013</td>\n",
              "      <td>low_m4a</td>\n",
              "      <td>vcc2020</td>\n",
              "      <td>Task1-team20</td>\n",
              "      <td>spoof</td>\n",
              "      <td>notrim</td>\n",
              "      <td>eval</td>\n",
              "      <td>neural_vocoder_nonautoregressive</td>\n",
              "      <td>Task1</td>\n",
              "      <td>team20</td>\n",
              "      <td>FF</td>\n",
              "      <td>E</td>\n",
              "    </tr>\n",
              "    <tr>\n",
              "      <th>2</th>\n",
              "      <td>TGF1</td>\n",
              "      <td>DF_E_2000024</td>\n",
              "      <td>mp3m4a</td>\n",
              "      <td>vcc2020</td>\n",
              "      <td>Task2-team12</td>\n",
              "      <td>spoof</td>\n",
              "      <td>notrim</td>\n",
              "      <td>eval</td>\n",
              "      <td>traditional_vocoder</td>\n",
              "      <td>Task2</td>\n",
              "      <td>team12</td>\n",
              "      <td>FF</td>\n",
              "      <td>G</td>\n",
              "    </tr>\n",
              "    <tr>\n",
              "      <th>3</th>\n",
              "      <td>LA_0043</td>\n",
              "      <td>DF_E_2000026</td>\n",
              "      <td>mp3m4a</td>\n",
              "      <td>asvspoof</td>\n",
              "      <td>A09</td>\n",
              "      <td>spoof</td>\n",
              "      <td>notrim</td>\n",
              "      <td>eval</td>\n",
              "      <td>traditional_vocoder</td>\n",
              "      <td>-</td>\n",
              "      <td>-</td>\n",
              "      <td>-</td>\n",
              "      <td>-</td>\n",
              "    </tr>\n",
              "    <tr>\n",
              "      <th>4</th>\n",
              "      <td>LA_0021</td>\n",
              "      <td>DF_E_2000027</td>\n",
              "      <td>mp3m4a</td>\n",
              "      <td>asvspoof</td>\n",
              "      <td>A12</td>\n",
              "      <td>spoof</td>\n",
              "      <td>notrim</td>\n",
              "      <td>eval</td>\n",
              "      <td>neural_vocoder_autoregressive</td>\n",
              "      <td>-</td>\n",
              "      <td>-</td>\n",
              "      <td>-</td>\n",
              "      <td>-</td>\n",
              "    </tr>\n",
              "  </tbody>\n",
              "</table>\n",
              "</div>\n",
              "    <div class=\"colab-df-buttons\">\n",
              "\n",
              "  <div class=\"colab-df-container\">\n",
              "    <button class=\"colab-df-convert\" onclick=\"convertToInteractive('df-b8126ef4-df08-42bb-a161-29609b960eba')\"\n",
              "            title=\"Convert this dataframe to an interactive table.\"\n",
              "            style=\"display:none;\">\n",
              "\n",
              "  <svg xmlns=\"http://www.w3.org/2000/svg\" height=\"24px\" viewBox=\"0 -960 960 960\">\n",
              "    <path d=\"M120-120v-720h720v720H120Zm60-500h600v-160H180v160Zm220 220h160v-160H400v160Zm0 220h160v-160H400v160ZM180-400h160v-160H180v160Zm440 0h160v-160H620v160ZM180-180h160v-160H180v160Zm440 0h160v-160H620v160Z\"/>\n",
              "  </svg>\n",
              "    </button>\n",
              "\n",
              "  <style>\n",
              "    .colab-df-container {\n",
              "      display:flex;\n",
              "      gap: 12px;\n",
              "    }\n",
              "\n",
              "    .colab-df-convert {\n",
              "      background-color: #E8F0FE;\n",
              "      border: none;\n",
              "      border-radius: 50%;\n",
              "      cursor: pointer;\n",
              "      display: none;\n",
              "      fill: #1967D2;\n",
              "      height: 32px;\n",
              "      padding: 0 0 0 0;\n",
              "      width: 32px;\n",
              "    }\n",
              "\n",
              "    .colab-df-convert:hover {\n",
              "      background-color: #E2EBFA;\n",
              "      box-shadow: 0px 1px 2px rgba(60, 64, 67, 0.3), 0px 1px 3px 1px rgba(60, 64, 67, 0.15);\n",
              "      fill: #174EA6;\n",
              "    }\n",
              "\n",
              "    .colab-df-buttons div {\n",
              "      margin-bottom: 4px;\n",
              "    }\n",
              "\n",
              "    [theme=dark] .colab-df-convert {\n",
              "      background-color: #3B4455;\n",
              "      fill: #D2E3FC;\n",
              "    }\n",
              "\n",
              "    [theme=dark] .colab-df-convert:hover {\n",
              "      background-color: #434B5C;\n",
              "      box-shadow: 0px 1px 3px 1px rgba(0, 0, 0, 0.15);\n",
              "      filter: drop-shadow(0px 1px 2px rgba(0, 0, 0, 0.3));\n",
              "      fill: #FFFFFF;\n",
              "    }\n",
              "  </style>\n",
              "\n",
              "    <script>\n",
              "      const buttonEl =\n",
              "        document.querySelector('#df-b8126ef4-df08-42bb-a161-29609b960eba button.colab-df-convert');\n",
              "      buttonEl.style.display =\n",
              "        google.colab.kernel.accessAllowed ? 'block' : 'none';\n",
              "\n",
              "      async function convertToInteractive(key) {\n",
              "        const element = document.querySelector('#df-b8126ef4-df08-42bb-a161-29609b960eba');\n",
              "        const dataTable =\n",
              "          await google.colab.kernel.invokeFunction('convertToInteractive',\n",
              "                                                    [key], {});\n",
              "        if (!dataTable) return;\n",
              "\n",
              "        const docLinkHtml = 'Like what you see? Visit the ' +\n",
              "          '<a target=\"_blank\" href=https://colab.research.google.com/notebooks/data_table.ipynb>data table notebook</a>'\n",
              "          + ' to learn more about interactive tables.';\n",
              "        element.innerHTML = '';\n",
              "        dataTable['output_type'] = 'display_data';\n",
              "        await google.colab.output.renderOutput(dataTable, element);\n",
              "        const docLink = document.createElement('div');\n",
              "        docLink.innerHTML = docLinkHtml;\n",
              "        element.appendChild(docLink);\n",
              "      }\n",
              "    </script>\n",
              "  </div>\n",
              "\n",
              "\n",
              "<div id=\"df-bf9eb925-39fc-4d21-9f15-868e0e30c2e8\">\n",
              "  <button class=\"colab-df-quickchart\" onclick=\"quickchart('df-bf9eb925-39fc-4d21-9f15-868e0e30c2e8')\"\n",
              "            title=\"Suggest charts\"\n",
              "            style=\"display:none;\">\n",
              "\n",
              "<svg xmlns=\"http://www.w3.org/2000/svg\" height=\"24px\"viewBox=\"0 0 24 24\"\n",
              "     width=\"24px\">\n",
              "    <g>\n",
              "        <path d=\"M19 3H5c-1.1 0-2 .9-2 2v14c0 1.1.9 2 2 2h14c1.1 0 2-.9 2-2V5c0-1.1-.9-2-2-2zM9 17H7v-7h2v7zm4 0h-2V7h2v10zm4 0h-2v-4h2v4z\"/>\n",
              "    </g>\n",
              "</svg>\n",
              "  </button>\n",
              "\n",
              "<style>\n",
              "  .colab-df-quickchart {\n",
              "      --bg-color: #E8F0FE;\n",
              "      --fill-color: #1967D2;\n",
              "      --hover-bg-color: #E2EBFA;\n",
              "      --hover-fill-color: #174EA6;\n",
              "      --disabled-fill-color: #AAA;\n",
              "      --disabled-bg-color: #DDD;\n",
              "  }\n",
              "\n",
              "  [theme=dark] .colab-df-quickchart {\n",
              "      --bg-color: #3B4455;\n",
              "      --fill-color: #D2E3FC;\n",
              "      --hover-bg-color: #434B5C;\n",
              "      --hover-fill-color: #FFFFFF;\n",
              "      --disabled-bg-color: #3B4455;\n",
              "      --disabled-fill-color: #666;\n",
              "  }\n",
              "\n",
              "  .colab-df-quickchart {\n",
              "    background-color: var(--bg-color);\n",
              "    border: none;\n",
              "    border-radius: 50%;\n",
              "    cursor: pointer;\n",
              "    display: none;\n",
              "    fill: var(--fill-color);\n",
              "    height: 32px;\n",
              "    padding: 0;\n",
              "    width: 32px;\n",
              "  }\n",
              "\n",
              "  .colab-df-quickchart:hover {\n",
              "    background-color: var(--hover-bg-color);\n",
              "    box-shadow: 0 1px 2px rgba(60, 64, 67, 0.3), 0 1px 3px 1px rgba(60, 64, 67, 0.15);\n",
              "    fill: var(--button-hover-fill-color);\n",
              "  }\n",
              "\n",
              "  .colab-df-quickchart-complete:disabled,\n",
              "  .colab-df-quickchart-complete:disabled:hover {\n",
              "    background-color: var(--disabled-bg-color);\n",
              "    fill: var(--disabled-fill-color);\n",
              "    box-shadow: none;\n",
              "  }\n",
              "\n",
              "  .colab-df-spinner {\n",
              "    border: 2px solid var(--fill-color);\n",
              "    border-color: transparent;\n",
              "    border-bottom-color: var(--fill-color);\n",
              "    animation:\n",
              "      spin 1s steps(1) infinite;\n",
              "  }\n",
              "\n",
              "  @keyframes spin {\n",
              "    0% {\n",
              "      border-color: transparent;\n",
              "      border-bottom-color: var(--fill-color);\n",
              "      border-left-color: var(--fill-color);\n",
              "    }\n",
              "    20% {\n",
              "      border-color: transparent;\n",
              "      border-left-color: var(--fill-color);\n",
              "      border-top-color: var(--fill-color);\n",
              "    }\n",
              "    30% {\n",
              "      border-color: transparent;\n",
              "      border-left-color: var(--fill-color);\n",
              "      border-top-color: var(--fill-color);\n",
              "      border-right-color: var(--fill-color);\n",
              "    }\n",
              "    40% {\n",
              "      border-color: transparent;\n",
              "      border-right-color: var(--fill-color);\n",
              "      border-top-color: var(--fill-color);\n",
              "    }\n",
              "    60% {\n",
              "      border-color: transparent;\n",
              "      border-right-color: var(--fill-color);\n",
              "    }\n",
              "    80% {\n",
              "      border-color: transparent;\n",
              "      border-right-color: var(--fill-color);\n",
              "      border-bottom-color: var(--fill-color);\n",
              "    }\n",
              "    90% {\n",
              "      border-color: transparent;\n",
              "      border-bottom-color: var(--fill-color);\n",
              "    }\n",
              "  }\n",
              "</style>\n",
              "\n",
              "  <script>\n",
              "    async function quickchart(key) {\n",
              "      const quickchartButtonEl =\n",
              "        document.querySelector('#' + key + ' button');\n",
              "      quickchartButtonEl.disabled = true;  // To prevent multiple clicks.\n",
              "      quickchartButtonEl.classList.add('colab-df-spinner');\n",
              "      try {\n",
              "        const charts = await google.colab.kernel.invokeFunction(\n",
              "            'suggestCharts', [key], {});\n",
              "      } catch (error) {\n",
              "        console.error('Error during call to suggestCharts:', error);\n",
              "      }\n",
              "      quickchartButtonEl.classList.remove('colab-df-spinner');\n",
              "      quickchartButtonEl.classList.add('colab-df-quickchart-complete');\n",
              "    }\n",
              "    (() => {\n",
              "      let quickchartButtonEl =\n",
              "        document.querySelector('#df-bf9eb925-39fc-4d21-9f15-868e0e30c2e8 button');\n",
              "      quickchartButtonEl.style.display =\n",
              "        google.colab.kernel.accessAllowed ? 'block' : 'none';\n",
              "    })();\n",
              "  </script>\n",
              "</div>\n",
              "\n",
              "    </div>\n",
              "  </div>\n"
            ],
            "application/vnd.google.colaboratory.intrinsic+json": {
              "type": "dataframe",
              "variable_name": "df_metadata"
            }
          },
          "metadata": {},
          "execution_count": 18
        }
      ]
    },
    {
      "cell_type": "code",
      "source": [
        "df_metadata[\"Label\"].value_counts()\n"
      ],
      "metadata": {
        "colab": {
          "base_uri": "https://localhost:8080/",
          "height": 178
        },
        "id": "ypdFjFxFLtF3",
        "outputId": "16e40f78-8404-4784-c727-0723965a9c13"
      },
      "execution_count": 19,
      "outputs": [
        {
          "output_type": "execute_result",
          "data": {
            "text/plain": [
              "Label\n",
              "spoof       589212\n",
              "bonafide     22617\n",
              "Name: count, dtype: int64"
            ],
            "text/html": [
              "<div>\n",
              "<style scoped>\n",
              "    .dataframe tbody tr th:only-of-type {\n",
              "        vertical-align: middle;\n",
              "    }\n",
              "\n",
              "    .dataframe tbody tr th {\n",
              "        vertical-align: top;\n",
              "    }\n",
              "\n",
              "    .dataframe thead th {\n",
              "        text-align: right;\n",
              "    }\n",
              "</style>\n",
              "<table border=\"1\" class=\"dataframe\">\n",
              "  <thead>\n",
              "    <tr style=\"text-align: right;\">\n",
              "      <th></th>\n",
              "      <th>count</th>\n",
              "    </tr>\n",
              "    <tr>\n",
              "      <th>Label</th>\n",
              "      <th></th>\n",
              "    </tr>\n",
              "  </thead>\n",
              "  <tbody>\n",
              "    <tr>\n",
              "      <th>spoof</th>\n",
              "      <td>589212</td>\n",
              "    </tr>\n",
              "    <tr>\n",
              "      <th>bonafide</th>\n",
              "      <td>22617</td>\n",
              "    </tr>\n",
              "  </tbody>\n",
              "</table>\n",
              "</div><br><label><b>dtype:</b> int64</label>"
            ]
          },
          "metadata": {},
          "execution_count": 19
        }
      ]
    },
    {
      "cell_type": "code",
      "source": [
        "from sklearn.utils.class_weight import compute_class_weight\n",
        "import numpy as np\n",
        "import torch\n",
        "import torch.nn as nn\n",
        "\n",
        "\n",
        "count_spoof = (df_metadata['Label'] == 'spoof').sum()\n",
        "count_bonafide = (df_metadata['Label'] == 'bonafide').sum()\n",
        "\n",
        "\n",
        "class_weights = compute_class_weight('balanced', classes=np.array([0, 1]), y=np.array([0] * count_spoof + [1] * count_bonafide))\n",
        "\n",
        "class_weights = torch.tensor(class_weights, dtype=torch.float32)\n",
        "print(\"Computed class weights:\", class_weights)\n",
        "\n",
        "\n",
        "criterion = nn.CrossEntropyLoss(weight=class_weights)\n",
        "\n"
      ],
      "metadata": {
        "colab": {
          "base_uri": "https://localhost:8080/"
        },
        "id": "OdUHHKfOM_NI",
        "outputId": "8a54d4c7-baa8-48b2-d3ad-593207bed9d1"
      },
      "execution_count": 16,
      "outputs": [
        {
          "output_type": "stream",
          "name": "stdout",
          "text": [
            "Computed class weights: tensor([ 0.5192, 13.5259])\n"
          ]
        }
      ]
    },
    {
      "cell_type": "code",
      "source": [
        "import torch\n",
        "import torch.nn as nn\n",
        "import numpy as np\n",
        "from sklearn.utils.class_weight import compute_class_weight\n",
        "\n",
        "\n",
        "device = torch.device(\"cuda\" if torch.cuda.is_available() else \"cpu\")\n",
        "print(f\"Using device: {device}\")\n",
        "\n",
        "\n",
        "count_spoof = 589212\n",
        "count_bonafide = 22617\n",
        "\n",
        "\n",
        "labels = np.array([0] * count_spoof + [1] * count_bonafide)\n",
        "class_weights = compute_class_weight('balanced', classes=np.array([0, 1]), y=labels)\n",
        "class_weights = torch.tensor(class_weights, dtype=torch.float32).to(device)\n",
        "\n",
        "class YourModel(nn.Module):\n",
        "    def __init__(self):\n",
        "        super(YourModel, self).__init__()\n",
        "        self.fc = nn.Linear(10, 2)\n",
        "\n",
        "    def forward(self, x):\n",
        "        return self.fc(x)\n",
        "\n",
        "model = YourModel().to(device)\n",
        "\n",
        "\n",
        "criterion = nn.CrossEntropyLoss(weight=class_weights)\n",
        "\n",
        "\n",
        "optimizer = torch.optim.Adam(model.parameters(), lr=0.001)\n",
        "\n",
        "print(\"Model, loss function, and optimizer set up successfully!\")\n",
        "\n"
      ],
      "metadata": {
        "colab": {
          "base_uri": "https://localhost:8080/"
        },
        "id": "ZiPmYHKVU4n1",
        "outputId": "49c7af67-c823-458c-919a-be5d31f1cc5e"
      },
      "execution_count": 20,
      "outputs": [
        {
          "output_type": "stream",
          "name": "stdout",
          "text": [
            "Using device: cpu\n",
            "Model, loss function, and optimizer set up successfully!\n"
          ]
        }
      ]
    },
    {
      "cell_type": "code",
      "source": [
        "import torch\n",
        "import torchaudio\n",
        "import pandas as pd\n",
        "from torch.utils.data import Dataset, DataLoader\n",
        "\n",
        "class AudioDeepfakeDataset(Dataset):\n",
        "    def __init__(self, metadata_path, audio_dir, transform=None):\n",
        "        \"\"\"\n",
        "        Args:\n",
        "            metadata_path (str): Path to the metadata file (CSV or TXT).\n",
        "            audio_dir (str): Directory where the audio files are stored.\n",
        "            transform (callable, optional): Optional transform to apply on the data.\n",
        "        \"\"\"\n",
        "        self.metadata = pd.read_csv(metadata_path, sep=\"\\t\")\n",
        "        self.audio_dir = audio_dir\n",
        "        self.transform = transform\n",
        "\n",
        "        self.label_map = {'bonafide': 1, 'spoof': 0}\n",
        "\n",
        "    def __len__(self):\n",
        "        return len(self.metadata)\n",
        "\n",
        "    def __getitem__(self, idx):\n",
        "        row = self.metadata.iloc[idx]\n",
        "        audio_path = f\"{self.audio_dir}/{row['Utterance_ID']}.wav\"\n",
        "        label = self.label_map[row['Label']]\n",
        "\n",
        "        waveform, sample_rate = torchaudio.load(audio_path)\n",
        "\n",
        "        if self.transform:\n",
        "            waveform = self.transform(waveform)\n",
        "\n",
        "        return waveform, label\n"
      ],
      "metadata": {
        "id": "kK1XXUSEaIgC"
      },
      "execution_count": 21,
      "outputs": []
    },
    {
      "cell_type": "code",
      "source": [
        "import torchaudio.transforms as T\n",
        "\n",
        "transform = T.Resample(orig_freq=48000, new_freq=16000)\n"
      ],
      "metadata": {
        "id": "FOecGRvaaOah"
      },
      "execution_count": 22,
      "outputs": []
    },
    {
      "cell_type": "code",
      "source": [
        "import pandas as pd\n",
        "\n",
        "metadata_path = \"/content/drive/MyDrive/ASVspoof2021/keys/DF/CM/trial_metadata.txt\"\n",
        "\n",
        "\n",
        "col_names = [\"Speaker_ID\", \"Utterance_ID\", \"Codec\", \"Dataset\", \"System_ID\", \"Label\",\n",
        "             \"Trim\", \"Subset\", \"Attack_Type\", \"Extra1\", \"Extra2\", \"Extra3\", \"Extra4\"]\n",
        "\n",
        "\n",
        "df = pd.read_csv(metadata_path, sep=\"\\s+\", names=col_names, header=None, engine=\"python\")\n",
        "\n",
        "print(df.head())\n",
        "print(df.columns)"
      ],
      "metadata": {
        "colab": {
          "base_uri": "https://localhost:8080/"
        },
        "id": "8td5wyoaaROY",
        "outputId": "43574b23-16a0-40e1-e918-d51c2bb04fef"
      },
      "execution_count": 23,
      "outputs": [
        {
          "output_type": "stream",
          "name": "stdout",
          "text": [
            "  Speaker_ID  Utterance_ID    Codec   Dataset     System_ID  Label    Trim  \\\n",
            "0    LA_0023  DF_E_2000011  nocodec  asvspoof           A14  spoof  notrim   \n",
            "1       TEF2  DF_E_2000013  low_m4a   vcc2020  Task1-team20  spoof  notrim   \n",
            "2       TGF1  DF_E_2000024   mp3m4a   vcc2020  Task2-team12  spoof  notrim   \n",
            "3    LA_0043  DF_E_2000026   mp3m4a  asvspoof           A09  spoof  notrim   \n",
            "4    LA_0021  DF_E_2000027   mp3m4a  asvspoof           A12  spoof  notrim   \n",
            "\n",
            "     Subset                       Attack_Type Extra1  Extra2 Extra3 Extra4  \n",
            "0  progress               traditional_vocoder      -       -      -      -  \n",
            "1      eval  neural_vocoder_nonautoregressive  Task1  team20     FF      E  \n",
            "2      eval               traditional_vocoder  Task2  team12     FF      G  \n",
            "3      eval               traditional_vocoder      -       -      -      -  \n",
            "4      eval     neural_vocoder_autoregressive      -       -      -      -  \n",
            "Index(['Speaker_ID', 'Utterance_ID', 'Codec', 'Dataset', 'System_ID', 'Label',\n",
            "       'Trim', 'Subset', 'Attack_Type', 'Extra1', 'Extra2', 'Extra3',\n",
            "       'Extra4'],\n",
            "      dtype='object')\n"
          ]
        }
      ]
    },
    {
      "cell_type": "code",
      "source": [
        "from torch.utils.data import Dataset\n",
        "\n",
        "class AudioDataset(Dataset):\n",
        "    def __init__(self, metadata_file, audio_dir, transform=None):\n",
        "        self.metadata = pd.read_csv(metadata_file, sep=\"\\s+\", names=col_names, header=None, engine=\"python\")\n",
        "        self.audio_dir = audio_dir\n",
        "        self.transform = transform\n",
        "\n",
        "    def __len__(self):\n",
        "        return len(self.metadata)\n",
        "\n",
        "    def __getitem__(self, idx):\n",
        "        row = self.metadata.iloc[idx]\n",
        "\n",
        "        audio_path = f\"{self.audio_dir}/{row['Utterance_ID']}.wav\"\n",
        "\n",
        "        waveform, sample_rate = torchaudio.load(audio_path)\n",
        "\n",
        "        label = 0 if row[\"Label\"] == \"bonafide\" else 1  # bonafide = 0, spoof = 1\n",
        "\n",
        "\n",
        "        if self.transform:\n",
        "            waveform = self.transform(waveform)\n",
        "\n",
        "        return waveform, label\n"
      ],
      "metadata": {
        "id": "jEob4IcedXEc"
      },
      "execution_count": 24,
      "outputs": []
    },
    {
      "cell_type": "code",
      "source": [
        "%cd /content/drive/MyDrive/ASVspoof2021/\n",
        "\n"
      ],
      "metadata": {
        "colab": {
          "base_uri": "https://localhost:8080/"
        },
        "id": "wEKVK0Rcdhs9",
        "outputId": "c2ca547c-1060-4254-fbd1-18e0d08ffe94"
      },
      "execution_count": 22,
      "outputs": [
        {
          "output_type": "stream",
          "name": "stdout",
          "text": [
            "/content/drive/MyDrive/ASVspoof2021\n"
          ]
        }
      ]
    },
    {
      "cell_type": "code",
      "source": [
        "import os\n",
        "\n",
        "data_path = \"/content/drive/MyDrive/ASVspoof2021/ASVspoof2021_DF_eval/flac\"\n",
        "print(\"Exists?\", os.path.exists(data_path))\n",
        "print(\"Sample files:\", os.listdir(data_path)[:10])  # Show first 10 files\n"
      ],
      "metadata": {
        "colab": {
          "base_uri": "https://localhost:8080/"
        },
        "id": "7Qxv_j0ORkVE",
        "outputId": "bffa095b-c3d0-4544-fc6c-999bcacfff8e"
      },
      "execution_count": 25,
      "outputs": [
        {
          "output_type": "stream",
          "name": "stdout",
          "text": [
            "Exists? True\n",
            "Sample files: ['DF_E_2753491.flac', 'DF_E_2000946.flac', 'DF_E_2751336.flac', 'DF_E_2753263.flac', 'DF_E_2001196.flac', 'DF_E_2003721.flac', 'DF_E_2752618.flac', 'DF_E_2751843.flac', 'DF_E_2750974.flac', 'DF_E_2751454.flac']\n"
          ]
        }
      ]
    },
    {
      "cell_type": "code",
      "source": [
        "import os\n",
        "\n",
        "folder_path = \"/content/drive/MyDrive/ASVspoof2021/ASVspoof2021_DF_eval/flac\"\n",
        "files = os.listdir(folder_path)\n",
        "print(\"Number of files:\", len(files))\n",
        "print(\"First 10 files:\", files[:10])\n"
      ],
      "metadata": {
        "colab": {
          "base_uri": "https://localhost:8080/"
        },
        "id": "14bIb1LSnFiZ",
        "outputId": "052d026f-2ceb-4470-9072-ef7ef8cc4434"
      },
      "execution_count": 26,
      "outputs": [
        {
          "output_type": "stream",
          "name": "stdout",
          "text": [
            "Number of files: 2232\n",
            "First 10 files: ['DF_E_2753491.flac', 'DF_E_2000946.flac', 'DF_E_2751336.flac', 'DF_E_2753263.flac', 'DF_E_2001196.flac', 'DF_E_2003721.flac', 'DF_E_2752618.flac', 'DF_E_2751843.flac', 'DF_E_2750974.flac', 'DF_E_2751454.flac']\n"
          ]
        }
      ]
    },
    {
      "cell_type": "code",
      "source": [
        "import torchaudio\n",
        "\n",
        "sample_file = \"/content/drive/MyDrive/ASVspoof2021/ASVspoof2021_DF_eval/flac/DF_E_2000011.flac\"\n",
        "waveform, sample_rate = torchaudio.load(sample_file)\n",
        "print(\"✅ Loaded Successfully! Shape:\", waveform.shape, \"Sample Rate:\", sample_rate)\n"
      ],
      "metadata": {
        "colab": {
          "base_uri": "https://localhost:8080/"
        },
        "id": "kT8sn1QrnWdn",
        "outputId": "f2b08501-39f4-4158-84a8-c37f87af1d55"
      },
      "execution_count": 27,
      "outputs": [
        {
          "output_type": "stream",
          "name": "stdout",
          "text": [
            "✅ Loaded Successfully! Shape: torch.Size([1, 22801]) Sample Rate: 16000\n"
          ]
        }
      ]
    },
    {
      "cell_type": "code",
      "source": [
        "input_dir = \"/content/drive/MyDrive/ASVspoof2021/ASVspoof2021_DF_eval/flac\"\n"
      ],
      "metadata": {
        "id": "puXLDiQ5UyX6"
      },
      "execution_count": 28,
      "outputs": []
    },
    {
      "cell_type": "code",
      "source": [
        "import os\n",
        "\n",
        "print(\"Exists?\", os.path.exists(input_dir))\n",
        "print(\"Sample files:\", os.listdir(input_dir)[:10])  # Show first 10 files\n"
      ],
      "metadata": {
        "colab": {
          "base_uri": "https://localhost:8080/"
        },
        "id": "om0wu5gEVGoa",
        "outputId": "ec6bab4f-eae8-46e9-91ae-24a99f52934d"
      },
      "execution_count": 29,
      "outputs": [
        {
          "output_type": "stream",
          "name": "stdout",
          "text": [
            "Exists? True\n",
            "Sample files: ['DF_E_2753491.flac', 'DF_E_2000946.flac', 'DF_E_2751336.flac', 'DF_E_2753263.flac', 'DF_E_2001196.flac', 'DF_E_2003721.flac', 'DF_E_2752618.flac', 'DF_E_2751843.flac', 'DF_E_2750974.flac', 'DF_E_2751454.flac']\n"
          ]
        }
      ]
    },
    {
      "cell_type": "code",
      "source": [
        "import torchaudio\n",
        "\n",
        "sample_file = \"/content/drive/MyDrive/ASVspoof2021/ASVspoof2021_DF_eval/flac/DF_E_2000011.flac\"\n",
        "\n",
        "waveform, sample_rate = torchaudio.load(sample_file)\n",
        "print(f\"✅ Waveform Shape: {waveform.shape}, Sample Rate: {sample_rate}\")\n",
        "\n"
      ],
      "metadata": {
        "colab": {
          "base_uri": "https://localhost:8080/"
        },
        "id": "r92aTyVGVznB",
        "outputId": "e44d3c29-a1d6-41fb-d107-e8bbc606e957"
      },
      "execution_count": 30,
      "outputs": [
        {
          "output_type": "stream",
          "name": "stdout",
          "text": [
            "✅ Waveform Shape: torch.Size([1, 22801]), Sample Rate: 16000\n"
          ]
        }
      ]
    },
    {
      "cell_type": "code",
      "source": [
        "import os\n",
        "\n",
        "meta_dir = \"/content/drive/MyDrive/ASVspoof2021/keys/DF\"\n",
        "for root, dirs, files in os.walk(meta_dir):\n",
        "    for file in files:\n",
        "        print(file)\n"
      ],
      "metadata": {
        "colab": {
          "base_uri": "https://localhost:8080/"
        },
        "id": "UHEGh0OVWGJE",
        "outputId": "c1a450bd-f5db-4adf-9a53-3717690db522"
      },
      "execution_count": 30,
      "outputs": [
        {
          "output_type": "stream",
          "name": "stdout",
          "text": [
            "README.txt\n",
            "trial_metadata.txt\n",
            "score.txt\n",
            "score.txt\n",
            "score.txt\n",
            "score.txt\n",
            "README.txt\n",
            "trial_metadata.txt\n",
            "score.txt\n",
            "score.txt\n",
            "score.txt\n",
            "score.txt\n"
          ]
        }
      ]
    },
    {
      "cell_type": "code",
      "source": [
        "meta_file = \"/content/drive/MyDrive/ASVspoof2021/keys/DF/CM/trial_metadata.txt\"\n",
        "\n",
        "with open(meta_file, \"r\") as f:\n",
        "    lines = f.readlines()\n",
        "\n",
        "print(f\"Loaded {len(lines)} metadata entries.\")\n"
      ],
      "metadata": {
        "colab": {
          "base_uri": "https://localhost:8080/"
        },
        "id": "sbugwlrZXJP8",
        "outputId": "7c6fac52-9efd-482d-b039-9956d08a5e71"
      },
      "execution_count": 31,
      "outputs": [
        {
          "output_type": "stream",
          "name": "stdout",
          "text": [
            "Loaded 611829 metadata entries.\n"
          ]
        }
      ]
    },
    {
      "cell_type": "code",
      "source": [
        "for i in range(5):\n",
        "    print(lines[i].strip())\n"
      ],
      "metadata": {
        "colab": {
          "base_uri": "https://localhost:8080/"
        },
        "id": "vKGZapjJXTiQ",
        "outputId": "f95a012b-3a15-4856-fb32-9e76f2b9b541"
      },
      "execution_count": 32,
      "outputs": [
        {
          "output_type": "stream",
          "name": "stdout",
          "text": [
            "LA_0023 DF_E_2000011 nocodec asvspoof A14 spoof notrim progress traditional_vocoder - - - -\n",
            "TEF2 DF_E_2000013 low_m4a vcc2020 Task1-team20 spoof notrim eval neural_vocoder_nonautoregressive Task1 team20 FF E\n",
            "TGF1 DF_E_2000024 mp3m4a vcc2020 Task2-team12 spoof notrim eval traditional_vocoder Task2 team12 FF G\n",
            "LA_0043 DF_E_2000026 mp3m4a asvspoof A09 spoof notrim eval traditional_vocoder - - - -\n",
            "LA_0021 DF_E_2000027 mp3m4a asvspoof A12 spoof notrim eval neural_vocoder_autoregressive - - - -\n"
          ]
        }
      ]
    },
    {
      "cell_type": "code",
      "source": [
        "meta_info = []\n",
        "\n",
        "for line in lines:\n",
        "    parts = line.strip().split()\n",
        "    if len(parts) >= 4:\n",
        "        utt_id = parts[1]\n",
        "        label = parts[-1]\n",
        "        meta_info.append((utt_id, label))\n",
        "\n",
        "print(f\"Sample metadata entries: {meta_info[:5]}\")\n"
      ],
      "metadata": {
        "colab": {
          "base_uri": "https://localhost:8080/"
        },
        "id": "xPWV6EKx1BXE",
        "outputId": "4bde362b-06b3-4fdb-8ade-b01e77d7b079"
      },
      "execution_count": 33,
      "outputs": [
        {
          "output_type": "stream",
          "name": "stdout",
          "text": [
            "Sample metadata entries: [('DF_E_2000011', '-'), ('DF_E_2000013', 'E'), ('DF_E_2000024', 'G'), ('DF_E_2000026', '-'), ('DF_E_2000027', '-')]\n"
          ]
        }
      ]
    },
    {
      "cell_type": "code",
      "source": [
        "import os\n",
        "import torchaudio\n",
        "\n",
        "input_dir = \"/content/drive/MyDrive/ASVspoof2021/ASVspoof2021_DF_eval/flac\"\n",
        "output_dir = \"/content/drive/MyDrive/ASVspoof2021/ASVspoof2021_DF_eval/wav_for_rawnet\"\n",
        "os.makedirs(output_dir, exist_ok=True)\n",
        "\n",
        "meta_file = \"/content/drive/MyDrive/ASVspoof2021/keys/DF/CM/trial_metadata.txt\"\n",
        "\n",
        "\n",
        "with open(meta_file, \"r\") as f:\n",
        "    lines = f.readlines()\n",
        "\n",
        "\n",
        "file_ids = [line.strip().split()[0] for line in lines]\n",
        "\n",
        "\n",
        "for file_id in file_ids:\n",
        "    flac_path = os.path.join(input_dir, file_id + \".flac\")\n",
        "    wav_path = os.path.join(output_dir, file_id + \".wav\")\n",
        "\n",
        "    if os.path.exists(flac_path):\n",
        "        waveform, sample_rate = torchaudio.load(flac_path)\n",
        "        torchaudio.save(wav_path, waveform, sample_rate)\n",
        "\n",
        "print(\"✅ Conversion complete!\")\n"
      ],
      "metadata": {
        "colab": {
          "base_uri": "https://localhost:8080/"
        },
        "id": "k9dFrTXR2bgR",
        "outputId": "41f6ea84-4a90-456f-dc89-6cacfc2262d6"
      },
      "execution_count": 34,
      "outputs": [
        {
          "output_type": "stream",
          "name": "stdout",
          "text": [
            "✅ Conversion complete!\n"
          ]
        }
      ]
    },
    {
      "cell_type": "code",
      "source": [
        "import torch\n",
        "import torchaudio\n",
        "import numpy as np\n",
        "\n",
        "def load_audio(filepath, sample_rate=16000, max_length=64000):\n",
        "    waveform, sr = torchaudio.load(filepath)\n",
        "\n",
        "    if sr != sample_rate:\n",
        "        resampler = torchaudio.transforms.Resample(sr, sample_rate)\n",
        "        waveform = resampler(waveform)\n",
        "\n",
        "    # Mono\n",
        "    if waveform.shape[0] > 1:\n",
        "        waveform = torch.mean(waveform, dim=0, keepdim=True)\n",
        "\n",
        "    return waveform\n",
        "\n",
        "def pre_emphasis(waveform, coeff=0.97):\n",
        "    \"\"\"Pre-emphasis filter\"\"\"\n",
        "    waveform = waveform.squeeze(0)\n",
        "    emphasized = torch.cat([waveform[:1], waveform[1:] - coeff * waveform[:-1]])\n",
        "    return emphasized.unsqueeze(0)\n",
        "\n",
        "def normalize_waveform(waveform):\n",
        "    mean = waveform.mean()\n",
        "    std = waveform.std()\n",
        "    return (waveform - mean) / (std + 1e-5)\n",
        "\n",
        "def pad_or_trim(waveform, max_length=64000):\n",
        "    length = waveform.shape[1]\n",
        "    if length < max_length:\n",
        "        padding = max_length - length\n",
        "        waveform = torch.nn.functional.pad(waveform, (0, padding))\n",
        "    else:\n",
        "        waveform = waveform[:, :max_length]\n",
        "    return waveform\n",
        "\n",
        "def extract_features(filepath):\n",
        "    waveform = load_audio(filepath)\n",
        "    waveform = pre_emphasis(waveform)\n",
        "    waveform = normalize_waveform(waveform)\n",
        "    waveform = pad_or_trim(waveform)\n",
        "    return waveform\n"
      ],
      "metadata": {
        "id": "cuzC8tb53wI7"
      },
      "execution_count": 35,
      "outputs": []
    },
    {
      "cell_type": "code",
      "source": [
        "test_file = \"/content/drive/MyDrive/ASVspoof2021/ASVspoof2021_DF_eval/wav/DF_E_2000011.wav\"\n",
        "\n"
      ],
      "metadata": {
        "id": "f6-MnijL32B8"
      },
      "execution_count": 36,
      "outputs": []
    },
    {
      "cell_type": "code",
      "source": [
        "import os\n",
        "\n",
        "base_dir = \"/content/drive/MyDrive/ASVspoof2021\"\n",
        "\n",
        "for root, dirs, files in os.walk(base_dir):\n",
        "    for name in dirs:\n",
        "        print(\"📁 Folder:\", os.path.join(root, name))\n",
        "    for name in files:\n",
        "        if name.endswith(\".wav\"):\n",
        "            print(\"🎧 WAV File:\", os.path.join(root, name))\n",
        "            break\n",
        "\n"
      ],
      "metadata": {
        "colab": {
          "base_uri": "https://localhost:8080/"
        },
        "id": "yNfrlwtm4W8n",
        "outputId": "c5b83f71-ff20-4753-8099-53335668d283"
      },
      "execution_count": 37,
      "outputs": [
        {
          "output_type": "stream",
          "name": "stdout",
          "text": [
            "📁 Folder: /content/drive/MyDrive/ASVspoof2021/ASVspoof2021_DF_eval\n",
            "📁 Folder: /content/drive/MyDrive/ASVspoof2021/keys\n",
            "📁 Folder: /content/drive/MyDrive/ASVspoof2021/DF_download\n",
            "📁 Folder: /content/drive/MyDrive/ASVspoof2021/ASVspoof2021_DF_eval_test_extract\n",
            "📁 Folder: /content/drive/MyDrive/ASVspoof2021/extracted_bonafide\n",
            "📁 Folder: /content/drive/MyDrive/ASVspoof2021/ASVspoof2021_DF_eval/flac\n",
            "📁 Folder: /content/drive/MyDrive/ASVspoof2021/ASVspoof2021_DF_eval/wav_for_rawnet\n",
            "📁 Folder: /content/drive/MyDrive/ASVspoof2021/ASVspoof2021_DF_eval/balanced_dataset\n",
            "📁 Folder: /content/drive/MyDrive/ASVspoof2021/ASVspoof2021_DF_eval/flac/ASVspoof2021_DF_eval\n",
            "📁 Folder: /content/drive/MyDrive/ASVspoof2021/ASVspoof2021_DF_eval/flac/ASVspoof2021_DF_eval/flac\n",
            "📁 Folder: /content/drive/MyDrive/ASVspoof2021/ASVspoof2021_DF_eval/balanced_dataset/bonafide\n",
            "📁 Folder: /content/drive/MyDrive/ASVspoof2021/ASVspoof2021_DF_eval/balanced_dataset/spoof\n",
            "📁 Folder: /content/drive/MyDrive/ASVspoof2021/keys/DF\n",
            "📁 Folder: /content/drive/MyDrive/ASVspoof2021/keys/LA\n",
            "📁 Folder: /content/drive/MyDrive/ASVspoof2021/keys/PA\n",
            "📁 Folder: /content/drive/MyDrive/ASVspoof2021/keys/DF/CM\n",
            "📁 Folder: /content/drive/MyDrive/ASVspoof2021/keys/DF/keys\n",
            "📁 Folder: /content/drive/MyDrive/ASVspoof2021/keys/DF/CM/RawNet2\n",
            "📁 Folder: /content/drive/MyDrive/ASVspoof2021/keys/DF/CM/LFCC-GMM\n",
            "📁 Folder: /content/drive/MyDrive/ASVspoof2021/keys/DF/CM/LFCC-LCNN\n",
            "📁 Folder: /content/drive/MyDrive/ASVspoof2021/keys/DF/CM/CQCC-GMM\n",
            "📁 Folder: /content/drive/MyDrive/ASVspoof2021/keys/DF/keys/DF\n",
            "📁 Folder: /content/drive/MyDrive/ASVspoof2021/keys/DF/keys/DF/CM\n",
            "📁 Folder: /content/drive/MyDrive/ASVspoof2021/keys/DF/keys/DF/CM/LFCC-LCNN\n",
            "📁 Folder: /content/drive/MyDrive/ASVspoof2021/keys/DF/keys/DF/CM/RawNet2\n",
            "📁 Folder: /content/drive/MyDrive/ASVspoof2021/keys/DF/keys/DF/CM/LFCC-GMM\n",
            "📁 Folder: /content/drive/MyDrive/ASVspoof2021/keys/DF/keys/DF/CM/CQCC-GMM\n",
            "📁 Folder: /content/drive/MyDrive/ASVspoof2021/keys/LA/ASV\n",
            "📁 Folder: /content/drive/MyDrive/ASVspoof2021/keys/LA/CM\n",
            "📁 Folder: /content/drive/MyDrive/ASVspoof2021/keys/LA/ASV/ASVTorch_Kaldi\n",
            "📁 Folder: /content/drive/MyDrive/ASVspoof2021/keys/LA/CM/LFCC-GMM\n",
            "📁 Folder: /content/drive/MyDrive/ASVspoof2021/keys/LA/CM/RawNet2\n",
            "📁 Folder: /content/drive/MyDrive/ASVspoof2021/keys/LA/CM/CQCC-GMM\n",
            "📁 Folder: /content/drive/MyDrive/ASVspoof2021/keys/LA/CM/LFCC-LCNN\n",
            "📁 Folder: /content/drive/MyDrive/ASVspoof2021/keys/PA/CM\n",
            "📁 Folder: /content/drive/MyDrive/ASVspoof2021/keys/PA/ASV\n",
            "📁 Folder: /content/drive/MyDrive/ASVspoof2021/keys/PA/CM/LFCC-LCNN\n",
            "📁 Folder: /content/drive/MyDrive/ASVspoof2021/keys/PA/CM/RawNet2\n",
            "📁 Folder: /content/drive/MyDrive/ASVspoof2021/keys/PA/CM/LFCC-GMM\n",
            "📁 Folder: /content/drive/MyDrive/ASVspoof2021/keys/PA/CM/CQCC-GMM\n",
            "📁 Folder: /content/drive/MyDrive/ASVspoof2021/keys/PA/ASV/ASVTorch_Kaldi\n",
            "📁 Folder: /content/drive/MyDrive/ASVspoof2021/ASVspoof2021_DF_eval_test_extract/ASVspoof2021_DF_eval\n",
            "📁 Folder: /content/drive/MyDrive/ASVspoof2021/ASVspoof2021_DF_eval_test_extract/ASVspoof2021_DF_eval/flac\n"
          ]
        }
      ]
    },
    {
      "cell_type": "code",
      "source": [
        "import os\n",
        "\n",
        "folder = \"/content/drive/MyDrive/ASVspoof2021/ASVspoof2021_DF_eval/wav_for_rawnet\"\n",
        "\n",
        "print(\"Total files:\", len(os.listdir(folder)))\n",
        "print(\"Sample files:\", os.listdir(folder)[:5])\n"
      ],
      "metadata": {
        "colab": {
          "base_uri": "https://localhost:8080/"
        },
        "id": "_ueAWxbVQgdB",
        "outputId": "73cdcb3a-c855-4b68-c5bf-474ef8cbf52d"
      },
      "execution_count": 38,
      "outputs": [
        {
          "output_type": "stream",
          "name": "stdout",
          "text": [
            "Total files: 0\n",
            "Sample files: []\n"
          ]
        }
      ]
    },
    {
      "cell_type": "code",
      "source": [
        "import os\n",
        "\n",
        "folder = \"/content/drive/MyDrive/ASVspoof2021/keys/DF/CM\"\n",
        "print(\"Files in folder:\", os.listdir(folder))\n"
      ],
      "metadata": {
        "colab": {
          "base_uri": "https://localhost:8080/"
        },
        "id": "GtwgWup3j6IO",
        "outputId": "57215095-8473-41ca-c520-7dfaf5abf923"
      },
      "execution_count": 41,
      "outputs": [
        {
          "output_type": "stream",
          "name": "stdout",
          "text": [
            "Files in folder: ['RawNet2', 'LFCC-GMM', 'LFCC-LCNN', 'CQCC-GMM', 'trial_metadata.txt']\n"
          ]
        }
      ]
    },
    {
      "cell_type": "code",
      "source": [
        "import os\n",
        "\n",
        "cm_dir = \"/content/drive/MyDrive/ASVspoof2021/keys/DF/CM\"\n",
        "print(\"📁 Contents of CM directory:\", os.listdir(cm_dir))\n"
      ],
      "metadata": {
        "colab": {
          "base_uri": "https://localhost:8080/"
        },
        "id": "hB0dCeYN8P4s",
        "outputId": "1c7f93ca-f016-456d-80cb-44d91c8982ae"
      },
      "execution_count": 42,
      "outputs": [
        {
          "output_type": "stream",
          "name": "stdout",
          "text": [
            "📁 Contents of CM directory: ['RawNet2', 'LFCC-GMM', 'LFCC-LCNN', 'CQCC-GMM', 'trial_metadata.txt']\n"
          ]
        }
      ]
    },
    {
      "cell_type": "code",
      "source": [
        "import os\n",
        "\n",
        "\n",
        "flac_dir = \"/content/drive/MyDrive/ASVspoof2021/ASVspoof2021_DF_eval/flac\"\n",
        "meta_file = \"/content/drive/MyDrive/ASVspoof2021/keys/DF/CM/trial_metadata.txt\"\n",
        "\n",
        "\n",
        "assert os.path.exists(flac_dir), \"FLAC directory not found!\"\n",
        "assert os.path.exists(meta_file), \"Metadata file not found!\"\n",
        "\n",
        "\n",
        "file_label_pairs = []\n",
        "with open(meta_file, \"r\") as f:\n",
        "    for line in f:\n",
        "        parts = line.strip().split()\n",
        "        if len(parts) < 4:\n",
        "            continue\n",
        "\n",
        "        file_name = parts[1]\n",
        "        label = 1 if parts[3] == \"bonafide\" else 0\n",
        "        full_path = os.path.join(flac_dir, file_name + \".flac\")\n",
        "\n",
        "        if os.path.exists(full_path):\n",
        "            file_label_pairs.append((full_path, label))\n",
        "\n",
        "print(f\"✅ Parsed {len(file_label_pairs)} valid metadata entries.\")\n",
        "print(\"🔹 Sample:\", file_label_pairs[:3])\n",
        "\n",
        "\n"
      ],
      "metadata": {
        "colab": {
          "base_uri": "https://localhost:8080/"
        },
        "id": "dJk2cjJ3qz_9",
        "outputId": "9fd53965-d402-4ce4-ff89-5b4ebe8d889c"
      },
      "execution_count": 43,
      "outputs": [
        {
          "output_type": "stream",
          "name": "stdout",
          "text": [
            "✅ Parsed 2231 valid metadata entries.\n",
            "🔹 Sample: [('/content/drive/MyDrive/ASVspoof2021/ASVspoof2021_DF_eval/flac/DF_E_2000011.flac', 0), ('/content/drive/MyDrive/ASVspoof2021/ASVspoof2021_DF_eval/flac/DF_E_2000013.flac', 0), ('/content/drive/MyDrive/ASVspoof2021/ASVspoof2021_DF_eval/flac/DF_E_2000024.flac', 0)]\n"
          ]
        }
      ]
    },
    {
      "cell_type": "code",
      "source": [
        "import torch\n",
        "import torchaudio\n",
        "import torch.nn.functional as F\n",
        "from torch.utils.data import Dataset, DataLoader\n",
        "import random\n",
        "\n",
        "\n",
        "class RawAudioDataset(Dataset):\n",
        "    def __init__(self, file_label_pairs, target_length=48000, transform=None):\n",
        "        self.file_label_pairs = file_label_pairs\n",
        "        self.target_length = target_length\n",
        "        self.transform = transform\n",
        "\n",
        "    def __len__(self):\n",
        "        return len(self.file_label_pairs)\n",
        "\n",
        "    def __getitem__(self, idx):\n",
        "        audio_path, label = self.file_label_pairs[idx]\n",
        "\n",
        "        try:\n",
        "            waveform, sample_rate = torchaudio.load(audio_path)\n",
        "        except Exception as e:\n",
        "            print(f\"⚠️ Failed to load {audio_path}: {e}\")\n",
        "            return torch.zeros(1, self.target_length), torch.tensor(0.0)\n",
        "\n",
        "\n",
        "        if waveform.shape[0] > 1:\n",
        "            waveform = torch.mean(waveform, dim=0, keepdim=True)\n",
        "\n",
        "\n",
        "        if waveform.shape[1] < self.target_length:\n",
        "            pad_len = self.target_length - waveform.shape[1]\n",
        "            waveform = F.pad(waveform, (0, pad_len))\n",
        "        else:\n",
        "            waveform = waveform[:, :self.target_length]\n",
        "\n",
        "        return waveform, torch.tensor(label, dtype=torch.float)\n",
        "\n",
        "\n",
        "random.shuffle(file_label_pairs)\n",
        "total_len = len(file_label_pairs)\n",
        "train_len = int(0.8 * total_len)\n",
        "\n",
        "train_files = file_label_pairs[:train_len]\n",
        "val_files = file_label_pairs[train_len:]\n",
        "\n",
        "\n",
        "train_dataset = RawAudioDataset(train_files)\n",
        "val_dataset = RawAudioDataset(val_files)\n",
        "\n",
        "\n",
        "train_loader = DataLoader(train_dataset, batch_size=16, shuffle=True)\n",
        "val_loader = DataLoader(val_dataset, batch_size=16, shuffle=False)\n",
        "\n",
        "print(f\"✅ Dataloaders ready! Train: {len(train_dataset)}, Val: {len(val_dataset)}\")\n",
        "\n"
      ],
      "metadata": {
        "colab": {
          "base_uri": "https://localhost:8080/"
        },
        "id": "tGuAUO6trmwg",
        "outputId": "a9f72c3e-5a3e-4e41-8dca-37feff5e9b81"
      },
      "execution_count": 44,
      "outputs": [
        {
          "output_type": "stream",
          "name": "stdout",
          "text": [
            "✅ Dataloaders ready! Train: 1784, Val: 447\n"
          ]
        }
      ]
    },
    {
      "cell_type": "code",
      "source": [
        "parsed_data = [\n",
        "    (\"/content/drive/MyDrive/ASVspoof2021/ASVspoof2021_DF_eval/flac/\" + line.split()[1] + \".flac\",\n",
        "     0 if line.split()[5] == \"bonafide\" else 1)\n",
        "    for line in open(\"/content/drive/MyDrive/ASVspoof2021/keys/DF/CM/trial_metadata.txt\").readlines()\n",
        "    if os.path.exists(\"/content/drive/MyDrive/ASVspoof2021/ASVspoof2021_DF_eval/flac/\" + line.split()[1] + \".flac\")\n",
        "]\n"
      ],
      "metadata": {
        "id": "WGxhsYWbtEez"
      },
      "execution_count": 45,
      "outputs": []
    },
    {
      "cell_type": "code",
      "source": [
        "import os\n",
        "\n",
        "audio_dir = \"/content/drive/MyDrive/ASVspoof2021/ASVspoof2021_DF_eval/flac/\"\n",
        "flac_files = [f for f in os.listdir(audio_dir) if f.endswith(\".flac\")]\n",
        "print(f\"🎧 Total audio files found: {len(flac_files)}\")\n"
      ],
      "metadata": {
        "colab": {
          "base_uri": "https://localhost:8080/"
        },
        "id": "WE1UoZZvmy6S",
        "outputId": "961baca2-2de0-4605-8cde-fc3b7b2c324b"
      },
      "execution_count": 44,
      "outputs": [
        {
          "output_type": "stream",
          "name": "stdout",
          "text": [
            "🎧 Total audio files found: 2231\n"
          ]
        }
      ]
    },
    {
      "cell_type": "code",
      "source": [
        "from collections import Counter\n",
        "\n",
        "metadata_path = \"/content/drive/MyDrive/ASVspoof2021/keys/DF/CM/trial_metadata.txt\"\n",
        "audio_dir = \"/content/drive/MyDrive/ASVspoof2021/ASVspoof2021_DF_eval/flac/\"\n",
        "\n",
        "parsed_data = []\n",
        "\n",
        "with open(metadata_path, \"r\") as f:\n",
        "    for line in f:\n",
        "        parts = line.strip().split()\n",
        "        if len(parts) < 6:\n",
        "            continue\n",
        "\n",
        "        file_id = parts[1]\n",
        "        label_str = parts[5]\n",
        "        file_path = os.path.join(audio_dir, file_id + \".flac\")\n",
        "\n",
        "        if os.path.exists(file_path):\n",
        "            label = 0 if label_str == \"bonafide\" else 1\n",
        "            parsed_data.append((file_path, label))\n",
        "\n",
        "# Count labels\n",
        "label_counts = Counter([label for _, label in parsed_data])\n",
        "print(f\"🧾 Parsed data size: {len(parsed_data)}\")\n",
        "print(f\"✅ Label distribution: {label_counts}\")\n"
      ],
      "metadata": {
        "colab": {
          "base_uri": "https://localhost:8080/"
        },
        "id": "a-S2yIYMnA_h",
        "outputId": "54a40cb1-6bb6-49d9-9972-be4495b9d05a"
      },
      "execution_count": 46,
      "outputs": [
        {
          "output_type": "stream",
          "name": "stdout",
          "text": [
            "🧾 Parsed data size: 2231\n",
            "✅ Label distribution: Counter({1: 2146, 0: 85})\n"
          ]
        }
      ]
    },
    {
      "cell_type": "code",
      "source": [
        "for i in range(5):\n",
        "    print(parsed_data[i])\n"
      ],
      "metadata": {
        "colab": {
          "base_uri": "https://localhost:8080/"
        },
        "id": "nVMv4Mdjnp9i",
        "outputId": "819f72e5-dc2b-4ff8-e2ea-dda2bcc4bbbd"
      },
      "execution_count": 47,
      "outputs": [
        {
          "output_type": "stream",
          "name": "stdout",
          "text": [
            "('/content/drive/MyDrive/ASVspoof2021/ASVspoof2021_DF_eval/flac/DF_E_2000011.flac', 1)\n",
            "('/content/drive/MyDrive/ASVspoof2021/ASVspoof2021_DF_eval/flac/DF_E_2000013.flac', 1)\n",
            "('/content/drive/MyDrive/ASVspoof2021/ASVspoof2021_DF_eval/flac/DF_E_2000024.flac', 1)\n",
            "('/content/drive/MyDrive/ASVspoof2021/ASVspoof2021_DF_eval/flac/DF_E_2000026.flac', 1)\n",
            "('/content/drive/MyDrive/ASVspoof2021/ASVspoof2021_DF_eval/flac/DF_E_2000027.flac', 1)\n"
          ]
        }
      ]
    },
    {
      "cell_type": "code",
      "source": [
        "import os\n",
        "import tarfile\n",
        "\n",
        "\n",
        "archive_path = \"/content/drive/MyDrive/ASVspoof2021/ASVspoof2021_DF_eval.tar.gz\"\n",
        "extract_to = \"/content/drive/MyDrive/ASVspoof2021/ASVspoof2021_DF_eval/flac\"\n"
      ],
      "metadata": {
        "id": "F9CWqu2dP3YN"
      },
      "execution_count": 48,
      "outputs": []
    },
    {
      "cell_type": "code",
      "source": [
        "import os\n",
        "from collections import defaultdict\n",
        "\n",
        "metadata_path = \"/content/drive/MyDrive/ASVspoof2021/keys/DF/CM/trial_metadata.txt\"\n",
        "audio_base_path = \"/content/drive/MyDrive/ASVspoof2021/ASVspoof2021_DF_eval/flac/\"\n",
        "\n",
        "bonafide_list = []\n",
        "spoof_list = []\n",
        "\n",
        "with open(metadata_path, \"r\") as f:\n",
        "    for line in f:\n",
        "        parts = line.strip().split()\n",
        "        file_id = parts[1]\n",
        "        label = parts[5]\n",
        "\n",
        "        file_path = os.path.join(audio_base_path, f\"{file_id}.flac\")\n",
        "        if os.path.exists(file_path):\n",
        "            if label == \"bonafide\":\n",
        "                bonafide_list.append((file_path, 0))\n",
        "            else:\n",
        "                spoof_list.append((file_path, 1))\n"
      ],
      "metadata": {
        "id": "lnZDQEn6ONXP"
      },
      "execution_count": 49,
      "outputs": []
    },
    {
      "cell_type": "code",
      "source": [
        "import random\n",
        "\n",
        "target_size = min(len(bonafide_list), len(spoof_list))\n",
        "print(f\"✅ Using {target_size} spoof and bonafide samples each.\")\n",
        "\n",
        "bonafide_sampled = random.sample(bonafide_list, target_size)\n",
        "spoof_sampled = random.sample(spoof_list, target_size)\n",
        "\n",
        "balanced_data = bonafide_sampled + spoof_sampled\n",
        "random.shuffle(balanced_data)\n",
        "\n",
        "\n",
        "from collections import Counter\n",
        "labels = [label for _, label in balanced_data]\n",
        "print(\"✅ Balanced label distribution:\", Counter(labels))\n"
      ],
      "metadata": {
        "colab": {
          "base_uri": "https://localhost:8080/"
        },
        "id": "c0Pzigc2OUB-",
        "outputId": "3063be9a-d3f8-4c13-a8af-9ca64e7193f3"
      },
      "execution_count": 50,
      "outputs": [
        {
          "output_type": "stream",
          "name": "stdout",
          "text": [
            "✅ Using 85 spoof and bonafide samples each.\n",
            "✅ Balanced label distribution: Counter({0: 85, 1: 85})\n"
          ]
        }
      ]
    },
    {
      "cell_type": "code",
      "source": [
        "import os\n",
        "import random\n",
        "\n",
        "# Paths\n",
        "flac_dir = \"/content/drive/MyDrive/ASVspoof2021/ASVspoof2021_DF_eval/flac\"\n",
        "\n",
        "\n",
        "metadata_path = \"/content/drive/MyDrive/ASVspoof2021/keys/DF/CM/trial_metadata.txt\"\n",
        "bonafide_ids = set()\n",
        "\n",
        "with open(metadata_path, \"r\") as f:\n",
        "    for line in f:\n",
        "        parts = line.strip().split()\n",
        "        if parts[5].lower() == \"bonafide\":\n",
        "            bonafide_ids.add(parts[1])\n",
        "\n",
        "\n",
        "all_flacs = [f for f in os.listdir(flac_dir) if f.endswith(\".flac\")]\n",
        "bonafide_flacs = [f for f in all_flacs if f[:-5] in bonafide_ids]\n",
        "spoof_flacs = [f for f in all_flacs if f[:-5] not in bonafide_ids]\n",
        "\n",
        "\n",
        "bonafide_selected = bonafide_flacs[:93]\n",
        "spoof_selected = random.sample(spoof_flacs, 93)\n",
        "\n",
        "print(f\"🎯 Bonafide selected: {len(bonafide_selected)}\")\n",
        "print(f\"🎯 Spoof selected: {len(spoof_selected)}\")\n"
      ],
      "metadata": {
        "colab": {
          "base_uri": "https://localhost:8080/"
        },
        "id": "6WeeZf-vOEkm",
        "outputId": "7096369c-6878-447e-b170-8f235968c497"
      },
      "execution_count": 51,
      "outputs": [
        {
          "output_type": "stream",
          "name": "stdout",
          "text": [
            "🎯 Bonafide selected: 85\n",
            "🎯 Spoof selected: 93\n"
          ]
        }
      ]
    },
    {
      "cell_type": "code",
      "source": [
        "import random\n",
        "import numpy as np\n",
        "\n",
        "\n",
        "bonafide_samples = [s for s in parsed_data if s[1] == 0]\n",
        "spoof_samples = [s for s in parsed_data if s[1] == 1]\n",
        "\n",
        "\n",
        "target_per_class = min(len(bonafide_samples), len(spoof_samples), 1000)\n",
        "\n",
        "bonafide_balanced = random.sample(bonafide_samples, target_per_class)\n",
        "spoof_balanced = random.sample(spoof_samples, target_per_class)\n",
        "\n",
        "\n",
        "balanced_data = bonafide_balanced + spoof_balanced\n",
        "random.shuffle(balanced_data)\n",
        "\n",
        "\n",
        "from sklearn.model_selection import train_test_split\n",
        "\n",
        "X = [x[0] for x in balanced_data]\n",
        "y = [x[1] for x in balanced_data]\n",
        "\n",
        "X_train, X_val, y_train, y_val = train_test_split(\n",
        "    X, y, test_size=0.2, stratify=y, random_state=42\n",
        ")\n",
        "\n",
        "train_data = list(zip(X_train, y_train))\n",
        "val_data = list(zip(X_val, y_val))\n",
        "\n",
        "print(\"✅ Train label counts:\", np.bincount(y_train))\n",
        "print(\"✅ Val label counts:\", np.bincount(y_val))\n"
      ],
      "metadata": {
        "colab": {
          "base_uri": "https://localhost:8080/"
        },
        "id": "LZD7rxn5e8qU",
        "outputId": "5719c4ba-2f96-431a-86e3-876f6f7f1624"
      },
      "execution_count": 52,
      "outputs": [
        {
          "output_type": "stream",
          "name": "stdout",
          "text": [
            "✅ Train label counts: [68 68]\n",
            "✅ Val label counts: [17 17]\n"
          ]
        }
      ]
    },
    {
      "cell_type": "code",
      "source": [
        "import random\n",
        "\n",
        "\n",
        "bonafide_samples = [sample for sample in parsed_data if sample[1] == 0]\n",
        "spoof_samples = [sample for sample in parsed_data if sample[1] == 1]\n",
        "\n",
        "\n",
        "downsampled_spoof = random.sample(spoof_samples, len(bonafide_samples))\n",
        "\n",
        "\n",
        "balanced_data = bonafide_samples + downsampled_spoof\n",
        "random.shuffle(balanced_data)\n",
        "\n",
        "\n",
        "import numpy as np\n",
        "labels = [label for _, label in balanced_data]\n",
        "print(\"✅ Balanced label distribution:\", np.bincount(labels))\n"
      ],
      "metadata": {
        "colab": {
          "base_uri": "https://localhost:8080/"
        },
        "id": "NZd1MVPxbMka",
        "outputId": "dccfa409-9714-475e-96b0-75c66bd0f489"
      },
      "execution_count": 53,
      "outputs": [
        {
          "output_type": "stream",
          "name": "stdout",
          "text": [
            "✅ Balanced label distribution: [85 85]\n"
          ]
        }
      ]
    },
    {
      "cell_type": "code",
      "source": [
        "from sklearn.model_selection import train_test_split\n",
        "\n",
        "X = [x[0] for x in balanced_data]\n",
        "y = [x[1] for x in balanced_data]\n",
        "\n",
        "X_train, X_val, y_train, y_val = train_test_split(\n",
        "    X, y, test_size=0.2, stratify=y, random_state=42\n",
        ")\n",
        "\n",
        "train_data = list(zip(X_train, y_train))\n",
        "val_data = list(zip(X_val, y_val))\n",
        "\n",
        "print(\"🧪 Train label counts:\", np.bincount(y_train))\n",
        "print(\"🧪 Val label counts:\", np.bincount(y_val))\n",
        "\n"
      ],
      "metadata": {
        "colab": {
          "base_uri": "https://localhost:8080/"
        },
        "id": "jcuUIwmstE_5",
        "outputId": "35fcd4ef-ab83-48b5-cf30-935edbbe0995"
      },
      "execution_count": 54,
      "outputs": [
        {
          "output_type": "stream",
          "name": "stdout",
          "text": [
            "🧪 Train label counts: [68 68]\n",
            "🧪 Val label counts: [17 17]\n"
          ]
        }
      ]
    },
    {
      "cell_type": "code",
      "source": [
        "train_dataset = RawAudioDataset(train_data)\n",
        "val_dataset = RawAudioDataset(val_data)\n",
        "\n",
        "train_loader = DataLoader(train_dataset, batch_size=16, shuffle=True, num_workers=2)\n",
        "val_loader = DataLoader(val_dataset, batch_size=16, shuffle=False, num_workers=2)\n",
        "\n"
      ],
      "metadata": {
        "id": "OMeelm_lKFqi"
      },
      "execution_count": 55,
      "outputs": []
    },
    {
      "cell_type": "code",
      "source": [
        "val_labels_only = [label for _, label in val_data]\n",
        "print(\"🧪 Val label counts:\", np.bincount(val_labels_only))\n"
      ],
      "metadata": {
        "colab": {
          "base_uri": "https://localhost:8080/"
        },
        "id": "HoJgKduSHxts",
        "outputId": "2b2a08f2-a8f1-41a1-e9b2-ac32c5c28fe4"
      },
      "execution_count": 56,
      "outputs": [
        {
          "output_type": "stream",
          "name": "stdout",
          "text": [
            "🧪 Val label counts: [17 17]\n"
          ]
        }
      ]
    },
    {
      "cell_type": "code",
      "source": [
        "import torch\n",
        "import torch.nn as nn\n",
        "import torch.nn.functional as F\n",
        "\n",
        "class RawNet2(nn.Module):\n",
        "    def __init__(self):\n",
        "        super(RawNet2, self).__init__()\n",
        "\n",
        "\n",
        "        self.conv1 = nn.Sequential(\n",
        "            nn.Conv1d(1, 128, kernel_size=3, stride=3),\n",
        "            nn.BatchNorm1d(128),\n",
        "            nn.ReLU(),\n",
        "        )\n",
        "\n",
        "\n",
        "        self.resblock1 = self._make_resblock(128, 128)\n",
        "        self.resblock2 = self._make_resblock(128, 256)\n",
        "        self.resblock3 = self._make_resblock(256, 512)\n",
        "\n",
        "\n",
        "        self.gru = nn.GRU(input_size=512, hidden_size=128, num_layers=1, batch_first=True)\n",
        "        self.fc = nn.Linear(128, 1)\n",
        "\n",
        "    def _make_resblock(self, in_channels, out_channels):\n",
        "        return nn.Sequential(\n",
        "            nn.Conv1d(in_channels, out_channels, kernel_size=3, stride=1, padding=1),\n",
        "            nn.BatchNorm1d(out_channels),\n",
        "            nn.ReLU(),\n",
        "            nn.Conv1d(out_channels, out_channels, kernel_size=3, stride=1, padding=1),\n",
        "            nn.BatchNorm1d(out_channels),\n",
        "        )\n",
        "\n",
        "    def forward(self, x):\n",
        "        x = self.conv1(x)\n",
        "        x = self.resblock1(x) + x\n",
        "        x = self.resblock2(x)\n",
        "        x = self.resblock3(x)\n",
        "        x = x.permute(0, 2, 1)  # [B, T, C]\n",
        "        _, h_n = self.gru(x)\n",
        "        h_n = h_n.squeeze(0)\n",
        "        out = self.fc(h_n)\n",
        "        return out\n"
      ],
      "metadata": {
        "id": "y6f6E6QzulnG"
      },
      "execution_count": 57,
      "outputs": []
    },
    {
      "cell_type": "code",
      "source": [
        "device = torch.device(\"cuda\" if torch.cuda.is_available() else \"cpu\")\n",
        "\n",
        "model = RawNet2().to(device)\n",
        "criterion = torch.nn.BCEWithLogitsLoss()\n",
        "\n",
        "optimizer = torch.optim.Adam(model.parameters(), lr=1e-4)\n"
      ],
      "metadata": {
        "id": "f1ARbf1AunUj"
      },
      "execution_count": 58,
      "outputs": []
    },
    {
      "cell_type": "code",
      "source": [
        "batch_size = 4\n",
        "\n"
      ],
      "metadata": {
        "id": "P5gq7UjOuqHw"
      },
      "execution_count": 59,
      "outputs": []
    },
    {
      "cell_type": "code",
      "source": [
        "train_loader = DataLoader(train_dataset, batch_size=batch_size, shuffle=True)\n",
        "val_loader = DataLoader(val_dataset, batch_size=batch_size)\n"
      ],
      "metadata": {
        "id": "QpDdV4-U92E_"
      },
      "execution_count": 60,
      "outputs": []
    },
    {
      "cell_type": "code",
      "source": [
        "import torch\n",
        "torch.cuda.empty_cache()\n"
      ],
      "metadata": {
        "id": "d5TeygfA94hT"
      },
      "execution_count": 61,
      "outputs": []
    },
    {
      "cell_type": "code",
      "source": [
        "import torch\n",
        "import torch.nn as nn\n",
        "\n",
        "\n",
        "device = torch.device(\"cuda\" if torch.cuda.is_available() else \"cpu\")\n",
        "model = RawNet2().to(device)\n",
        "\n",
        "\n",
        "\n",
        "\n",
        "for param in model.parameters():\n",
        "    param.requires_grad = False\n",
        "\n",
        "\n",
        "for param in model.fc.parameters():\n",
        "    param.requires_grad = True\n",
        "\n",
        "\n",
        "criterion = nn.BCEWithLogitsLoss()\n",
        "optimizer = torch.optim.Adam(filter(lambda p: p.requires_grad, model.parameters()), lr=0.001)\n",
        "\n",
        "def train(model, dataloader, criterion, optimizer, epochs=5):\n",
        "    model.train()\n",
        "    for epoch in range(epochs):\n",
        "        total_loss = 0\n",
        "        correct = 0\n",
        "        total = 0\n",
        "\n",
        "        for features, labels in dataloader:\n",
        "            features, labels = features.to(device), labels.to(device).float()\n",
        "\n",
        "            optimizer.zero_grad()\n",
        "            outputs = model(features).squeeze()\n",
        "            loss = criterion(outputs, labels)\n",
        "            loss.backward()\n",
        "            optimizer.step()\n",
        "\n",
        "            total_loss += loss.item()\n",
        "            preds = torch.round(torch.sigmoid(outputs))\n",
        "            correct += (preds == labels).sum().item()\n",
        "            total += labels.size(0)\n",
        "\n",
        "        acc = correct / total\n",
        "        print(f\"Epoch {epoch+1}: Loss = {total_loss:.4f}, Accuracy = {acc:.4f}\")\n",
        "\n",
        "\n"
      ],
      "metadata": {
        "id": "G5wIKVMDPyxf"
      },
      "execution_count": 62,
      "outputs": []
    },
    {
      "cell_type": "code",
      "source": [
        "train(model, train_loader, criterion, optimizer)\n",
        "\n"
      ],
      "metadata": {
        "colab": {
          "base_uri": "https://localhost:8080/"
        },
        "id": "mzzT7ODOAVCk",
        "outputId": "683dbd13-999d-4d99-9a0e-8d9b9828292c"
      },
      "execution_count": 68,
      "outputs": [
        {
          "output_type": "stream",
          "name": "stdout",
          "text": [
            "Epoch 1: Loss = 23.8598, Accuracy = 0.4485\n",
            "Epoch 2: Loss = 23.5800, Accuracy = 0.5000\n",
            "Epoch 3: Loss = 23.5141, Accuracy = 0.5074\n",
            "Epoch 4: Loss = 23.4110, Accuracy = 0.5147\n",
            "Epoch 5: Loss = 23.2845, Accuracy = 0.5294\n"
          ]
        }
      ]
    },
    {
      "cell_type": "code",
      "source": [
        "torch.save(model.state_dict(), 'rawnet2_trained.pth')\n"
      ],
      "metadata": {
        "id": "O93roLScGJ1_"
      },
      "execution_count": 69,
      "outputs": []
    },
    {
      "cell_type": "code",
      "source": [
        "torch.save(model.state_dict(), '/content/drive/MyDrive/rawnet2_trained.pth')\n"
      ],
      "metadata": {
        "id": "2N7ewCCHGKAp"
      },
      "execution_count": 70,
      "outputs": []
    },
    {
      "cell_type": "code",
      "source": [
        "from sklearn.metrics import accuracy_score, precision_score, recall_score, f1_score\n",
        "\n",
        "def evaluate_model(model, val_loader, threshold=0.5):\n",
        "    model.eval()\n",
        "    all_preds = []\n",
        "    all_labels = []\n",
        "\n",
        "    with torch.no_grad():\n",
        "        for inputs, labels in val_loader:\n",
        "            inputs = inputs.to(device)\n",
        "            labels = labels.to(device)\n",
        "            outputs = model(inputs).squeeze()\n",
        "\n",
        "            preds = (outputs > threshold).int()\n",
        "            all_preds.extend(preds.cpu().numpy())\n",
        "            all_labels.extend(labels.cpu().numpy())\n",
        "\n",
        "    accuracy = accuracy_score(all_labels, all_preds)\n",
        "    precision = precision_score(all_labels, all_preds)\n",
        "    recall = recall_score(all_labels, all_preds)\n",
        "    f1 = f1_score(all_labels, all_preds)\n",
        "\n",
        "    print(f\"✅ Accuracy: {accuracy:.4f}\")\n",
        "    print(f\"✅ Precision: {precision:.4f}\")\n",
        "    print(f\"✅ Recall: {recall:.4f}\")\n",
        "    print(f\"✅ F1-score: {f1:.4f}\")\n"
      ],
      "metadata": {
        "id": "UREF7MqMGKXP"
      },
      "execution_count": 71,
      "outputs": []
    },
    {
      "cell_type": "code",
      "source": [
        "evaluate_model(model, val_loader)\n"
      ],
      "metadata": {
        "colab": {
          "base_uri": "https://localhost:8080/"
        },
        "id": "ogzEIw85GcPh",
        "outputId": "029087ac-4ec2-46b4-971f-9597293b68c2"
      },
      "execution_count": 72,
      "outputs": [
        {
          "output_type": "stream",
          "name": "stdout",
          "text": [
            "✅ Accuracy: 0.5000\n",
            "✅ Precision: 0.0000\n",
            "✅ Recall: 0.0000\n",
            "✅ F1-score: 0.0000\n"
          ]
        },
        {
          "output_type": "stream",
          "name": "stderr",
          "text": [
            "/usr/local/lib/python3.11/dist-packages/sklearn/metrics/_classification.py:1565: UndefinedMetricWarning: Precision is ill-defined and being set to 0.0 due to no predicted samples. Use `zero_division` parameter to control this behavior.\n",
            "  _warn_prf(average, modifier, f\"{metric.capitalize()} is\", len(result))\n"
          ]
        }
      ]
    }
  ]
}